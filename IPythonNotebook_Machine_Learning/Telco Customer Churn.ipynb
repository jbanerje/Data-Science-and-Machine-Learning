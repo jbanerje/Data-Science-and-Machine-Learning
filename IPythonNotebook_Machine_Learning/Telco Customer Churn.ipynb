{
 "cells": [
  {
   "cell_type": "markdown",
   "metadata": {},
   "source": [
    "# TELCO CUSTOMER CHURN\n",
    "### Focused customer retention programs"
   ]
  },
  {
   "cell_type": "markdown",
   "metadata": {},
   "source": [
    "### Who is Telco ?\n",
    "Telco Systems is market-leading solutions enable service providers to create and operate high quality, service assured, carrier-grade, intelligent networks. They bring over 40 years of experience to the design and development of advanced, high-performance telecom network communications solutions. \n",
    "\n",
    "Telco provide the capabilities for service differentiation that enable new forms of revenue production, maximizing network profitability. Service providers, large and small, depend on our consistent delivery of advanced solutions, enabling them to stay ahead of the capacity crunch while keeping total cost of ownership to a minimum.\n",
    "\n",
    "(Refrence - http://www.telco.com/index.php?page=company-profile)"
   ]
  },
  {
   "cell_type": "markdown",
   "metadata": {},
   "source": [
    "### Business Objective\n",
    "\n",
    "Every retailer is concerned about high customer churn rate. Churn rate the number of customers who drop out of the buying cycle. It could be non renewal of a loyalty program, or unhappy customers going in search of a better service. One of the key things for the busines to run is loyal customeers , meaning minimize the churn rate.\n",
    "\n",
    "#### Business objective of this exercise :\n",
    "1. Analyze customer data to understand reason for churn  and who could be the next potential customer to leave the company\n",
    "2. What contributes to the higher churn rate of customer and what could be some of the probable solution to address the same.\n",
    "\n",
    "#### What type of problem is it ?\n",
    "Supervised Machine Learning -  Classfication problem\n",
    "\n",
    "#### How should performance be measured ?\n",
    "Model performance of at least 70% is expected\n",
    "\n",
    "#### Assumptions made :\n",
    "1. The sample data is correct represetation of the entire population and is randomly selected\n",
    "2. The columns in the dataset are exhaustive list of features that determine churn rate"
   ]
  },
  {
   "cell_type": "markdown",
   "metadata": {},
   "source": [
    "#### Customer churn rate in the United States in 2017, by industry\n",
    "Credit : https://www.statista.com/statistics/816735/customer-churn-rate-by-industry-us/\n",
    "\n",
    "Looks like cable industry has highest churn rate.\n",
    "<img src=\"files/customer_churn_rate.png\">"
   ]
  },
  {
   "cell_type": "markdown",
   "metadata": {},
   "source": [
    "### Content of the dataset\n",
    "Each row represents a customer, each column contains customer’s attributes described on the column Metadata.\n",
    "\n",
    "The data set includes information about:\n",
    "\n",
    "1. Customers who left within the last month – the column is called Churn\n",
    "2. Services that each customer has signed up for – phone, multiple lines, internet, online security, online backup, device protection, tech support, and streaming TV and movies\n",
    "3. Customer account information – how long they’ve been a customer, contract, payment method, paperless billing, monthly charges, and total charges\n",
    "4. Demographic info about customers – gender, age range, and if they have partners and dependents"
   ]
  },
  {
   "cell_type": "markdown",
   "metadata": {},
   "source": [
    "## Import Libraries"
   ]
  },
  {
   "cell_type": "code",
   "execution_count": 1,
   "metadata": {},
   "outputs": [],
   "source": [
    "#importing the libraries\n",
    "\n",
    "#Data Processing Libraries\n",
    "import numpy as np\n",
    "import pandas as pd\n",
    "\n",
    "#Data Vizuaization Libraries\n",
    "import matplotlib.pyplot as plt\n",
    "import seaborn as sns\n",
    "\n",
    "# Pretty display for notebooks\n",
    "%matplotlib inline\n",
    "\n",
    "# Machine Learning Library\n",
    "from sklearn.preprocessing import LabelEncoder # Encode Categorical Variable to Numerical Variable\n",
    "from sklearn.preprocessing import Imputer # Imputer Class to replace missing values\n",
    "from sklearn.metrics import confusion_matrix # Library for model evaluation\n",
    "from sklearn.metrics import accuracy_score # Library for model evaluation\n",
    "from sklearn.model_selection import train_test_split # Library to split datset into test and train\n",
    "\n",
    "from sklearn.linear_model  import LogisticRegression # Logistic Regression Classifier\n",
    "from sklearn.linear_model import SGDClassifier # Stochastic Gradient Descent Classifier\n",
    "from sklearn.tree import DecisionTreeClassifier # Decision Tree Classifier\n",
    "from sklearn.ensemble  import RandomForestClassifier # Random Forest Classifier\n",
    "from sklearn.neighbors import KNeighborsClassifier # K Nearest neighbors Classifier\n",
    "from sklearn.naive_bayes import GaussianNB #Naive Bayes Classifier\n",
    "from sklearn.svm import SVC #Support vector Machine Classifier\n",
    "from sklearn.ensemble import AdaBoostClassifier # Ada Boost Classifier\n",
    "from sklearn.metrics import accuracy_score, f1_score, precision_score, recall_score, classification_report, confusion_matrix\n",
    "from sklearn.model_selection import cross_val_score\n",
    "from sklearn.metrics import precision_recall_curve\n",
    "from sklearn.metrics import average_precision_score\n",
    "\n",
    "#Ignoring the warnings\n",
    "import warnings\n",
    "warnings.filterwarnings('ignore')"
   ]
  },
  {
   "cell_type": "markdown",
   "metadata": {},
   "source": [
    "## Get Data\n",
    "\n",
    "1. Source of data  - https://www.kaggle.com/blastchar/telco-customer-churn\n",
    "2. Space - 955 KB\n",
    "3. Legal Obligations - Free Dataset"
   ]
  },
  {
   "cell_type": "code",
   "execution_count": 2,
   "metadata": {},
   "outputs": [],
   "source": [
    "# Read .csv file from location and load into pandas DataFrame\n",
    "datset_churn = pd.read_csv('https://github.com/jbanerje/Data-Science-and-Machine-Learning/tree/master/data/WA_Fn-UseC_-Telco-Customer-Churn.csv')"
   ]
  },
  {
   "cell_type": "code",
   "execution_count": 3,
   "metadata": {},
   "outputs": [],
   "source": [
    "datset_churn_copy = datset_churn.copy() # Keeping a backup of original datset"
   ]
  },
  {
   "cell_type": "markdown",
   "metadata": {},
   "source": [
    "### Basic Overview of dataset"
   ]
  },
  {
   "cell_type": "markdown",
   "metadata": {},
   "source": [
    "#### Find out total rows and columns or shapes of the dataset"
   ]
  },
  {
   "cell_type": "code",
   "execution_count": 4,
   "metadata": {},
   "outputs": [
    {
     "data": {
      "text/plain": [
       "(7043, 21)"
      ]
     },
     "execution_count": 4,
     "metadata": {},
     "output_type": "execute_result"
    }
   ],
   "source": [
    "datset_churn.shape  # output = (rows, columns)"
   ]
  },
  {
   "cell_type": "markdown",
   "metadata": {},
   "source": [
    "There are 7043 rows and 21 columns including the target/output variable."
   ]
  },
  {
   "cell_type": "markdown",
   "metadata": {},
   "source": [
    "#### Let's get the column names/information"
   ]
  },
  {
   "cell_type": "code",
   "execution_count": 6,
   "metadata": {},
   "outputs": [
    {
     "name": "stdout",
     "output_type": "stream",
     "text": [
      "['customerID' 'gender' 'SeniorCitizen' 'Partner' 'Dependents' 'tenure'\n",
      " 'PhoneService' 'MultipleLines' 'InternetService' 'OnlineSecurity'\n",
      " 'OnlineBackup' 'DeviceProtection' 'TechSupport' 'StreamingTV'\n",
      " 'StreamingMovies' 'Contract' 'PaperlessBilling' 'PaymentMethod'\n",
      " 'MonthlyCharges' 'TotalCharges' 'Churn']\n"
     ]
    }
   ],
   "source": [
    "# Getting the column names\n",
    "print(datset_churn.columns.values)"
   ]
  },
  {
   "cell_type": "markdown",
   "metadata": {},
   "source": [
    "Observation -  Notice 'customerID' , 'gender' and 'tenure' in lowercase. We will rename to convert the first letter to uppercase"
   ]
  },
  {
   "cell_type": "code",
   "execution_count": 8,
   "metadata": {},
   "outputs": [
    {
     "name": "stdout",
     "output_type": "stream",
     "text": [
      "['CustomerID' 'Gender' 'SeniorCitizen' 'Partner' 'Dependents' 'Tenure'\n",
      " 'PhoneService' 'MultipleLines' 'InternetService' 'OnlineSecurity'\n",
      " 'OnlineBackup' 'DeviceProtection' 'TechSupport' 'StreamingTV'\n",
      " 'StreamingMovies' 'Contract' 'PaperlessBilling' 'PaymentMethod'\n",
      " 'MonthlyCharges' 'TotalCharges' 'Churn']\n"
     ]
    }
   ],
   "source": [
    "# Renaming the 3 columns.\n",
    "datset_churn = datset_churn.rename(columns={'customerID' : 'CustomerID' , 'gender': 'Gender', 'tenure':'Tenure'})\n",
    "print(datset_churn.columns.values)"
   ]
  },
  {
   "cell_type": "markdown",
   "metadata": {},
   "source": [
    "Target Variable or The variable we want to predict is 'Churn'\n",
    "\n",
    "Feature Variable  - All Other columns (First 20 columnns)\n",
    "\n",
    "1. Customers who left within the last month –  'Churn'\n",
    "2. Customer Services – 'PhoneService', 'MultipleLines', 'InternetService', 'OnlineSecurity', 'OnlineBackup' 'DeviceProtection', 'TechSupport', 'StreamingTV', 'StreamingMovies'\n",
    "3. Customer Account information – 'Tenure', 'Contract', 'PaperlessBilling', 'PaymentMethod', 'MonthlyCharges', 'TotalCharges'\n",
    "4. Customer Personal Information – 'Gender', 'SeniorCitizen', 'Partner', 'Dependents'"
   ]
  },
  {
   "cell_type": "code",
   "execution_count": 9,
   "metadata": {},
   "outputs": [
    {
     "name": "stdout",
     "output_type": "stream",
     "text": [
      "<class 'pandas.core.frame.DataFrame'>\n",
      "RangeIndex: 7043 entries, 0 to 7042\n",
      "Data columns (total 21 columns):\n",
      "CustomerID          7043 non-null object\n",
      "Gender              7043 non-null object\n",
      "SeniorCitizen       7043 non-null int64\n",
      "Partner             7043 non-null object\n",
      "Dependents          7043 non-null object\n",
      "Tenure              7043 non-null int64\n",
      "PhoneService        7043 non-null object\n",
      "MultipleLines       7043 non-null object\n",
      "InternetService     7043 non-null object\n",
      "OnlineSecurity      7043 non-null object\n",
      "OnlineBackup        7043 non-null object\n",
      "DeviceProtection    7043 non-null object\n",
      "TechSupport         7043 non-null object\n",
      "StreamingTV         7043 non-null object\n",
      "StreamingMovies     7043 non-null object\n",
      "Contract            7043 non-null object\n",
      "PaperlessBilling    7043 non-null object\n",
      "PaymentMethod       7043 non-null object\n",
      "MonthlyCharges      7043 non-null float64\n",
      "TotalCharges        7032 non-null float64\n",
      "Churn               7043 non-null object\n",
      "dtypes: float64(2), int64(2), object(17)\n",
      "memory usage: 1.1+ MB\n",
      "None\n"
     ]
    }
   ],
   "source": [
    "print(datset_churn.info())"
   ]
  },
  {
   "cell_type": "markdown",
   "metadata": {},
   "source": [
    "#### Which features are numerical?\n",
    "SeniorCitizen, Tenure, MonthlyCharges, TotalCharges\n",
    "\n",
    "Continous - Tenure, MonthlyCharges, TotalCharges\n",
    "Discrete  - SeniorCitizen\n",
    "\n",
    "#### Which features are categorical?\n",
    "PhoneService, MultipleLines, InternetService, OnlineSecurity, OnlineBackup DeviceProtection, TechSupport, StreamingTV, StreamingMovies, Contract, PaperlessBilling, PaymentMethod, gender, Partner, Dependents\n",
    "\n",
    "#### Which features are Nominal or Ordinal ?\n",
    "Ordinal data (variables with a meaningful order) - No.\n",
    "\n",
    "Nominal data (categories that have no meaningful order) - All Columns.\n",
    "\n",
    "#### Which features are mixed data types?\n",
    "None"
   ]
  },
  {
   "cell_type": "markdown",
   "metadata": {},
   "source": [
    "### Taking first look into data"
   ]
  },
  {
   "cell_type": "code",
   "execution_count": 10,
   "metadata": {},
   "outputs": [
    {
     "data": {
      "text/html": [
       "<div>\n",
       "<style scoped>\n",
       "    .dataframe tbody tr th:only-of-type {\n",
       "        vertical-align: middle;\n",
       "    }\n",
       "\n",
       "    .dataframe tbody tr th {\n",
       "        vertical-align: top;\n",
       "    }\n",
       "\n",
       "    .dataframe thead th {\n",
       "        text-align: right;\n",
       "    }\n",
       "</style>\n",
       "<table border=\"1\" class=\"dataframe\">\n",
       "  <thead>\n",
       "    <tr style=\"text-align: right;\">\n",
       "      <th></th>\n",
       "      <th>CustomerID</th>\n",
       "      <th>Gender</th>\n",
       "      <th>SeniorCitizen</th>\n",
       "      <th>Partner</th>\n",
       "      <th>Dependents</th>\n",
       "      <th>Tenure</th>\n",
       "      <th>PhoneService</th>\n",
       "      <th>MultipleLines</th>\n",
       "      <th>InternetService</th>\n",
       "      <th>OnlineSecurity</th>\n",
       "      <th>...</th>\n",
       "      <th>DeviceProtection</th>\n",
       "      <th>TechSupport</th>\n",
       "      <th>StreamingTV</th>\n",
       "      <th>StreamingMovies</th>\n",
       "      <th>Contract</th>\n",
       "      <th>PaperlessBilling</th>\n",
       "      <th>PaymentMethod</th>\n",
       "      <th>MonthlyCharges</th>\n",
       "      <th>TotalCharges</th>\n",
       "      <th>Churn</th>\n",
       "    </tr>\n",
       "  </thead>\n",
       "  <tbody>\n",
       "    <tr>\n",
       "      <th>0</th>\n",
       "      <td>7590-VHVEG</td>\n",
       "      <td>Female</td>\n",
       "      <td>0</td>\n",
       "      <td>Yes</td>\n",
       "      <td>No</td>\n",
       "      <td>1</td>\n",
       "      <td>No</td>\n",
       "      <td>No phone service</td>\n",
       "      <td>DSL</td>\n",
       "      <td>No</td>\n",
       "      <td>...</td>\n",
       "      <td>No</td>\n",
       "      <td>No</td>\n",
       "      <td>No</td>\n",
       "      <td>No</td>\n",
       "      <td>Month-to-month</td>\n",
       "      <td>Yes</td>\n",
       "      <td>Electronic check</td>\n",
       "      <td>29.85</td>\n",
       "      <td>29.85</td>\n",
       "      <td>No</td>\n",
       "    </tr>\n",
       "    <tr>\n",
       "      <th>1</th>\n",
       "      <td>5575-GNVDE</td>\n",
       "      <td>Male</td>\n",
       "      <td>0</td>\n",
       "      <td>No</td>\n",
       "      <td>No</td>\n",
       "      <td>34</td>\n",
       "      <td>Yes</td>\n",
       "      <td>No</td>\n",
       "      <td>DSL</td>\n",
       "      <td>Yes</td>\n",
       "      <td>...</td>\n",
       "      <td>Yes</td>\n",
       "      <td>No</td>\n",
       "      <td>No</td>\n",
       "      <td>No</td>\n",
       "      <td>One year</td>\n",
       "      <td>No</td>\n",
       "      <td>Mailed check</td>\n",
       "      <td>56.95</td>\n",
       "      <td>1889.50</td>\n",
       "      <td>No</td>\n",
       "    </tr>\n",
       "    <tr>\n",
       "      <th>2</th>\n",
       "      <td>3668-QPYBK</td>\n",
       "      <td>Male</td>\n",
       "      <td>0</td>\n",
       "      <td>No</td>\n",
       "      <td>No</td>\n",
       "      <td>2</td>\n",
       "      <td>Yes</td>\n",
       "      <td>No</td>\n",
       "      <td>DSL</td>\n",
       "      <td>Yes</td>\n",
       "      <td>...</td>\n",
       "      <td>No</td>\n",
       "      <td>No</td>\n",
       "      <td>No</td>\n",
       "      <td>No</td>\n",
       "      <td>Month-to-month</td>\n",
       "      <td>Yes</td>\n",
       "      <td>Mailed check</td>\n",
       "      <td>53.85</td>\n",
       "      <td>108.15</td>\n",
       "      <td>Yes</td>\n",
       "    </tr>\n",
       "    <tr>\n",
       "      <th>3</th>\n",
       "      <td>7795-CFOCW</td>\n",
       "      <td>Male</td>\n",
       "      <td>0</td>\n",
       "      <td>No</td>\n",
       "      <td>No</td>\n",
       "      <td>45</td>\n",
       "      <td>No</td>\n",
       "      <td>No phone service</td>\n",
       "      <td>DSL</td>\n",
       "      <td>Yes</td>\n",
       "      <td>...</td>\n",
       "      <td>Yes</td>\n",
       "      <td>Yes</td>\n",
       "      <td>No</td>\n",
       "      <td>No</td>\n",
       "      <td>One year</td>\n",
       "      <td>No</td>\n",
       "      <td>Bank transfer (automatic)</td>\n",
       "      <td>42.30</td>\n",
       "      <td>1840.75</td>\n",
       "      <td>No</td>\n",
       "    </tr>\n",
       "    <tr>\n",
       "      <th>4</th>\n",
       "      <td>9237-HQITU</td>\n",
       "      <td>Female</td>\n",
       "      <td>0</td>\n",
       "      <td>No</td>\n",
       "      <td>No</td>\n",
       "      <td>2</td>\n",
       "      <td>Yes</td>\n",
       "      <td>No</td>\n",
       "      <td>Fiber optic</td>\n",
       "      <td>No</td>\n",
       "      <td>...</td>\n",
       "      <td>No</td>\n",
       "      <td>No</td>\n",
       "      <td>No</td>\n",
       "      <td>No</td>\n",
       "      <td>Month-to-month</td>\n",
       "      <td>Yes</td>\n",
       "      <td>Electronic check</td>\n",
       "      <td>70.70</td>\n",
       "      <td>151.65</td>\n",
       "      <td>Yes</td>\n",
       "    </tr>\n",
       "  </tbody>\n",
       "</table>\n",
       "<p>5 rows × 21 columns</p>\n",
       "</div>"
      ],
      "text/plain": [
       "   CustomerID  Gender  SeniorCitizen Partner Dependents  Tenure PhoneService  \\\n",
       "0  7590-VHVEG  Female              0     Yes         No       1           No   \n",
       "1  5575-GNVDE    Male              0      No         No      34          Yes   \n",
       "2  3668-QPYBK    Male              0      No         No       2          Yes   \n",
       "3  7795-CFOCW    Male              0      No         No      45           No   \n",
       "4  9237-HQITU  Female              0      No         No       2          Yes   \n",
       "\n",
       "      MultipleLines InternetService OnlineSecurity  ...   DeviceProtection  \\\n",
       "0  No phone service             DSL             No  ...                 No   \n",
       "1                No             DSL            Yes  ...                Yes   \n",
       "2                No             DSL            Yes  ...                 No   \n",
       "3  No phone service             DSL            Yes  ...                Yes   \n",
       "4                No     Fiber optic             No  ...                 No   \n",
       "\n",
       "  TechSupport StreamingTV StreamingMovies        Contract PaperlessBilling  \\\n",
       "0          No          No              No  Month-to-month              Yes   \n",
       "1          No          No              No        One year               No   \n",
       "2          No          No              No  Month-to-month              Yes   \n",
       "3         Yes          No              No        One year               No   \n",
       "4          No          No              No  Month-to-month              Yes   \n",
       "\n",
       "               PaymentMethod MonthlyCharges  TotalCharges  Churn  \n",
       "0           Electronic check          29.85         29.85     No  \n",
       "1               Mailed check          56.95       1889.50     No  \n",
       "2               Mailed check          53.85        108.15    Yes  \n",
       "3  Bank transfer (automatic)          42.30       1840.75     No  \n",
       "4           Electronic check          70.70        151.65    Yes  \n",
       "\n",
       "[5 rows x 21 columns]"
      ]
     },
     "execution_count": 10,
     "metadata": {},
     "output_type": "execute_result"
    }
   ],
   "source": [
    "datset_churn.head() # This will print first 5 rows in pandas dataset."
   ]
  },
  {
   "cell_type": "markdown",
   "metadata": {},
   "source": [
    "### Understanding the summary statistics , central tendency and dispersion of dataset"
   ]
  },
  {
   "cell_type": "markdown",
   "metadata": {},
   "source": [
    "#### Summary Statistics of Object/Categorical variable. "
   ]
  },
  {
   "cell_type": "code",
   "execution_count": 447,
   "metadata": {
    "scrolled": true
   },
   "outputs": [
    {
     "data": {
      "text/html": [
       "<div>\n",
       "<style scoped>\n",
       "    .dataframe tbody tr th:only-of-type {\n",
       "        vertical-align: middle;\n",
       "    }\n",
       "\n",
       "    .dataframe tbody tr th {\n",
       "        vertical-align: top;\n",
       "    }\n",
       "\n",
       "    .dataframe thead th {\n",
       "        text-align: right;\n",
       "    }\n",
       "</style>\n",
       "<table border=\"1\" class=\"dataframe\">\n",
       "  <thead>\n",
       "    <tr style=\"text-align: right;\">\n",
       "      <th></th>\n",
       "      <th>CustomerID</th>\n",
       "      <th>Gender</th>\n",
       "      <th>Partner</th>\n",
       "      <th>Dependents</th>\n",
       "      <th>PhoneService</th>\n",
       "      <th>MultipleLines</th>\n",
       "      <th>InternetService</th>\n",
       "      <th>OnlineSecurity</th>\n",
       "      <th>OnlineBackup</th>\n",
       "      <th>DeviceProtection</th>\n",
       "      <th>TechSupport</th>\n",
       "      <th>StreamingTV</th>\n",
       "      <th>StreamingMovies</th>\n",
       "      <th>Contract</th>\n",
       "      <th>PaperlessBilling</th>\n",
       "      <th>PaymentMethod</th>\n",
       "      <th>Churn</th>\n",
       "    </tr>\n",
       "  </thead>\n",
       "  <tbody>\n",
       "    <tr>\n",
       "      <th>count</th>\n",
       "      <td>7043</td>\n",
       "      <td>7043</td>\n",
       "      <td>7043</td>\n",
       "      <td>7043</td>\n",
       "      <td>7043</td>\n",
       "      <td>7043</td>\n",
       "      <td>7043</td>\n",
       "      <td>7043</td>\n",
       "      <td>7043</td>\n",
       "      <td>7043</td>\n",
       "      <td>7043</td>\n",
       "      <td>7043</td>\n",
       "      <td>7043</td>\n",
       "      <td>7043</td>\n",
       "      <td>7043</td>\n",
       "      <td>7043</td>\n",
       "      <td>7043</td>\n",
       "    </tr>\n",
       "    <tr>\n",
       "      <th>unique</th>\n",
       "      <td>7043</td>\n",
       "      <td>2</td>\n",
       "      <td>2</td>\n",
       "      <td>2</td>\n",
       "      <td>2</td>\n",
       "      <td>3</td>\n",
       "      <td>3</td>\n",
       "      <td>3</td>\n",
       "      <td>3</td>\n",
       "      <td>3</td>\n",
       "      <td>3</td>\n",
       "      <td>3</td>\n",
       "      <td>3</td>\n",
       "      <td>3</td>\n",
       "      <td>2</td>\n",
       "      <td>4</td>\n",
       "      <td>2</td>\n",
       "    </tr>\n",
       "    <tr>\n",
       "      <th>top</th>\n",
       "      <td>3090-QFUVD</td>\n",
       "      <td>Male</td>\n",
       "      <td>No</td>\n",
       "      <td>No</td>\n",
       "      <td>Yes</td>\n",
       "      <td>No</td>\n",
       "      <td>Fiber optic</td>\n",
       "      <td>No</td>\n",
       "      <td>No</td>\n",
       "      <td>No</td>\n",
       "      <td>No</td>\n",
       "      <td>No</td>\n",
       "      <td>No</td>\n",
       "      <td>Month-to-month</td>\n",
       "      <td>Yes</td>\n",
       "      <td>Electronic check</td>\n",
       "      <td>No</td>\n",
       "    </tr>\n",
       "    <tr>\n",
       "      <th>freq</th>\n",
       "      <td>1</td>\n",
       "      <td>3555</td>\n",
       "      <td>3641</td>\n",
       "      <td>4933</td>\n",
       "      <td>6361</td>\n",
       "      <td>3390</td>\n",
       "      <td>3096</td>\n",
       "      <td>3498</td>\n",
       "      <td>3088</td>\n",
       "      <td>3095</td>\n",
       "      <td>3473</td>\n",
       "      <td>2810</td>\n",
       "      <td>2785</td>\n",
       "      <td>3875</td>\n",
       "      <td>4171</td>\n",
       "      <td>2365</td>\n",
       "      <td>5174</td>\n",
       "    </tr>\n",
       "  </tbody>\n",
       "</table>\n",
       "</div>"
      ],
      "text/plain": [
       "        CustomerID Gender Partner Dependents PhoneService MultipleLines InternetService OnlineSecurity OnlineBackup DeviceProtection TechSupport StreamingTV StreamingMovies        Contract PaperlessBilling     PaymentMethod Churn\n",
       "count   7043        7043   7043    7043       7043         7043          7043            7043           7043         7043             7043        7043        7043            7043            7043             7043              7043\n",
       "unique  7043        2      2       2          2            3             3               3              3            3                3           3           3               3               2                4                 2   \n",
       "top     3090-QFUVD  Male   No      No         Yes          No            Fiber optic     No             No           No               No          No          No              Month-to-month  Yes              Electronic check  No  \n",
       "freq    1           3555   3641    4933       6361         3390          3096            3498           3088         3095             3473        2810        2785            3875            4171             2365              5174"
      ]
     },
     "execution_count": 447,
     "metadata": {},
     "output_type": "execute_result"
    }
   ],
   "source": [
    "datset_churn.describe(include=['O'])"
   ]
  },
  {
   "cell_type": "code",
   "execution_count": 21,
   "metadata": {},
   "outputs": [
    {
     "name": "stdout",
     "output_type": "stream",
     "text": [
      "Gender - ['Female' 'Male']\n",
      "Partner - ['Yes' 'No']\n",
      "Dependents - ['No' 'Yes']\n",
      "PhoneService - ['No' 'Yes']\n",
      "MultipleLines - ['No phone service' 'No' 'Yes']\n",
      "InternetService - ['DSL' 'Fiber optic' 'No']\n",
      "OnlineSecurity - ['No' 'Yes' 'No internet service']\n",
      "OnlineBackup - ['Yes' 'No' 'No internet service']\n",
      "DeviceProtection - ['No' 'Yes' 'No internet service']\n",
      "TechSupport - ['No' 'Yes' 'No internet service']\n",
      "StreamingTV - ['No' 'Yes' 'No internet service']\n",
      "StreamingMovies - ['No' 'Yes' 'No internet service']\n",
      "Contract - ['Month-to-month' 'One year' 'Two year']\n",
      "PaperlessBilling - ['Yes' 'No']\n",
      "PaymentMethod - ['Electronic check' 'Mailed check' 'Bank transfer (automatic)'\n",
      " 'Credit card (automatic)']\n",
      "Churn - ['No' 'Yes']\n"
     ]
    }
   ],
   "source": [
    "#Creating the list of columns\n",
    "datset_churn_column = list(datset_churn.columns)\n",
    "\n",
    "#Removing numerical columns\n",
    "datset_churn_column.remove('CustomerID')\n",
    "datset_churn_column.remove('SeniorCitizen')\n",
    "datset_churn_column.remove('Tenure')\n",
    "datset_churn_column.remove('MonthlyCharges')\n",
    "datset_churn_column.remove('TotalCharges')\n",
    "\n",
    "# Printing Unique values in each categorical column\n",
    "for col in datset_churn_column:\n",
    "    print(col, \"-\", datset_churn[col].unique())"
   ]
  },
  {
   "cell_type": "markdown",
   "metadata": {},
   "source": [
    "#### Observations :\n",
    "1. Gender, Partner, Dependents, PhoneService, PaperlessBilling and Churn - They have 2 unique categories - Yes/No and for gender Male/Female\n",
    "2. MultipleLines, InternetService, OnlineSecurity, OnlineBackup, DeviceProtection, TechSupport, StreamingTV, StreamingMovies, Contract - They have 3 unique categories\n",
    "3. Payment Method -  4 unique categories or 4 methods by which customer pays for their service"
   ]
  },
  {
   "cell_type": "markdown",
   "metadata": {},
   "source": [
    "#### Summary Statistics of Numeric variable."
   ]
  },
  {
   "cell_type": "code",
   "execution_count": 448,
   "metadata": {},
   "outputs": [
    {
     "data": {
      "text/html": [
       "<div>\n",
       "<style scoped>\n",
       "    .dataframe tbody tr th:only-of-type {\n",
       "        vertical-align: middle;\n",
       "    }\n",
       "\n",
       "    .dataframe tbody tr th {\n",
       "        vertical-align: top;\n",
       "    }\n",
       "\n",
       "    .dataframe thead th {\n",
       "        text-align: right;\n",
       "    }\n",
       "</style>\n",
       "<table border=\"1\" class=\"dataframe\">\n",
       "  <thead>\n",
       "    <tr style=\"text-align: right;\">\n",
       "      <th></th>\n",
       "      <th>SeniorCitizen</th>\n",
       "      <th>Tenure</th>\n",
       "      <th>MonthlyCharges</th>\n",
       "      <th>TotalCharges</th>\n",
       "    </tr>\n",
       "  </thead>\n",
       "  <tbody>\n",
       "    <tr>\n",
       "      <th>count</th>\n",
       "      <td>7043.000000</td>\n",
       "      <td>7043.000000</td>\n",
       "      <td>7043.000000</td>\n",
       "      <td>7032.000000</td>\n",
       "    </tr>\n",
       "    <tr>\n",
       "      <th>mean</th>\n",
       "      <td>0.162147</td>\n",
       "      <td>32.371149</td>\n",
       "      <td>64.761692</td>\n",
       "      <td>2283.300441</td>\n",
       "    </tr>\n",
       "    <tr>\n",
       "      <th>std</th>\n",
       "      <td>0.368612</td>\n",
       "      <td>24.559481</td>\n",
       "      <td>30.090047</td>\n",
       "      <td>2266.771362</td>\n",
       "    </tr>\n",
       "    <tr>\n",
       "      <th>min</th>\n",
       "      <td>0.000000</td>\n",
       "      <td>0.000000</td>\n",
       "      <td>18.250000</td>\n",
       "      <td>18.800000</td>\n",
       "    </tr>\n",
       "    <tr>\n",
       "      <th>25%</th>\n",
       "      <td>0.000000</td>\n",
       "      <td>9.000000</td>\n",
       "      <td>35.500000</td>\n",
       "      <td>401.450000</td>\n",
       "    </tr>\n",
       "    <tr>\n",
       "      <th>50%</th>\n",
       "      <td>0.000000</td>\n",
       "      <td>29.000000</td>\n",
       "      <td>70.350000</td>\n",
       "      <td>1397.475000</td>\n",
       "    </tr>\n",
       "    <tr>\n",
       "      <th>75%</th>\n",
       "      <td>0.000000</td>\n",
       "      <td>55.000000</td>\n",
       "      <td>89.850000</td>\n",
       "      <td>3794.737500</td>\n",
       "    </tr>\n",
       "    <tr>\n",
       "      <th>max</th>\n",
       "      <td>1.000000</td>\n",
       "      <td>72.000000</td>\n",
       "      <td>118.750000</td>\n",
       "      <td>8684.800000</td>\n",
       "    </tr>\n",
       "  </tbody>\n",
       "</table>\n",
       "</div>"
      ],
      "text/plain": [
       "       SeniorCitizen       Tenure  MonthlyCharges  TotalCharges\n",
       "count  7043.000000    7043.000000  7043.000000     7032.000000 \n",
       "mean   0.162147       32.371149    64.761692       2283.300441 \n",
       "std    0.368612       24.559481    30.090047       2266.771362 \n",
       "min    0.000000       0.000000     18.250000       18.800000   \n",
       "25%    0.000000       9.000000     35.500000       401.450000  \n",
       "50%    0.000000       29.000000    70.350000       1397.475000 \n",
       "75%    0.000000       55.000000    89.850000       3794.737500 \n",
       "max    1.000000       72.000000    118.750000      8684.800000 "
      ]
     },
     "execution_count": 448,
     "metadata": {},
     "output_type": "execute_result"
    }
   ],
   "source": [
    "datset_churn.describe()"
   ]
  },
  {
   "cell_type": "markdown",
   "metadata": {},
   "source": [
    "#### Observations:\n",
    "1. We have 4 numeric variables\n",
    "2. Tenure can vary from 0 months to 72 months. This is how long customer is with Telco\n",
    "3. Total Charges = Monthly Charges * Tenure\n",
    "4. Looking at the count column, all columns have count as 7043 . TotalCharges have count of 7032, a differece of 11 records. These are missing records"
   ]
  },
  {
   "cell_type": "markdown",
   "metadata": {},
   "source": [
    "### Assess missing values in dataset"
   ]
  },
  {
   "cell_type": "code",
   "execution_count": 22,
   "metadata": {},
   "outputs": [
    {
     "name": "stdout",
     "output_type": "stream",
     "text": [
      "Assess missing values in dataset\n",
      "                  Total   Percent\n",
      "TotalCharges         11  0.001562\n",
      "Churn                 0  0.000000\n",
      "OnlineSecurity        0  0.000000\n",
      "Gender                0  0.000000\n",
      "SeniorCitizen         0  0.000000\n",
      "Partner               0  0.000000\n",
      "Dependents            0  0.000000\n",
      "Tenure                0  0.000000\n",
      "PhoneService          0  0.000000\n",
      "MultipleLines         0  0.000000\n",
      "InternetService       0  0.000000\n",
      "OnlineBackup          0  0.000000\n",
      "DeviceProtection      0  0.000000\n",
      "TechSupport           0  0.000000\n",
      "StreamingTV           0  0.000000\n",
      "StreamingMovies       0  0.000000\n",
      "Contract              0  0.000000\n",
      "PaperlessBilling      0  0.000000\n",
      "PaymentMethod         0  0.000000\n",
      "MonthlyCharges        0  0.000000\n",
      "CustomerID            0  0.000000\n"
     ]
    }
   ],
   "source": [
    "print(\"Assess missing values in dataset\")\n",
    "total = datset_churn.isnull().sum().sort_values(ascending=False)\n",
    "percent = (datset_churn.isnull().sum()/datset_churn.isnull().count()).sort_values(ascending=False)\n",
    "missing_data = pd.concat([total, percent], axis=1, keys=['Total', 'Percent'])\n",
    "print(missing_data)"
   ]
  },
  {
   "cell_type": "markdown",
   "metadata": {},
   "source": [
    "\n",
    "Observation - TotalCharges have 11 missing values. We will replace them with multiplying Tenure * MonthlyCharges value"
   ]
  },
  {
   "cell_type": "markdown",
   "metadata": {},
   "source": [
    "### Replacing missing value"
   ]
  },
  {
   "cell_type": "code",
   "execution_count": 23,
   "metadata": {},
   "outputs": [
    {
     "name": "stdout",
     "output_type": "stream",
     "text": [
      "Missing Value Rows--> [488, 753, 936, 1082, 1340, 3331, 3826, 4380, 5218, 6670, 6754] \n",
      "Missing data in rows--> 11\n",
      "Assess missing values in dataset\n",
      "                  Total  Percent\n",
      "Churn                 0      0.0\n",
      "OnlineSecurity        0      0.0\n",
      "Gender                0      0.0\n",
      "SeniorCitizen         0      0.0\n",
      "Partner               0      0.0\n",
      "Dependents            0      0.0\n",
      "Tenure                0      0.0\n",
      "PhoneService          0      0.0\n",
      "MultipleLines         0      0.0\n",
      "InternetService       0      0.0\n",
      "OnlineBackup          0      0.0\n",
      "TotalCharges          0      0.0\n",
      "DeviceProtection      0      0.0\n",
      "TechSupport           0      0.0\n",
      "StreamingTV           0      0.0\n",
      "StreamingMovies       0      0.0\n",
      "Contract              0      0.0\n",
      "PaperlessBilling      0      0.0\n",
      "PaymentMethod         0      0.0\n",
      "MonthlyCharges        0      0.0\n",
      "CustomerID            0      0.0\n"
     ]
    }
   ],
   "source": [
    "#Identifying the rows containing missing data\n",
    "missing_value_row = list(datset_churn[datset_churn['TotalCharges'].isnull()].index)\n",
    "print('Missing Value Rows-->', missing_value_row , '\\nMissing data in rows-->', len(missing_value_row))\n",
    "\n",
    "#Replacing missing data with Tenure X MonthlyCharges\n",
    "for missing_row in missing_value_row :\n",
    "    datset_churn['TotalCharges'][missing_row] = datset_churn['Tenure'][missing_row] * datset_churn['MonthlyCharges'][missing_row]\n",
    "\n",
    "# Displaying Missing Value statistics\n",
    "print(\"Assess missing values in dataset\")\n",
    "total = datset_churn.isnull().sum().sort_values(ascending=False)\n",
    "percent = (datset_churn.isnull().sum()/datset_churn.isnull().count()).sort_values(ascending=False)\n",
    "missing_data = pd.concat([total, percent], axis=1, keys=['Total', 'Percent'])\n",
    "print(missing_data)"
   ]
  },
  {
   "cell_type": "markdown",
   "metadata": {},
   "source": [
    "#### Missing values in MonthlyCharges are gone!!!"
   ]
  },
  {
   "cell_type": "markdown",
   "metadata": {},
   "source": [
    "## Univariate Analysis"
   ]
  },
  {
   "cell_type": "markdown",
   "metadata": {},
   "source": [
    "### Vizualizing the Categorical variables with bar chart"
   ]
  },
  {
   "cell_type": "code",
   "execution_count": 24,
   "metadata": {},
   "outputs": [],
   "source": [
    "# Getting the list of all columns\n",
    "columns_hist = list(datset_churn.columns)\n",
    "\n",
    "#Removing the Numerical Variables\n",
    "columns_hist.remove('CustomerID')\n",
    "columns_hist.remove('SeniorCitizen')\n",
    "columns_hist.remove('Tenure')\n",
    "columns_hist.remove('MonthlyCharges')\n",
    "columns_hist.remove('TotalCharges')\n",
    "\n",
    "#Creating Column into 4X4 matrix to display 16 bar charts in 4X4 form:\n",
    "columns_hist_nparray = np.array(columns_hist)\n",
    "columns_hist_nparray = np.reshape(columns_hist_nparray, (4,4)) # reshaping the columns into 4X4 matrix"
   ]
  },
  {
   "cell_type": "code",
   "execution_count": 25,
   "metadata": {},
   "outputs": [
    {
     "name": "stdout",
     "output_type": "stream",
     "text": [
      "Univariate Analysis of each categorical Variables\n"
     ]
    },
    {
     "data": {
      "image/png": "[encoded data removed]",
      "text/plain": [
       "<Figure size 1440x1440 with 16 Axes>"
      ]
     },
     "metadata": {},
     "output_type": "display_data"
    }
   ],
   "source": [
    "# Plotting the bar chart\n",
    "rows = 4 ; columns = 4\n",
    "f, axes = plt.subplots(rows, columns, figsize=(20, 20))\n",
    "print('Univariate Analysis of each categorical Variables')\n",
    "for row in range(rows):\n",
    "    for column in range(columns):\n",
    "        sns.countplot(datset_churn[columns_hist_nparray[row][column]], palette = \"Set1\", ax = axes[row, column])"
   ]
  },
  {
   "cell_type": "markdown",
   "metadata": {},
   "source": [
    "#### Observations :\n",
    "1. We have almost equal genders in our dataset\n",
    "2. Almost 50% have partners\n",
    "3. Around 30% have dependants\n",
    "4. 85% of the customers have phone service\n",
    "5. Around 40% customers have multiple lines\n",
    "6. People prefer Fiber Optics over DSL for Internet\n",
    "7. Around 30% have taken online security.Majority of Customer don't have Online security or backup\n",
    "8. Close 35% prefer device protection\n",
    "9. Majority of Customer don't have Tech Support\n",
    "10. Around 37% have registered for Streaming TV & MOvie\n",
    "11. Contract - Majority of customers are subscribed for Month to Month contract (55%)\n",
    "12. Majority of customers have opted Paperless billing\n",
    "13. Majority of customers pay eletronic check. 43 % prefer Automatic payment (Bank Transfer and Credit Card)\n",
    "14. Target Variable - \"Churn\" - We have unbalanced distribution (Yes - Approx 1800 ; No - Approx 5000). So Churn positive is 25% (Approx)."
   ]
  },
  {
   "cell_type": "markdown",
   "metadata": {},
   "source": [
    "### Vizualizing the Numeric variables\n",
    "#### Histogram to see data distribution of Quantitative Variables(SeniorCitizen, tenure, MonthlyCharges, TotalCharges)\n"
   ]
  },
  {
   "cell_type": "code",
   "execution_count": 26,
   "metadata": {},
   "outputs": [
    {
     "data": {
      "text/plain": [
       "<matplotlib.axes._subplots.AxesSubplot at 0x23a7e04fa90>"
      ]
     },
     "execution_count": 26,
     "metadata": {},
     "output_type": "execute_result"
    },
    {
     "data": {
      "image/png": "[encoded data removed]",
      "text/plain": [
       "<Figure size 1440x720 with 6 Axes>"
      ]
     },
     "metadata": {},
     "output_type": "display_data"
    }
   ],
   "source": [
    "f, axes = plt.subplots(2, 3, figsize=(20,10))\n",
    "#Charting the histogram\n",
    "datset_churn[\"Tenure\"].plot.hist(color='DarkBlue', alpha=0.7, bins=50, title='Tenure',ax=axes[0, 0])\n",
    "datset_churn[\"MonthlyCharges\"].plot.hist(color='DarkBlue', alpha=0.7, bins=50, title='MonthlyCharges',ax=axes[0, 1])\n",
    "datset_churn[\"TotalCharges\"].plot.hist(color='DarkBlue', alpha=0.7, bins=50, title='TotalCharges',ax=axes[0, 2])\n",
    "\n",
    "#Charting the density plot\n",
    "sns.distplot( datset_churn[\"Tenure\"] , kde=True, rug=False, color=\"skyblue\", ax=axes[1, 0])\n",
    "sns.distplot( datset_churn[\"MonthlyCharges\"] , kde=True, rug=False, color=\"olive\", ax=axes[1, 1])\n",
    "sns.distplot( datset_churn[\"TotalCharges\"] , kde=True, rug=False, color=\"gold\", ax=axes[1, 2])"
   ]
  },
  {
   "cell_type": "markdown",
   "metadata": {},
   "source": [
    "#### Observations:\n",
    "1. Tenure:\n",
    "\n",
    "    1.1. Not a normal distribution. Bi-Modal distribution (having 2 peaks) which means data is concentrated across two different groups\n",
    "    \n",
    "    1.2 We have major chunk of customers in 0-1 month period. Lot of them might be cutomers who tried the service and left or liked the service and continued\n",
    "    \n",
    "    1.3. Between 10 months to 65 months, we can see flat distribution of data.\n",
    "    \n",
    "    1.4. We have lot customers in 69-72 months range. They are the loyal customers\n",
    "   \n",
    "   \n",
    " 2. Monthly Charges  - \n",
    " \n",
    "     2.1. Not a normal distribution.Close to Bi-Modal distribution\n",
    "     \n",
    "     2.2. Majority of customers are paying $18 to $20 dollars. Must be the service charge for basic service. Majority of customers are subscribed to basic package.\n",
    "     \n",
    "     2.3. Between $70-$100 dollars, we  have quite a number of customers. They might be the ones subscribed for multiple services.\n",
    "     \n",
    "     \n",
    " 3. Total Charges - \n",
    " \n",
    "    3.1. Data is positively skewed.\n",
    "    \n",
    "    3.2. Majority of the population have spent close to $1,100 dollars\n",
    "    \n",
    "    3.3. Cutomers have spent upto $9,000  dollars \n"
   ]
  },
  {
   "cell_type": "markdown",
   "metadata": {},
   "source": [
    "#### Barchart for the Gender (0 is No , 1 is Yes)"
   ]
  },
  {
   "cell_type": "code",
   "execution_count": 27,
   "metadata": {},
   "outputs": [
    {
     "data": {
      "text/plain": [
       "<matplotlib.axes._subplots.AxesSubplot at 0x23a7d8fb630>"
      ]
     },
     "execution_count": 27,
     "metadata": {},
     "output_type": "execute_result"
    },
    {
     "data": {
      "image/png": "[encoded data removed]",
      "text/plain": [
       "<Figure size 432x288 with 1 Axes>"
      ]
     },
     "metadata": {},
     "output_type": "display_data"
    }
   ],
   "source": [
    "sns.countplot(datset_churn['SeniorCitizen'], palette = \"Set1\")"
   ]
  },
  {
   "cell_type": "markdown",
   "metadata": {},
   "source": [
    "16% of customers are senior citizens"
   ]
  },
  {
   "cell_type": "markdown",
   "metadata": {},
   "source": [
    "#### Let's Check for Outliers using Box Plot  for Tenure, MonthlyCharges, TotalCharges"
   ]
  },
  {
   "cell_type": "code",
   "execution_count": 28,
   "metadata": {},
   "outputs": [
    {
     "data": {
      "text/plain": [
       "<matplotlib.axes._subplots.AxesSubplot at 0x23a7e316400>"
      ]
     },
     "execution_count": 28,
     "metadata": {},
     "output_type": "execute_result"
    },
    {
     "data": {
      "image/png": "[encoded data removed]",
      "text/plain": [
       "<Figure size 1080x360 with 3 Axes>"
      ]
     },
     "metadata": {},
     "output_type": "display_data"
    }
   ],
   "source": [
    "f, axes = plt.subplots(1, 3, figsize=(15,5))\n",
    "sns.boxplot(x=datset_churn_copy[\"tenure\"], orient=\"v\", color=\"olive\",ax=axes[0])\n",
    "sns.boxplot(x=datset_churn_copy[\"MonthlyCharges\"], orient=\"v\", color=\"gold\",ax=axes[1])\n",
    "sns.boxplot(x=datset_churn_copy[\"TotalCharges\"] , orient=\"v\", color=\"skyblue\",ax=axes[2])"
   ]
  },
  {
   "cell_type": "markdown",
   "metadata": {},
   "source": [
    "Observation - Seems like we dont have outliers !"
   ]
  },
  {
   "cell_type": "markdown",
   "metadata": {},
   "source": [
    "## Bivariate Analysis\n",
    "Correlating the features with Target column (Churn)\n",
    "Let us start by understanding correlations between numerical features and our solution goal (Churn).\n",
    "\n",
    "A histogram chart is useful for analyzing continous numerical variables like tenure , Monthly Charges and Total Charges where banding or ranges will help identify useful patterns. The histogram can indicate distribution of samples using automatically defined bins or equally ranged bands. This helps us answer questions relating to specific bands."
   ]
  },
  {
   "cell_type": "code",
   "execution_count": 29,
   "metadata": {},
   "outputs": [],
   "source": [
    "# Converting the categorical variable to numerical variable\n",
    "datset_churn['Churn_Num'] = datset_churn['Churn'].map( {'Yes': 1, 'No': 0} ).astype(int)"
   ]
  },
  {
   "cell_type": "code",
   "execution_count": 30,
   "metadata": {},
   "outputs": [
    {
     "data": {
      "text/html": [
       "<div>\n",
       "<style scoped>\n",
       "    .dataframe tbody tr th:only-of-type {\n",
       "        vertical-align: middle;\n",
       "    }\n",
       "\n",
       "    .dataframe tbody tr th {\n",
       "        vertical-align: top;\n",
       "    }\n",
       "\n",
       "    .dataframe thead th {\n",
       "        text-align: right;\n",
       "    }\n",
       "</style>\n",
       "<table border=\"1\" class=\"dataframe\">\n",
       "  <thead>\n",
       "    <tr style=\"text-align: right;\">\n",
       "      <th></th>\n",
       "      <th>Churn</th>\n",
       "      <th>Churn_Num</th>\n",
       "    </tr>\n",
       "  </thead>\n",
       "  <tbody>\n",
       "    <tr>\n",
       "      <th>0</th>\n",
       "      <td>No</td>\n",
       "      <td>0</td>\n",
       "    </tr>\n",
       "    <tr>\n",
       "      <th>1</th>\n",
       "      <td>No</td>\n",
       "      <td>0</td>\n",
       "    </tr>\n",
       "    <tr>\n",
       "      <th>2</th>\n",
       "      <td>Yes</td>\n",
       "      <td>1</td>\n",
       "    </tr>\n",
       "    <tr>\n",
       "      <th>3</th>\n",
       "      <td>No</td>\n",
       "      <td>0</td>\n",
       "    </tr>\n",
       "    <tr>\n",
       "      <th>4</th>\n",
       "      <td>Yes</td>\n",
       "      <td>1</td>\n",
       "    </tr>\n",
       "  </tbody>\n",
       "</table>\n",
       "</div>"
      ],
      "text/plain": [
       "  Churn  Churn_Num\n",
       "0    No          0\n",
       "1    No          0\n",
       "2   Yes          1\n",
       "3    No          0\n",
       "4   Yes          1"
      ]
     },
     "execution_count": 30,
     "metadata": {},
     "output_type": "execute_result"
    }
   ],
   "source": [
    "# Validating the mappaing\n",
    "datset_churn[['Churn','Churn_Num']].head()"
   ]
  },
  {
   "cell_type": "code",
   "execution_count": 31,
   "metadata": {},
   "outputs": [
    {
     "data": {
      "text/plain": [
       "<seaborn.axisgrid.FacetGrid at 0x23a7d68dba8>"
      ]
     },
     "execution_count": 31,
     "metadata": {},
     "output_type": "execute_result"
    },
    {
     "data": {
      "image/png": "[encoded data removed]",
      "text/plain": [
       "<Figure size 432x216 with 2 Axes>"
      ]
     },
     "metadata": {},
     "output_type": "display_data"
    }
   ],
   "source": [
    "# Plotting Tenure Column with Churn\n",
    "# Churn_num indicates customer who left the company. 0 indicates customer who stayed.\n",
    "fighist = sns.FacetGrid(datset_churn, col='Churn_Num')\n",
    "fighist.map(plt.hist, 'Tenure', bins=20) "
   ]
  },
  {
   "cell_type": "markdown",
   "metadata": {},
   "source": [
    "#### Observations:\n",
    "\n",
    "1. Customer who left the Telco are mostly customers within 1st month (600+) and churn steady declines with time.\n",
    "2. If customer can be retained between 10-20 months, there are high chances, customer will stay very long. Churn decreases over time\n",
    "3. Customer at 72 month tenure, mostly stayed (Churn=0).\n",
    "\n",
    "#### Decisions:\n",
    "\n",
    "1. We should definitely use 'Tenure' column in our model training.\n",
    "2. We should band 'Tenure'"
   ]
  },
  {
   "cell_type": "code",
   "execution_count": 32,
   "metadata": {},
   "outputs": [
    {
     "data": {
      "text/plain": [
       "<seaborn.axisgrid.FacetGrid at 0x23a7e874550>"
      ]
     },
     "execution_count": 32,
     "metadata": {},
     "output_type": "execute_result"
    },
    {
     "data": {
      "image/png": "[encoded data removed]",
      "text/plain": [
       "<Figure size 432x216 with 2 Axes>"
      ]
     },
     "metadata": {},
     "output_type": "display_data"
    }
   ],
   "source": [
    "# Plotting MonthlyCharges Column with Churn\n",
    "# Churn_num indicates customer who left the company. 0 indicates customer who stayed.\n",
    "fighist = sns.FacetGrid(datset_churn, col='Churn_Num')\n",
    "fighist.map(plt.hist, 'MonthlyCharges', bins=20)"
   ]
  },
  {
   "cell_type": "markdown",
   "metadata": {},
   "source": [
    "#### Observation :\n",
    "1. Majority of customers are in 18 to 20 range and they didn't leave\n",
    "2. Customer Leaving are mostly in the bannd of 75-100  who have opted for multiple services.\n",
    "\n",
    "#### Decisions :\n",
    "1. We will use 'MonthlyCharges' column in our model training.\n",
    "2. We should band 'MonthlyCharges'"
   ]
  },
  {
   "cell_type": "code",
   "execution_count": 33,
   "metadata": {},
   "outputs": [
    {
     "data": {
      "text/plain": [
       "<seaborn.axisgrid.FacetGrid at 0x23a7e5565f8>"
      ]
     },
     "execution_count": 33,
     "metadata": {},
     "output_type": "execute_result"
    },
    {
     "data": {
      "image/png": "[encoded data removed]",
      "text/plain": [
       "<Figure size 432x216 with 2 Axes>"
      ]
     },
     "metadata": {},
     "output_type": "display_data"
    }
   ],
   "source": [
    "# Plotting TotalCharges Column with Churn\n",
    "# Churn_num indicates customer who left the company. 0 indicates customer who stayed.\n",
    "fighist = sns.FacetGrid(datset_churn, col='Churn_Num')\n",
    "fighist.map(plt.hist, 'TotalCharges', bins=20)"
   ]
  },
  {
   "cell_type": "markdown",
   "metadata": {},
   "source": [
    "#### Observation:\n",
    "It's difficult to conclude anything using this column. Total charges are Tenure * MonthlyCharges . Tenur might me high and Monthly charges may be low and vice-versa. Data is positively skewed.\n",
    "\n",
    "#### Decision\n",
    "We will not use this column\n"
   ]
  },
  {
   "cell_type": "markdown",
   "metadata": {},
   "source": [
    "### Now we will use the Categorical variables and their relationships with Churn\n",
    "\n",
    "#### We will use Seaborn Categorical Plot"
   ]
  },
  {
   "cell_type": "code",
   "execution_count": 34,
   "metadata": {},
   "outputs": [
    {
     "data": {
      "image/png": "[encoded data removed]",
      "text/plain": [
       "<Figure size 460.8x288 with 2 Axes>"
      ]
     },
     "metadata": {},
     "output_type": "display_data"
    },
    {
     "data": {
      "image/png": "[encoded data removed]",
      "text/plain": [
       "<Figure size 460.8x288 with 2 Axes>"
      ]
     },
     "metadata": {},
     "output_type": "display_data"
    },
    {
     "data": {
      "image/png": "[encoded data removed]",
      "text/plain": [
       "<Figure size 460.8x288 with 2 Axes>"
      ]
     },
     "metadata": {},
     "output_type": "display_data"
    },
    {
     "data": {
      "image/png": "[encoded data removed]",
      "text/plain": [
       "<Figure size 460.8x288 with 2 Axes>"
      ]
     },
     "metadata": {},
     "output_type": "display_data"
    },
    {
     "data": {
      "image/png": "[encoded data removed]",
      "text/plain": [
       "<Figure size 460.8x288 with 2 Axes>"
      ]
     },
     "metadata": {},
     "output_type": "display_data"
    },
    {
     "data": {
      "image/png": "[encoded data removed]",
      "text/plain": [
       "<Figure size 460.8x288 with 2 Axes>"
      ]
     },
     "metadata": {},
     "output_type": "display_data"
    },
    {
     "data": {
      "image/png": "[encoded data removed]",
      "text/plain": [
       "<Figure size 460.8x288 with 2 Axes>"
      ]
     },
     "metadata": {},
     "output_type": "display_data"
    },
    {
     "data": {
      "image/png": "[encoded data removed]",
      "text/plain": [
       "<Figure size 460.8x288 with 2 Axes>"
      ]
     },
     "metadata": {},
     "output_type": "display_data"
    },
    {
     "data": {
      "image/png": "[encoded data removed]",
      "text/plain": [
       "<Figure size 460.8x288 with 2 Axes>"
      ]
     },
     "metadata": {},
     "output_type": "display_data"
    },
    {
     "data": {
      "image/png": "[encoded data removed]",
      "text/plain": [
       "<Figure size 460.8x288 with 2 Axes>"
      ]
     },
     "metadata": {},
     "output_type": "display_data"
    },
    {
     "data": {
      "image/png": "[encoded data removed]",
      "text/plain": [
       "<Figure size 460.8x288 with 2 Axes>"
      ]
     },
     "metadata": {},
     "output_type": "display_data"
    },
    {
     "data": {
      "image/png": "[encoded data removed]",
      "text/plain": [
       "<Figure size 460.8x288 with 2 Axes>"
      ]
     },
     "metadata": {},
     "output_type": "display_data"
    },
    {
     "data": {
      "image/png": "[encoded data removed]",
      "text/plain": [
       "<Figure size 460.8x288 with 2 Axes>"
      ]
     },
     "metadata": {},
     "output_type": "display_data"
    },
    {
     "data": {
      "image/png": "[encoded data removed]",
      "text/plain": [
       "<Figure size 460.8x288 with 2 Axes>"
      ]
     },
     "metadata": {},
     "output_type": "display_data"
    },
    {
     "data": {
      "image/png": "[encoded data removed]",
      "text/plain": [
       "<Figure size 1152x288 with 2 Axes>"
      ]
     },
     "metadata": {},
     "output_type": "display_data"
    }
   ],
   "source": [
    "col_list = columns_hist\n",
    "col_list.remove('Churn')\n",
    "for col in col_list:\n",
    "    if col == 'PaymentMethod':\n",
    "        aspect_ratio = 2.0\n",
    "    else:\n",
    "        aspect_ratio = 0.8\n",
    "        \n",
    "    plot_cat_data = sns.catplot(x=col, col='Churn_Num', data = datset_churn, kind='count', height=4, aspect=aspect_ratio)"
   ]
  },
  {
   "cell_type": "markdown",
   "metadata": {},
   "source": [
    "#### Observations (Churn_Num - 1 is \"Yes\" ; 0 is \"No\") :\n",
    "1. 'Gender'  : Difficult to determine Churn using this field. Counts are almost same  in either category\n",
    "2. 'Partner' : Customer with partner have lower chance of leaving\n",
    "3. 'Dependents' :Customer with dependants have lower chance of leaving. We will merge Partner & Dependant Columns as 1 column\n",
    "4. 'PhoneService' & 'MultipleLines' : We will merge these columns into PhoneLines - Single & Multiple and determine\n",
    "5. 'InternetService' : Customer with Fiber Optic Interner Service have higher chances of leaving\n",
    "6. 'OnlineSecurity' & 'OnlineBackup' : We will merge these columns for better visibility\n",
    "7. 'DeviceProtection' : Customers without device protection have likely higher chances of leaving\n",
    "8. 'TechSupport' - Customer not opting for TechSupport have higher chances of leaving \n",
    "9. 'StreamingTV', 'StreamingMovies' - We will merge these columns into streaming and check again\n",
    "10. 'Contract' - Month to Month customers have likely higher chances to leave\n",
    "11. 'PaperlessBilling' - Customers with paperless billing have higher chances of leaving\n",
    "12. 'PaymentMethod' - People paying with electronic check have higher chances of leaving"
   ]
  },
  {
   "cell_type": "markdown",
   "metadata": {},
   "source": [
    "### Creating new feature from existing set of columns using the above observations"
   ]
  },
  {
   "cell_type": "markdown",
   "metadata": {},
   "source": [
    "#### Creating bands for numerical variables - Tenure & Monthly Charges"
   ]
  },
  {
   "cell_type": "code",
   "execution_count": 35,
   "metadata": {},
   "outputs": [
    {
     "data": {
      "text/html": [
       "<div>\n",
       "<style scoped>\n",
       "    .dataframe tbody tr th:only-of-type {\n",
       "        vertical-align: middle;\n",
       "    }\n",
       "\n",
       "    .dataframe tbody tr th {\n",
       "        vertical-align: top;\n",
       "    }\n",
       "\n",
       "    .dataframe thead th {\n",
       "        text-align: right;\n",
       "    }\n",
       "</style>\n",
       "<table border=\"1\" class=\"dataframe\">\n",
       "  <thead>\n",
       "    <tr style=\"text-align: right;\">\n",
       "      <th></th>\n",
       "      <th>Tenure</th>\n",
       "      <th>TenureRange</th>\n",
       "      <th>TenureCat</th>\n",
       "    </tr>\n",
       "  </thead>\n",
       "  <tbody>\n",
       "    <tr>\n",
       "      <th>0</th>\n",
       "      <td>1</td>\n",
       "      <td>(-0.072, 14.4]</td>\n",
       "      <td>0.0</td>\n",
       "    </tr>\n",
       "    <tr>\n",
       "      <th>1</th>\n",
       "      <td>34</td>\n",
       "      <td>(28.8, 43.2]</td>\n",
       "      <td>3.0</td>\n",
       "    </tr>\n",
       "    <tr>\n",
       "      <th>2</th>\n",
       "      <td>2</td>\n",
       "      <td>(-0.072, 14.4]</td>\n",
       "      <td>0.0</td>\n",
       "    </tr>\n",
       "    <tr>\n",
       "      <th>3</th>\n",
       "      <td>45</td>\n",
       "      <td>(43.2, 57.6]</td>\n",
       "      <td>3.0</td>\n",
       "    </tr>\n",
       "    <tr>\n",
       "      <th>4</th>\n",
       "      <td>2</td>\n",
       "      <td>(-0.072, 14.4]</td>\n",
       "      <td>0.0</td>\n",
       "    </tr>\n",
       "    <tr>\n",
       "      <th>5</th>\n",
       "      <td>8</td>\n",
       "      <td>(-0.072, 14.4]</td>\n",
       "      <td>0.0</td>\n",
       "    </tr>\n",
       "    <tr>\n",
       "      <th>6</th>\n",
       "      <td>22</td>\n",
       "      <td>(14.4, 28.8]</td>\n",
       "      <td>2.0</td>\n",
       "    </tr>\n",
       "    <tr>\n",
       "      <th>7</th>\n",
       "      <td>10</td>\n",
       "      <td>(-0.072, 14.4]</td>\n",
       "      <td>1.0</td>\n",
       "    </tr>\n",
       "    <tr>\n",
       "      <th>8</th>\n",
       "      <td>28</td>\n",
       "      <td>(14.4, 28.8]</td>\n",
       "      <td>2.0</td>\n",
       "    </tr>\n",
       "    <tr>\n",
       "      <th>9</th>\n",
       "      <td>62</td>\n",
       "      <td>(57.6, 72.0]</td>\n",
       "      <td>5.0</td>\n",
       "    </tr>\n",
       "  </tbody>\n",
       "</table>\n",
       "</div>"
      ],
      "text/plain": [
       "   Tenure     TenureRange  TenureCat\n",
       "0       1  (-0.072, 14.4]        0.0\n",
       "1      34    (28.8, 43.2]        3.0\n",
       "2       2  (-0.072, 14.4]        0.0\n",
       "3      45    (43.2, 57.6]        3.0\n",
       "4       2  (-0.072, 14.4]        0.0\n",
       "5       8  (-0.072, 14.4]        0.0\n",
       "6      22    (14.4, 28.8]        2.0\n",
       "7      10  (-0.072, 14.4]        1.0\n",
       "8      28    (14.4, 28.8]        2.0\n",
       "9      62    (57.6, 72.0]        5.0"
      ]
     },
     "execution_count": 35,
     "metadata": {},
     "output_type": "execute_result"
    }
   ],
   "source": [
    "# Creating tenure band and co-relation with Churn\n",
    "datset_churn['TenureRange'] = pd.cut(datset_churn['Tenure'], 5)\n",
    "datset_churn[['TenureRange', 'Churn_Num']].groupby(['TenureRange'], as_index=False).mean().sort_values(by='TenureRange', ascending=True)\n",
    "\n",
    "# Replacing Age band with ordinals based on these bands\n",
    "datset_churn.loc[ datset_churn['Tenure'] <= 8, 'TenureCat'] = 0\n",
    "datset_churn.loc[(datset_churn['Tenure'] > 8) & (datset_churn['Tenure'] <= 15), 'TenureCat'] = 1\n",
    "datset_churn.loc[(datset_churn['Tenure'] > 15) & (datset_churn['Tenure'] <= 30), 'TenureCat'] = 2\n",
    "datset_churn.loc[(datset_churn['Tenure'] > 30) & (datset_churn['Tenure'] <= 45 ), 'TenureCat'] = 3\n",
    "datset_churn.loc[(datset_churn['Tenure'] > 45) & (datset_churn['Tenure'] <= 60 ), 'TenureCat'] = 4\n",
    "datset_churn.loc[ datset_churn['Tenure'] > 60, 'TenureCat'] = 5\n",
    "\n",
    "datset_churn[['Tenure','TenureRange','TenureCat']].head(10)"
   ]
  },
  {
   "cell_type": "code",
   "execution_count": 36,
   "metadata": {},
   "outputs": [
    {
     "data": {
      "text/html": [
       "<div>\n",
       "<style scoped>\n",
       "    .dataframe tbody tr th:only-of-type {\n",
       "        vertical-align: middle;\n",
       "    }\n",
       "\n",
       "    .dataframe tbody tr th {\n",
       "        vertical-align: top;\n",
       "    }\n",
       "\n",
       "    .dataframe thead th {\n",
       "        text-align: right;\n",
       "    }\n",
       "</style>\n",
       "<table border=\"1\" class=\"dataframe\">\n",
       "  <thead>\n",
       "    <tr style=\"text-align: right;\">\n",
       "      <th></th>\n",
       "      <th>MonthlyCharges</th>\n",
       "      <th>MonthlyChargesRange</th>\n",
       "      <th>MonthlyChargesCat</th>\n",
       "    </tr>\n",
       "  </thead>\n",
       "  <tbody>\n",
       "    <tr>\n",
       "      <th>0</th>\n",
       "      <td>29.85</td>\n",
       "      <td>(18.15, 38.35]</td>\n",
       "      <td>1.0</td>\n",
       "    </tr>\n",
       "    <tr>\n",
       "      <th>1</th>\n",
       "      <td>56.95</td>\n",
       "      <td>(38.35, 58.45]</td>\n",
       "      <td>2.0</td>\n",
       "    </tr>\n",
       "    <tr>\n",
       "      <th>2</th>\n",
       "      <td>53.85</td>\n",
       "      <td>(38.35, 58.45]</td>\n",
       "      <td>2.0</td>\n",
       "    </tr>\n",
       "    <tr>\n",
       "      <th>3</th>\n",
       "      <td>42.30</td>\n",
       "      <td>(38.35, 58.45]</td>\n",
       "      <td>2.0</td>\n",
       "    </tr>\n",
       "    <tr>\n",
       "      <th>4</th>\n",
       "      <td>70.70</td>\n",
       "      <td>(58.45, 78.55]</td>\n",
       "      <td>3.0</td>\n",
       "    </tr>\n",
       "    <tr>\n",
       "      <th>5</th>\n",
       "      <td>99.65</td>\n",
       "      <td>(98.65, 118.75]</td>\n",
       "      <td>4.0</td>\n",
       "    </tr>\n",
       "    <tr>\n",
       "      <th>6</th>\n",
       "      <td>89.10</td>\n",
       "      <td>(78.55, 98.65]</td>\n",
       "      <td>4.0</td>\n",
       "    </tr>\n",
       "    <tr>\n",
       "      <th>7</th>\n",
       "      <td>29.75</td>\n",
       "      <td>(18.15, 38.35]</td>\n",
       "      <td>1.0</td>\n",
       "    </tr>\n",
       "    <tr>\n",
       "      <th>8</th>\n",
       "      <td>104.80</td>\n",
       "      <td>(98.65, 118.75]</td>\n",
       "      <td>5.0</td>\n",
       "    </tr>\n",
       "    <tr>\n",
       "      <th>9</th>\n",
       "      <td>56.15</td>\n",
       "      <td>(38.35, 58.45]</td>\n",
       "      <td>2.0</td>\n",
       "    </tr>\n",
       "  </tbody>\n",
       "</table>\n",
       "</div>"
      ],
      "text/plain": [
       "   MonthlyCharges MonthlyChargesRange  MonthlyChargesCat\n",
       "0           29.85      (18.15, 38.35]                1.0\n",
       "1           56.95      (38.35, 58.45]                2.0\n",
       "2           53.85      (38.35, 58.45]                2.0\n",
       "3           42.30      (38.35, 58.45]                2.0\n",
       "4           70.70      (58.45, 78.55]                3.0\n",
       "5           99.65     (98.65, 118.75]                4.0\n",
       "6           89.10      (78.55, 98.65]                4.0\n",
       "7           29.75      (18.15, 38.35]                1.0\n",
       "8          104.80     (98.65, 118.75]                5.0\n",
       "9           56.15      (38.35, 58.45]                2.0"
      ]
     },
     "execution_count": 36,
     "metadata": {},
     "output_type": "execute_result"
    }
   ],
   "source": [
    "# Creating MonthlyCharges Band and co-relation with Churn\n",
    "datset_churn['MonthlyChargesRange'] = pd.cut(datset_churn['MonthlyCharges'], 5)\n",
    "datset_churn[['MonthlyChargesRange', 'Churn_Num']].groupby(['MonthlyChargesRange'], as_index=False).mean().sort_values(by='MonthlyChargesRange', ascending=True)\n",
    "\n",
    "# Replacing Age band with ordinals based on these bands\n",
    "datset_churn.loc[ datset_churn['MonthlyCharges'] <= 20, 'MonthlyChargesCat'] = 0\n",
    "datset_churn.loc[(datset_churn['MonthlyCharges'] > 20) & (datset_churn['MonthlyCharges'] <= 40), 'MonthlyChargesCat'] = 1\n",
    "datset_churn.loc[(datset_churn['MonthlyCharges'] > 40) & (datset_churn['MonthlyCharges'] <= 60), 'MonthlyChargesCat'] = 2\n",
    "datset_churn.loc[(datset_churn['MonthlyCharges'] > 60) & (datset_churn['MonthlyCharges'] <= 80 ), 'MonthlyChargesCat'] = 3\n",
    "datset_churn.loc[(datset_churn['MonthlyCharges'] > 80) & (datset_churn['MonthlyCharges'] <= 100 ), 'MonthlyChargesCat'] = 4\n",
    "datset_churn.loc[ datset_churn['MonthlyCharges'] > 100, 'MonthlyChargesCat'] = 5\n",
    "\n",
    "#Checking the categories\n",
    "datset_churn[['MonthlyCharges','MonthlyChargesRange','MonthlyChargesCat']].head(10)"
   ]
  },
  {
   "cell_type": "markdown",
   "metadata": {},
   "source": [
    "#### Creating new derived columns for Categorical variables"
   ]
  },
  {
   "cell_type": "code",
   "execution_count": 37,
   "metadata": {},
   "outputs": [
    {
     "data": {
      "image/png": "[encoded data removed]",
      "text/plain": [
       "<Figure size 460.8x288 with 2 Axes>"
      ]
     },
     "metadata": {},
     "output_type": "display_data"
    },
    {
     "data": {
      "image/png": "[encoded data removed]",
      "text/plain": [
       "<Figure size 460.8x288 with 2 Axes>"
      ]
     },
     "metadata": {},
     "output_type": "display_data"
    },
    {
     "data": {
      "image/png": "[encoded data removed]",
      "text/plain": [
       "<Figure size 460.8x288 with 2 Axes>"
      ]
     },
     "metadata": {},
     "output_type": "display_data"
    }
   ],
   "source": [
    "#Creating a new column for family. If a customer has dependant or Partner, I am considering it as family .\n",
    "list_family = []\n",
    "for rows in range(len(datset_churn['Partner'])):\n",
    "    if ((datset_churn['Partner'][rows] == 'No') and (datset_churn['Dependents'][rows] == 'No')):\n",
    "        list_family.append('No')\n",
    "    else:\n",
    "        list_family.append('Yes')\n",
    "datset_churn['Family'] = list_family\n",
    "#print(datset_churn[['Partner', 'Dependents', 'Family' ]].head(10))\n",
    "\n",
    "#Creating a new column for Online Services (Online Security & Online Backup) . If a customer has Online Security or Online Backup services\n",
    "#then , I am considering it as \"Yes\" else \"No\"\n",
    "list_online_services = []\n",
    "for rows_os in range(len(datset_churn['OnlineSecurity'])):\n",
    "    if ((datset_churn['OnlineSecurity'][rows_os] == 'No') and (datset_churn['OnlineBackup'][rows_os] == 'No')):\n",
    "        list_online_services.append('No')\n",
    "    else:\n",
    "        list_online_services.append('Yes')\n",
    "datset_churn['OnlineServices'] = list_online_services\n",
    "\n",
    "#print(datset_churn[['OnlineSecurity', 'OnlineBackup', 'OnlineServices' ]].head(10))\n",
    " \n",
    "#Creating a new column for Streaming Services (StreamingTV & StreamingMovies) . If a customer has StreamingTV or StreamingMovies\n",
    "#then , I am considering it as \"Yes\" else \"No\"\n",
    "list_streaming_services = []\n",
    "for rows_stv in range(len(datset_churn['StreamingTV'])):\n",
    "    if ((datset_churn['StreamingTV'][rows_stv] == 'No') and (datset_churn['StreamingMovies'][rows_stv] == 'No')):\n",
    "        list_streaming_services.append('No')\n",
    "    else:\n",
    "        list_streaming_services.append('Yes')\n",
    "datset_churn['StreamingServices'] = list_streaming_services\n",
    "\n",
    "#print(datset_churn[['StreamingTV', 'StreamingMovies', 'StreamingServices' ]].head(10))\n",
    "\n",
    "plot_cat_data = sns.catplot(x='Family', col='Churn_Num', data = datset_churn, kind='count', height=4, aspect=0.8)\n",
    "plot_cat_data = sns.catplot(x='OnlineServices', col='Churn_Num', data = datset_churn, kind='count', height=4, aspect=0.8)\n",
    "plot_cat_data = sns.catplot(x='StreamingServices', col='Churn_Num', data = datset_churn, kind='count', height=4, aspect=0.8)"
   ]
  },
  {
   "cell_type": "markdown",
   "metadata": {},
   "source": [
    "#### Observation\n",
    " - Customers with family are less likely to Churn\n",
    " - Customers not opted for online services (online backup or security) have slightly higher chances of churn\n",
    " - Customer opted for Streaming Services seems to have slightly higher chances of churn"
   ]
  },
  {
   "cell_type": "markdown",
   "metadata": {},
   "source": [
    "## Preparing Columns for Classification"
   ]
  },
  {
   "cell_type": "markdown",
   "metadata": {},
   "source": [
    "### Converting the Object/Categorical Variable to Numerical Variable"
   ]
  },
  {
   "cell_type": "code",
   "execution_count": 464,
   "metadata": {},
   "outputs": [
    {
     "name": "stdout",
     "output_type": "stream",
     "text": [
      "<class 'pandas.core.frame.DataFrame'>\n",
      "RangeIndex: 7043 entries, 0 to 7042\n",
      "Data columns (total 29 columns):\n",
      "CustomerID             7043 non-null object\n",
      "Gender                 7043 non-null object\n",
      "SeniorCitizen          7043 non-null int64\n",
      "Partner                7043 non-null object\n",
      "Dependents             7043 non-null object\n",
      "Tenure                 7043 non-null int64\n",
      "PhoneService           7043 non-null object\n",
      "MultipleLines          7043 non-null object\n",
      "InternetService        7043 non-null object\n",
      "OnlineSecurity         7043 non-null object\n",
      "OnlineBackup           7043 non-null object\n",
      "DeviceProtection       7043 non-null object\n",
      "TechSupport            7043 non-null object\n",
      "StreamingTV            7043 non-null object\n",
      "StreamingMovies        7043 non-null object\n",
      "Contract               7043 non-null object\n",
      "PaperlessBilling       7043 non-null object\n",
      "PaymentMethod          7043 non-null object\n",
      "MonthlyCharges         7043 non-null float64\n",
      "TotalCharges           7043 non-null float64\n",
      "Churn                  7043 non-null object\n",
      "Churn_Num              7043 non-null int32\n",
      "TenureRange            7043 non-null category\n",
      "TenureCat              7043 non-null float64\n",
      "MonthlyChargesRange    7043 non-null category\n",
      "MonthlyChargesCat      7043 non-null float64\n",
      "Family                 7043 non-null object\n",
      "OnlineServices         7043 non-null object\n",
      "StreamingServices      7043 non-null object\n",
      "dtypes: category(2), float64(4), int32(1), int64(2), object(20)\n",
      "memory usage: 1.4+ MB\n"
     ]
    }
   ],
   "source": [
    "datset_churn.info()"
   ]
  },
  {
   "cell_type": "code",
   "execution_count": 38,
   "metadata": {},
   "outputs": [
    {
     "data": {
      "text/html": [
       "<div>\n",
       "<style scoped>\n",
       "    .dataframe tbody tr th:only-of-type {\n",
       "        vertical-align: middle;\n",
       "    }\n",
       "\n",
       "    .dataframe tbody tr th {\n",
       "        vertical-align: top;\n",
       "    }\n",
       "\n",
       "    .dataframe thead th {\n",
       "        text-align: right;\n",
       "    }\n",
       "</style>\n",
       "<table border=\"1\" class=\"dataframe\">\n",
       "  <thead>\n",
       "    <tr style=\"text-align: right;\">\n",
       "      <th></th>\n",
       "      <th>Gender</th>\n",
       "      <th>Gender_Num</th>\n",
       "    </tr>\n",
       "  </thead>\n",
       "  <tbody>\n",
       "    <tr>\n",
       "      <th>0</th>\n",
       "      <td>Female</td>\n",
       "      <td>1</td>\n",
       "    </tr>\n",
       "    <tr>\n",
       "      <th>1</th>\n",
       "      <td>Male</td>\n",
       "      <td>0</td>\n",
       "    </tr>\n",
       "  </tbody>\n",
       "</table>\n",
       "</div>"
      ],
      "text/plain": [
       "   Gender  Gender_Num\n",
       "0  Female           1\n",
       "1    Male           0"
      ]
     },
     "execution_count": 38,
     "metadata": {},
     "output_type": "execute_result"
    }
   ],
   "source": [
    "#Converting Gender column to numeric value\n",
    "#datset_churn['Gender'].unique() # Print unique values in the column\n",
    "datset_churn['Gender_Num'] = datset_churn['Gender'].map( {'Female': 1, 'Male': 0} ).astype(int) #Map Categorical to Numerical Values\n",
    "datset_churn[['Gender','Gender_Num']].head(2) # Test the mapping"
   ]
  },
  {
   "cell_type": "code",
   "execution_count": 39,
   "metadata": {},
   "outputs": [
    {
     "data": {
      "text/html": [
       "<div>\n",
       "<style scoped>\n",
       "    .dataframe tbody tr th:only-of-type {\n",
       "        vertical-align: middle;\n",
       "    }\n",
       "\n",
       "    .dataframe tbody tr th {\n",
       "        vertical-align: top;\n",
       "    }\n",
       "\n",
       "    .dataframe thead th {\n",
       "        text-align: right;\n",
       "    }\n",
       "</style>\n",
       "<table border=\"1\" class=\"dataframe\">\n",
       "  <thead>\n",
       "    <tr style=\"text-align: right;\">\n",
       "      <th></th>\n",
       "      <th>Family</th>\n",
       "      <th>Family_Num</th>\n",
       "    </tr>\n",
       "  </thead>\n",
       "  <tbody>\n",
       "    <tr>\n",
       "      <th>0</th>\n",
       "      <td>Yes</td>\n",
       "      <td>1</td>\n",
       "    </tr>\n",
       "    <tr>\n",
       "      <th>1</th>\n",
       "      <td>No</td>\n",
       "      <td>0</td>\n",
       "    </tr>\n",
       "  </tbody>\n",
       "</table>\n",
       "</div>"
      ],
      "text/plain": [
       "  Family  Family_Num\n",
       "0    Yes           1\n",
       "1     No           0"
      ]
     },
     "execution_count": 39,
     "metadata": {},
     "output_type": "execute_result"
    }
   ],
   "source": [
    "# For Partner & Dependant , we created Family Column . Converting Family column to numeric value\n",
    "#datset_churn['Family'].unique() # Print unique values in the column\n",
    "datset_churn['Family_Num'] = datset_churn['Family'].map( {'Yes': 1, 'No': 0} ).astype(int) #Map Categorical to Numerical Values\n",
    "datset_churn[['Family','Family_Num']].head(2) # Test the mapping"
   ]
  },
  {
   "cell_type": "code",
   "execution_count": 40,
   "metadata": {},
   "outputs": [],
   "source": [
    "datset_churn['PhoneService_Num'] = datset_churn['PhoneService'].map( {'Yes': 1, 'No': 0} ).astype(int)\n",
    "datset_churn['MultipleLines_Num'] = datset_churn['MultipleLines'].map( {'No': 0, 'Yes': 1, 'No phone service':2} ).astype(int)\n",
    "datset_churn['InternetService_Num'] = datset_churn['InternetService'].map( {'DSL': 0, 'Fiber optic': 1, 'No':2} ).astype(int)\n",
    "datset_churn['OnlineServices_Num'] = datset_churn['OnlineServices'].map( {'Yes': 1, 'No': 0} ).astype(int)\n",
    "\n",
    "datset_churn['DeviceProtection_Num'] = datset_churn['DeviceProtection'].map( {'No': 0, 'Yes': 1, 'No internet service':2} ).astype(int)\n",
    "datset_churn['StreamingServices_Num'] = datset_churn['StreamingServices'].map( {'Yes': 1, 'No': 0} ).astype(int)\n",
    "datset_churn['TechSupport_Num'] = datset_churn['TechSupport'].map( {'No': 0, 'Yes': 1, 'No internet service':2} ).astype(int)\n",
    "datset_churn['Contract_Num'] = datset_churn['Contract'].map( {'Month-to-month': 0, 'One year': 1, 'Two year': 2} ).astype(int)\n",
    "datset_churn['PaperlessBilling_Num'] = datset_churn['PaperlessBilling'].map( {'Yes': 1, 'No': 0} ).astype(int)\n",
    "datset_churn['PaymentMethod_Num'] = datset_churn['PaymentMethod'].map( {'Electronic check': 0, 'Mailed check': 1, 'Bank transfer (automatic)': 2 , 'Credit card (automatic)' : 3} ).astype(int)"
   ]
  },
  {
   "cell_type": "code",
   "execution_count": 41,
   "metadata": {},
   "outputs": [
    {
     "name": "stdout",
     "output_type": "stream",
     "text": [
      "<class 'pandas.core.frame.DataFrame'>\n",
      "RangeIndex: 7043 entries, 0 to 7042\n",
      "Data columns (total 41 columns):\n",
      "CustomerID               7043 non-null object\n",
      "Gender                   7043 non-null object\n",
      "SeniorCitizen            7043 non-null int64\n",
      "Partner                  7043 non-null object\n",
      "Dependents               7043 non-null object\n",
      "Tenure                   7043 non-null int64\n",
      "PhoneService             7043 non-null object\n",
      "MultipleLines            7043 non-null object\n",
      "InternetService          7043 non-null object\n",
      "OnlineSecurity           7043 non-null object\n",
      "OnlineBackup             7043 non-null object\n",
      "DeviceProtection         7043 non-null object\n",
      "TechSupport              7043 non-null object\n",
      "StreamingTV              7043 non-null object\n",
      "StreamingMovies          7043 non-null object\n",
      "Contract                 7043 non-null object\n",
      "PaperlessBilling         7043 non-null object\n",
      "PaymentMethod            7043 non-null object\n",
      "MonthlyCharges           7043 non-null float64\n",
      "TotalCharges             7043 non-null float64\n",
      "Churn                    7043 non-null object\n",
      "Churn_Num                7043 non-null int32\n",
      "TenureRange              7043 non-null category\n",
      "TenureCat                7043 non-null float64\n",
      "MonthlyChargesRange      7043 non-null category\n",
      "MonthlyChargesCat        7043 non-null float64\n",
      "Family                   7043 non-null object\n",
      "OnlineServices           7043 non-null object\n",
      "StreamingServices        7043 non-null object\n",
      "Gender_Num               7043 non-null int32\n",
      "Family_Num               7043 non-null int32\n",
      "PhoneService_Num         7043 non-null int32\n",
      "MultipleLines_Num        7043 non-null int32\n",
      "InternetService_Num      7043 non-null int32\n",
      "OnlineServices_Num       7043 non-null int32\n",
      "DeviceProtection_Num     7043 non-null int32\n",
      "StreamingServices_Num    7043 non-null int32\n",
      "TechSupport_Num          7043 non-null int32\n",
      "Contract_Num             7043 non-null int32\n",
      "PaperlessBilling_Num     7043 non-null int32\n",
      "PaymentMethod_Num        7043 non-null int32\n",
      "dtypes: category(2), float64(4), int32(13), int64(2), object(20)\n",
      "memory usage: 1.8+ MB\n"
     ]
    }
   ],
   "source": [
    "datset_churn.info()"
   ]
  },
  {
   "cell_type": "markdown",
   "metadata": {},
   "source": [
    "### Now we will delete the non-required rows and prepare the dataset for classification"
   ]
  },
  {
   "cell_type": "code",
   "execution_count": 42,
   "metadata": {},
   "outputs": [],
   "source": [
    "# Take a copy of dataset\n",
    "datset_churn_copy = datset_churn.copy()"
   ]
  },
  {
   "cell_type": "code",
   "execution_count": 43,
   "metadata": {},
   "outputs": [
    {
     "name": "stdout",
     "output_type": "stream",
     "text": [
      "<class 'pandas.core.frame.DataFrame'>\n",
      "RangeIndex: 7043 entries, 0 to 7042\n",
      "Data columns (total 17 columns):\n",
      "CustomerID           7043 non-null object\n",
      "Gender               7043 non-null int32\n",
      "SeniorCitizen        7043 non-null int64\n",
      "Family               7043 non-null int32\n",
      "TenureCat            7043 non-null float64\n",
      "PhoneService         7043 non-null int32\n",
      "MultipleLines        7043 non-null int32\n",
      "InternetService      7043 non-null int32\n",
      "OnlineServices       7043 non-null int32\n",
      "DeviceProtection     7043 non-null int32\n",
      "TechSupport          7043 non-null int32\n",
      "StreamingServices    7043 non-null int32\n",
      "Contract             7043 non-null int32\n",
      "PaperlessBilling     7043 non-null int32\n",
      "PaymentMethod        7043 non-null int32\n",
      "MonthlyChargesCat    7043 non-null float64\n",
      "Churn                7043 non-null int32\n",
      "dtypes: float64(2), int32(13), int64(1), object(1)\n",
      "memory usage: 577.8+ KB\n"
     ]
    }
   ],
   "source": [
    "#Dropping the Categorical columns and keeping their equivalent numeric column\n",
    "columns_to_drop = ['Gender', 'Partner', 'Dependents', 'Tenure', 'PhoneService', 'MultipleLines', 'InternetService', 'OnlineSecurity', 'OnlineBackup', 'DeviceProtection', 'TechSupport', 'StreamingTV', 'StreamingMovies', 'Contract', 'PaperlessBilling', 'PaymentMethod', 'TotalCharges', 'Churn', 'Family', 'OnlineServices', 'StreamingServices']\n",
    "datset_churn = datset_churn.drop(columns_to_drop, axis=1)\n",
    "\n",
    "#Re-arranging the columns as per origial dataset\n",
    "datset_churn = datset_churn[['CustomerID', 'Gender_Num', 'SeniorCitizen', 'Family_Num', 'TenureCat', 'PhoneService_Num', 'MultipleLines_Num', 'InternetService_Num', 'OnlineServices_Num', 'DeviceProtection_Num', 'TechSupport_Num', 'StreamingServices_Num', 'Contract_Num', 'PaperlessBilling_Num', 'PaymentMethod_Num', 'MonthlyChargesCat', 'Churn_Num']]\n",
    "datset_churn = datset_churn.rename(columns={'Gender_Num' : 'Gender', \n",
    "                             'Family_Num' : 'Family',\n",
    "                             'PhoneService_Num' : 'PhoneService',\n",
    "                             'MultipleLines_Num': 'MultipleLines', \n",
    "                             'InternetService_Num' : 'InternetService', \n",
    "                             'OnlineServices_Num' : 'OnlineServices', \n",
    "                             'DeviceProtection_Num' : 'DeviceProtection',\n",
    "                             'TechSupport_Num' : 'TechSupport', \n",
    "                             'StreamingServices_Num' : 'StreamingServices', \n",
    "                             'Contract_Num' : 'Contract', \n",
    "                             'PaperlessBilling_Num' : 'PaperlessBilling', \n",
    "                             'PaymentMethod_Num' : 'PaymentMethod', \n",
    "                             'MonthlyCharges' : 'MonthlyCharges', \n",
    "                             'Churn_Num' :  'Churn' })\n",
    "datset_churn.info()"
   ]
  },
  {
   "cell_type": "code",
   "execution_count": 44,
   "metadata": {},
   "outputs": [
    {
     "data": {
      "text/html": [
       "<div>\n",
       "<style scoped>\n",
       "    .dataframe tbody tr th:only-of-type {\n",
       "        vertical-align: middle;\n",
       "    }\n",
       "\n",
       "    .dataframe tbody tr th {\n",
       "        vertical-align: top;\n",
       "    }\n",
       "\n",
       "    .dataframe thead th {\n",
       "        text-align: right;\n",
       "    }\n",
       "</style>\n",
       "<table border=\"1\" class=\"dataframe\">\n",
       "  <thead>\n",
       "    <tr style=\"text-align: right;\">\n",
       "      <th></th>\n",
       "      <th>CustomerID</th>\n",
       "      <th>Gender</th>\n",
       "      <th>SeniorCitizen</th>\n",
       "      <th>Family</th>\n",
       "      <th>TenureCat</th>\n",
       "      <th>PhoneService</th>\n",
       "      <th>MultipleLines</th>\n",
       "      <th>InternetService</th>\n",
       "      <th>OnlineServices</th>\n",
       "      <th>DeviceProtection</th>\n",
       "      <th>TechSupport</th>\n",
       "      <th>StreamingServices</th>\n",
       "      <th>Contract</th>\n",
       "      <th>PaperlessBilling</th>\n",
       "      <th>PaymentMethod</th>\n",
       "      <th>MonthlyChargesCat</th>\n",
       "      <th>Churn</th>\n",
       "    </tr>\n",
       "  </thead>\n",
       "  <tbody>\n",
       "    <tr>\n",
       "      <th>0</th>\n",
       "      <td>7590-VHVEG</td>\n",
       "      <td>1</td>\n",
       "      <td>0</td>\n",
       "      <td>1</td>\n",
       "      <td>0.0</td>\n",
       "      <td>0</td>\n",
       "      <td>2</td>\n",
       "      <td>0</td>\n",
       "      <td>1</td>\n",
       "      <td>0</td>\n",
       "      <td>0</td>\n",
       "      <td>0</td>\n",
       "      <td>0</td>\n",
       "      <td>1</td>\n",
       "      <td>0</td>\n",
       "      <td>1.0</td>\n",
       "      <td>0</td>\n",
       "    </tr>\n",
       "    <tr>\n",
       "      <th>1</th>\n",
       "      <td>5575-GNVDE</td>\n",
       "      <td>0</td>\n",
       "      <td>0</td>\n",
       "      <td>0</td>\n",
       "      <td>3.0</td>\n",
       "      <td>1</td>\n",
       "      <td>0</td>\n",
       "      <td>0</td>\n",
       "      <td>1</td>\n",
       "      <td>1</td>\n",
       "      <td>0</td>\n",
       "      <td>0</td>\n",
       "      <td>1</td>\n",
       "      <td>0</td>\n",
       "      <td>1</td>\n",
       "      <td>2.0</td>\n",
       "      <td>0</td>\n",
       "    </tr>\n",
       "    <tr>\n",
       "      <th>2</th>\n",
       "      <td>3668-QPYBK</td>\n",
       "      <td>0</td>\n",
       "      <td>0</td>\n",
       "      <td>0</td>\n",
       "      <td>0.0</td>\n",
       "      <td>1</td>\n",
       "      <td>0</td>\n",
       "      <td>0</td>\n",
       "      <td>1</td>\n",
       "      <td>0</td>\n",
       "      <td>0</td>\n",
       "      <td>0</td>\n",
       "      <td>0</td>\n",
       "      <td>1</td>\n",
       "      <td>1</td>\n",
       "      <td>2.0</td>\n",
       "      <td>1</td>\n",
       "    </tr>\n",
       "    <tr>\n",
       "      <th>3</th>\n",
       "      <td>7795-CFOCW</td>\n",
       "      <td>0</td>\n",
       "      <td>0</td>\n",
       "      <td>0</td>\n",
       "      <td>3.0</td>\n",
       "      <td>0</td>\n",
       "      <td>2</td>\n",
       "      <td>0</td>\n",
       "      <td>1</td>\n",
       "      <td>1</td>\n",
       "      <td>1</td>\n",
       "      <td>0</td>\n",
       "      <td>1</td>\n",
       "      <td>0</td>\n",
       "      <td>2</td>\n",
       "      <td>2.0</td>\n",
       "      <td>0</td>\n",
       "    </tr>\n",
       "    <tr>\n",
       "      <th>4</th>\n",
       "      <td>9237-HQITU</td>\n",
       "      <td>1</td>\n",
       "      <td>0</td>\n",
       "      <td>0</td>\n",
       "      <td>0.0</td>\n",
       "      <td>1</td>\n",
       "      <td>0</td>\n",
       "      <td>1</td>\n",
       "      <td>0</td>\n",
       "      <td>0</td>\n",
       "      <td>0</td>\n",
       "      <td>0</td>\n",
       "      <td>0</td>\n",
       "      <td>1</td>\n",
       "      <td>0</td>\n",
       "      <td>3.0</td>\n",
       "      <td>1</td>\n",
       "    </tr>\n",
       "    <tr>\n",
       "      <th>5</th>\n",
       "      <td>9305-CDSKC</td>\n",
       "      <td>1</td>\n",
       "      <td>0</td>\n",
       "      <td>0</td>\n",
       "      <td>0.0</td>\n",
       "      <td>1</td>\n",
       "      <td>1</td>\n",
       "      <td>1</td>\n",
       "      <td>0</td>\n",
       "      <td>1</td>\n",
       "      <td>0</td>\n",
       "      <td>1</td>\n",
       "      <td>0</td>\n",
       "      <td>1</td>\n",
       "      <td>0</td>\n",
       "      <td>4.0</td>\n",
       "      <td>1</td>\n",
       "    </tr>\n",
       "    <tr>\n",
       "      <th>6</th>\n",
       "      <td>1452-KIOVK</td>\n",
       "      <td>0</td>\n",
       "      <td>0</td>\n",
       "      <td>1</td>\n",
       "      <td>2.0</td>\n",
       "      <td>1</td>\n",
       "      <td>1</td>\n",
       "      <td>1</td>\n",
       "      <td>1</td>\n",
       "      <td>0</td>\n",
       "      <td>0</td>\n",
       "      <td>1</td>\n",
       "      <td>0</td>\n",
       "      <td>1</td>\n",
       "      <td>3</td>\n",
       "      <td>4.0</td>\n",
       "      <td>0</td>\n",
       "    </tr>\n",
       "    <tr>\n",
       "      <th>7</th>\n",
       "      <td>6713-OKOMC</td>\n",
       "      <td>1</td>\n",
       "      <td>0</td>\n",
       "      <td>0</td>\n",
       "      <td>1.0</td>\n",
       "      <td>0</td>\n",
       "      <td>2</td>\n",
       "      <td>0</td>\n",
       "      <td>1</td>\n",
       "      <td>0</td>\n",
       "      <td>0</td>\n",
       "      <td>0</td>\n",
       "      <td>0</td>\n",
       "      <td>0</td>\n",
       "      <td>1</td>\n",
       "      <td>1.0</td>\n",
       "      <td>0</td>\n",
       "    </tr>\n",
       "    <tr>\n",
       "      <th>8</th>\n",
       "      <td>7892-POOKP</td>\n",
       "      <td>1</td>\n",
       "      <td>0</td>\n",
       "      <td>1</td>\n",
       "      <td>2.0</td>\n",
       "      <td>1</td>\n",
       "      <td>1</td>\n",
       "      <td>1</td>\n",
       "      <td>0</td>\n",
       "      <td>1</td>\n",
       "      <td>1</td>\n",
       "      <td>1</td>\n",
       "      <td>0</td>\n",
       "      <td>1</td>\n",
       "      <td>0</td>\n",
       "      <td>5.0</td>\n",
       "      <td>1</td>\n",
       "    </tr>\n",
       "    <tr>\n",
       "      <th>9</th>\n",
       "      <td>6388-TABGU</td>\n",
       "      <td>0</td>\n",
       "      <td>0</td>\n",
       "      <td>1</td>\n",
       "      <td>5.0</td>\n",
       "      <td>1</td>\n",
       "      <td>0</td>\n",
       "      <td>0</td>\n",
       "      <td>1</td>\n",
       "      <td>0</td>\n",
       "      <td>0</td>\n",
       "      <td>0</td>\n",
       "      <td>1</td>\n",
       "      <td>0</td>\n",
       "      <td>2</td>\n",
       "      <td>2.0</td>\n",
       "      <td>0</td>\n",
       "    </tr>\n",
       "  </tbody>\n",
       "</table>\n",
       "</div>"
      ],
      "text/plain": [
       "   CustomerID  Gender  SeniorCitizen  Family  TenureCat  PhoneService  \\\n",
       "0  7590-VHVEG       1              0       1        0.0             0   \n",
       "1  5575-GNVDE       0              0       0        3.0             1   \n",
       "2  3668-QPYBK       0              0       0        0.0             1   \n",
       "3  7795-CFOCW       0              0       0        3.0             0   \n",
       "4  9237-HQITU       1              0       0        0.0             1   \n",
       "5  9305-CDSKC       1              0       0        0.0             1   \n",
       "6  1452-KIOVK       0              0       1        2.0             1   \n",
       "7  6713-OKOMC       1              0       0        1.0             0   \n",
       "8  7892-POOKP       1              0       1        2.0             1   \n",
       "9  6388-TABGU       0              0       1        5.0             1   \n",
       "\n",
       "   MultipleLines  InternetService  OnlineServices  DeviceProtection  \\\n",
       "0              2                0               1                 0   \n",
       "1              0                0               1                 1   \n",
       "2              0                0               1                 0   \n",
       "3              2                0               1                 1   \n",
       "4              0                1               0                 0   \n",
       "5              1                1               0                 1   \n",
       "6              1                1               1                 0   \n",
       "7              2                0               1                 0   \n",
       "8              1                1               0                 1   \n",
       "9              0                0               1                 0   \n",
       "\n",
       "   TechSupport  StreamingServices  Contract  PaperlessBilling  PaymentMethod  \\\n",
       "0            0                  0         0                 1              0   \n",
       "1            0                  0         1                 0              1   \n",
       "2            0                  0         0                 1              1   \n",
       "3            1                  0         1                 0              2   \n",
       "4            0                  0         0                 1              0   \n",
       "5            0                  1         0                 1              0   \n",
       "6            0                  1         0                 1              3   \n",
       "7            0                  0         0                 0              1   \n",
       "8            1                  1         0                 1              0   \n",
       "9            0                  0         1                 0              2   \n",
       "\n",
       "   MonthlyChargesCat  Churn  \n",
       "0                1.0      0  \n",
       "1                2.0      0  \n",
       "2                2.0      1  \n",
       "3                2.0      0  \n",
       "4                3.0      1  \n",
       "5                4.0      1  \n",
       "6                4.0      0  \n",
       "7                1.0      0  \n",
       "8                5.0      1  \n",
       "9                2.0      0  "
      ]
     },
     "execution_count": 44,
     "metadata": {},
     "output_type": "execute_result"
    }
   ],
   "source": [
    "datset_churn.head(10) # Taking a quick look into the new data"
   ]
  },
  {
   "cell_type": "code",
   "execution_count": 46,
   "metadata": {},
   "outputs": [
    {
     "name": "stdout",
     "output_type": "stream",
     "text": [
      "There are 5634 samples in the training set and 1409 samples in the test set\n"
     ]
    }
   ],
   "source": [
    "X = datset_churn.iloc[:,1:16].values # Feature Variable\n",
    "y = datset_churn.iloc[:,16].values # Target Variable\n",
    "\n",
    "#Dividing data into test & train splitting 70% data for training anf 30% for test\n",
    "X_train, X_test, y_train, y_test = train_test_split(X, y, test_size=0.20)\n",
    "print('There are {} samples in the training set and {} samples in the test set'.format(X_train.shape[0], X_test.shape[0]))"
   ]
  },
  {
   "cell_type": "markdown",
   "metadata": {},
   "source": [
    "## Classification\n",
    "### We will run all classifiers to have an initial look at the performance"
   ]
  },
  {
   "cell_type": "markdown",
   "metadata": {},
   "source": [
    "#### Defining function for Confusion Matrix , Precision, Recall and F1 Score"
   ]
  },
  {
   "cell_type": "code",
   "execution_count": 47,
   "metadata": {},
   "outputs": [],
   "source": [
    "#Creating function for Confusion Matrix , Precsion, Recall and F1 Score\n",
    "def plot_confusion_matrix(classifier, y_test, y_pred_test):\n",
    "    cm = confusion_matrix(y_test, y_pred_test)\n",
    "    \n",
    "    print(\"\\n\",classifier,\"\\n\")\n",
    "    plt.clf()\n",
    "    plt.imshow(cm, interpolation='nearest', cmap='RdBu')\n",
    "    classNames = ['Churn-No','Churn-Yes']\n",
    "    plt.ylabel('True label')\n",
    "    plt.xlabel('Predicted label')\n",
    "    tick_marks = np.arange(len(classNames))\n",
    "    plt.xticks(tick_marks, classNames, rotation=45)\n",
    "    plt.yticks(tick_marks, classNames)\n",
    "    s = [['TN','FP'], ['FN', 'TP']]\n",
    "    \n",
    "    for i in range(2):\n",
    "        for j in range(2):\n",
    "            plt.text(j,i, str(s[i][j])+\" = \"+str(cm[i][j]), \n",
    "                     horizontalalignment='center', color='White')\n",
    "    \n",
    "    plt.show()\n",
    "        \n",
    "    tn, fp, fn, tp = cm.ravel()\n",
    "\n",
    "    recall = tp / (tp + fn)\n",
    "    precision = tp / (tp + fp)\n",
    "    F1 = 2*recall*precision/(recall+precision)\n",
    "\n",
    "    print('Recall={0:0.3f}'.format(recall),'\\nPrecision={0:0.3f}'.format(precision))\n",
    "    print('F1={0:0.3f}'.format(F1))\n",
    "    return;"
   ]
  },
  {
   "cell_type": "markdown",
   "metadata": {},
   "source": [
    "#### Defining function for Precision Recall Curve"
   ]
  },
  {
   "cell_type": "code",
   "execution_count": 48,
   "metadata": {},
   "outputs": [],
   "source": [
    "from sklearn.metrics import average_precision_score, precision_recall_curve\n",
    "def plot_prec_rec_curve(classifier, y_test, y_pred_score):\n",
    "    precision, recall, _ = precision_recall_curve(y_test, y_pred_score)\n",
    "    average_precision = average_precision_score(y_test, y_pred_score)\n",
    "\n",
    "    print('Average precision-recall score: {0:0.3f}'.format(\n",
    "          average_precision))\n",
    "\n",
    "    plt.plot(recall, precision, label='area = %0.3f' % average_precision, color=\"green\")\n",
    "    plt.xlim([0.0, 1.0])\n",
    "    plt.ylim([0.0, 1.05])\n",
    "    plt.xlabel('Recall')\n",
    "    plt.ylabel('Precision')\n",
    "    plt.title('Precision Recall Curve')\n",
    "    plt.legend(loc=\"best\")\n",
    "    plt.show()"
   ]
  },
  {
   "cell_type": "markdown",
   "metadata": {},
   "source": [
    "### Master Classification Engine"
   ]
  },
  {
   "cell_type": "code",
   "execution_count": 51,
   "metadata": {},
   "outputs": [
    {
     "name": "stdout",
     "output_type": "stream",
     "text": [
      "\n",
      " LogisticRegression \n",
      "\n"
     ]
    },
    {
     "data": {
      "image/png": "[encoded data removed]",
      "text/plain": [
       "<Figure size 432x288 with 1 Axes>"
      ]
     },
     "metadata": {},
     "output_type": "display_data"
    },
    {
     "name": "stdout",
     "output_type": "stream",
     "text": [
      "Recall=0.532 \n",
      "Precision=0.683\n",
      "F1=0.599\n",
      "Average precision-recall score: 0.663\n"
     ]
    },
    {
     "data": {
      "image/png": "[encoded data removed]",
      "text/plain": [
       "<Figure size 432x288 with 1 Axes>"
      ]
     },
     "metadata": {},
     "output_type": "display_data"
    },
    {
     "name": "stdout",
     "output_type": "stream",
     "text": [
      "\n",
      " KNeighborsClassifier \n",
      "\n"
     ]
    },
    {
     "data": {
      "image/png": "[encoded data removed]",
      "text/plain": [
       "<Figure size 432x288 with 1 Axes>"
      ]
     },
     "metadata": {},
     "output_type": "display_data"
    },
    {
     "name": "stdout",
     "output_type": "stream",
     "text": [
      "Recall=0.504 \n",
      "Precision=0.557\n",
      "F1=0.529\n",
      "Average precision-recall score: 0.516\n"
     ]
    },
    {
     "data": {
      "image/png": "[encoded data removed]",
      "text/plain": [
       "<Figure size 432x288 with 1 Axes>"
      ]
     },
     "metadata": {},
     "output_type": "display_data"
    },
    {
     "name": "stdout",
     "output_type": "stream",
     "text": [
      "\n",
      " GaussianNB \n",
      "\n"
     ]
    },
    {
     "data": {
      "image/png": "[encoded data removed]",
      "text/plain": [
       "<Figure size 432x288 with 1 Axes>"
      ]
     },
     "metadata": {},
     "output_type": "display_data"
    },
    {
     "name": "stdout",
     "output_type": "stream",
     "text": [
      "Recall=0.764 \n",
      "Precision=0.488\n",
      "F1=0.595\n",
      "Average precision-recall score: 0.647\n"
     ]
    },
    {
     "data": {
      "image/png": "[encoded data removed]",
      "text/plain": [
       "<Figure size 432x288 with 1 Axes>"
      ]
     },
     "metadata": {},
     "output_type": "display_data"
    },
    {
     "name": "stdout",
     "output_type": "stream",
     "text": [
      "\n",
      " SVC \n",
      "\n"
     ]
    },
    {
     "data": {
      "image/png": "[encoded data removed]",
      "text/plain": [
       "<Figure size 432x288 with 1 Axes>"
      ]
     },
     "metadata": {},
     "output_type": "display_data"
    },
    {
     "name": "stdout",
     "output_type": "stream",
     "text": [
      "Recall=0.514 \n",
      "Precision=0.723\n",
      "F1=0.601\n",
      "Average precision-recall score: 0.651\n"
     ]
    },
    {
     "data": {
      "image/png": "[encoded data removed]",
      "text/plain": [
       "<Figure size 432x288 with 1 Axes>"
      ]
     },
     "metadata": {},
     "output_type": "display_data"
    },
    {
     "name": "stdout",
     "output_type": "stream",
     "text": [
      "\n",
      " DecisionTreeClassifier \n",
      "\n"
     ]
    },
    {
     "data": {
      "image/png": "[encoded data removed]",
      "text/plain": [
       "<Figure size 432x288 with 1 Axes>"
      ]
     },
     "metadata": {},
     "output_type": "display_data"
    },
    {
     "name": "stdout",
     "output_type": "stream",
     "text": [
      "Recall=0.475 \n",
      "Precision=0.500\n",
      "F1=0.487\n",
      "Average precision-recall score: 0.382\n"
     ]
    },
    {
     "data": {
      "image/png": "[encoded data removed]",
      "text/plain": [
       "<Figure size 432x288 with 1 Axes>"
      ]
     },
     "metadata": {},
     "output_type": "display_data"
    },
    {
     "name": "stdout",
     "output_type": "stream",
     "text": [
      "\n",
      " RandomForestClassifier \n",
      "\n"
     ]
    },
    {
     "data": {
      "image/png": "[encoded data removed]",
      "text/plain": [
       "<Figure size 432x288 with 1 Axes>"
      ]
     },
     "metadata": {},
     "output_type": "display_data"
    },
    {
     "name": "stdout",
     "output_type": "stream",
     "text": [
      "Recall=0.444 \n",
      "Precision=0.562\n",
      "F1=0.496\n",
      "Average precision-recall score: 0.526\n"
     ]
    },
    {
     "data": {
      "image/png": "[encoded data removed]",
      "text/plain": [
       "<Figure size 432x288 with 1 Axes>"
      ]
     },
     "metadata": {},
     "output_type": "display_data"
    },
    {
     "name": "stdout",
     "output_type": "stream",
     "text": [
      "\n",
      " SGDClassifier \n",
      "\n"
     ]
    },
    {
     "data": {
      "image/png": "[encoded data removed]",
      "text/plain": [
       "<Figure size 432x288 with 1 Axes>"
      ]
     },
     "metadata": {},
     "output_type": "display_data"
    },
    {
     "name": "stdout",
     "output_type": "stream",
     "text": [
      "Recall=0.943 \n",
      "Precision=0.374\n",
      "F1=0.535\n",
      "Average precision-recall score: 0.549\n"
     ]
    },
    {
     "data": {
      "image/png": "[encoded data removed]",
      "text/plain": [
       "<Figure size 432x288 with 1 Axes>"
      ]
     },
     "metadata": {},
     "output_type": "display_data"
    },
    {
     "name": "stdout",
     "output_type": "stream",
     "text": [
      "\n",
      " AdaBoostClassifier \n",
      "\n"
     ]
    },
    {
     "data": {
      "image/png": "[encoded data removed]",
      "text/plain": [
       "<Figure size 432x288 with 1 Axes>"
      ]
     },
     "metadata": {},
     "output_type": "display_data"
    },
    {
     "name": "stdout",
     "output_type": "stream",
     "text": [
      "Recall=0.545 \n",
      "Precision=0.698\n",
      "F1=0.612\n",
      "Average precision-recall score: 0.674\n"
     ]
    },
    {
     "data": {
      "image/png": "[encoded data removed]",
      "text/plain": [
       "<Figure size 432x288 with 1 Axes>"
      ]
     },
     "metadata": {},
     "output_type": "display_data"
    }
   ],
   "source": [
    "# Making a list of all classifiers\n",
    "classifier_model = [LogisticRegression(),KNeighborsClassifier(),GaussianNB(),SVC(),DecisionTreeClassifier(),RandomForestClassifier(), SGDClassifier(), AdaBoostClassifier()]\n",
    "\n",
    "# Creating empty list to store the performance details\n",
    "classifier_model_list= []\n",
    "classifier_accuracy_test = []\n",
    "classifier_accuracy_train = []\n",
    "f1score = []\n",
    "precisionscore = []\n",
    "recallscore = []\n",
    "avg_pre_rec_score = []\n",
    "cv_score = []\n",
    "\n",
    "for classifier_list in classifier_model:\n",
    "    classifier = classifier_list\n",
    " \n",
    "    # Fitting the training set into classification model\n",
    "    classifier.fit(X_train,y_train)\n",
    "    \n",
    "    # Predicting the output on test datset\n",
    "    y_pred_test = classifier.predict(X_test)    \n",
    "    score_test = accuracy_score(y_test, y_pred_test)\n",
    "    \n",
    "    # Predicting the output on training datset\n",
    "    y_pred_train = classifier.predict(X_train) \n",
    "    score_train = accuracy_score(y_train, y_pred_train)\n",
    "    \n",
    "    # Cross Validation Score on training test\n",
    "    scores = cross_val_score(classifier, X_train,y_train, cv=10)\n",
    "    cv_score.append(scores.mean())\n",
    "    \n",
    "    #Keeping the model and accuracy score into a list\n",
    "    classifier_model_list.append(classifier_list.__class__.__name__)\n",
    "    classifier_accuracy_test.append(round(score_test,4))\n",
    "    classifier_accuracy_train.append(round(score_train,4))\n",
    "    \n",
    "    #Precision, Recall and F1 score\n",
    "    f1score.append(f1_score(y_test, y_pred_test))\n",
    "    precisionscore.append(precision_score(y_test, y_pred_test))\n",
    "    recallscore.append(recall_score(y_test, y_pred_test))\n",
    "    \n",
    "    #Calculating Average Precision Recall Score\n",
    "    try:\n",
    "        y_pred_score = classifier.decision_function(X_test)\n",
    "    except:\n",
    "        y_pred_score = classifier.predict_proba(X_test)[:,1]\n",
    "    \n",
    "    from sklearn.metrics import average_precision_score\n",
    "    average_precision = average_precision_score(y_test, y_pred_score)\n",
    "    avg_pre_rec_score.append(average_precision)\n",
    "    \n",
    "    \n",
    "    #Confusion Matrix\n",
    "    plot_confusion_matrix(classifier_list.__class__.__name__, y_test, y_pred_test)\n",
    "    plot_prec_rec_curve(classifier_list.__class__.__name__, y_test, y_pred_score)"
   ]
  },
  {
   "cell_type": "markdown",
   "metadata": {},
   "source": [
    "### CLASSIFICATION MODEL PERFORMANCE EVALUATION"
   ]
  },
  {
   "cell_type": "code",
   "execution_count": 52,
   "metadata": {},
   "outputs": [
    {
     "name": "stdout",
     "output_type": "stream",
     "text": [
      "\n",
      "*------------------------------    CLASSIFICATION MODEL PERFORMANCE EVALUATION      ---------------------*\n",
      "\n"
     ]
    },
    {
     "data": {
      "text/html": [
       "<div>\n",
       "<style scoped>\n",
       "    .dataframe tbody tr th:only-of-type {\n",
       "        vertical-align: middle;\n",
       "    }\n",
       "\n",
       "    .dataframe tbody tr th {\n",
       "        vertical-align: top;\n",
       "    }\n",
       "\n",
       "    .dataframe thead th {\n",
       "        text-align: right;\n",
       "    }\n",
       "</style>\n",
       "<table border=\"1\" class=\"dataframe\">\n",
       "  <thead>\n",
       "    <tr style=\"text-align: right;\">\n",
       "      <th></th>\n",
       "      <th>Model</th>\n",
       "      <th>Cross Val Score</th>\n",
       "      <th>Test Accuracy</th>\n",
       "      <th>Average_Accuracy</th>\n",
       "      <th>Precision</th>\n",
       "      <th>Recall</th>\n",
       "      <th>Avg Precision Recall</th>\n",
       "      <th>F1 Score</th>\n",
       "    </tr>\n",
       "  </thead>\n",
       "  <tbody>\n",
       "    <tr>\n",
       "      <th>5</th>\n",
       "      <td>RandomForestClassifier</td>\n",
       "      <td>0.764294</td>\n",
       "      <td>0.9290</td>\n",
       "      <td>0.846647</td>\n",
       "      <td>0.562500</td>\n",
       "      <td>0.444156</td>\n",
       "      <td>0.525998</td>\n",
       "      <td>0.496372</td>\n",
       "    </tr>\n",
       "    <tr>\n",
       "      <th>4</th>\n",
       "      <td>DecisionTreeClassifier</td>\n",
       "      <td>0.730566</td>\n",
       "      <td>0.9395</td>\n",
       "      <td>0.835033</td>\n",
       "      <td>0.500000</td>\n",
       "      <td>0.475325</td>\n",
       "      <td>0.382063</td>\n",
       "      <td>0.487350</td>\n",
       "    </tr>\n",
       "    <tr>\n",
       "      <th>3</th>\n",
       "      <td>SVC</td>\n",
       "      <td>0.798731</td>\n",
       "      <td>0.8076</td>\n",
       "      <td>0.803166</td>\n",
       "      <td>0.722628</td>\n",
       "      <td>0.514286</td>\n",
       "      <td>0.650592</td>\n",
       "      <td>0.600910</td>\n",
       "    </tr>\n",
       "    <tr>\n",
       "      <th>0</th>\n",
       "      <td>LogisticRegression</td>\n",
       "      <td>0.802106</td>\n",
       "      <td>0.8039</td>\n",
       "      <td>0.803003</td>\n",
       "      <td>0.683333</td>\n",
       "      <td>0.532468</td>\n",
       "      <td>0.663086</td>\n",
       "      <td>0.598540</td>\n",
       "    </tr>\n",
       "    <tr>\n",
       "      <th>7</th>\n",
       "      <td>AdaBoostClassifier</td>\n",
       "      <td>0.799797</td>\n",
       "      <td>0.8026</td>\n",
       "      <td>0.801198</td>\n",
       "      <td>0.697674</td>\n",
       "      <td>0.545455</td>\n",
       "      <td>0.674440</td>\n",
       "      <td>0.612245</td>\n",
       "    </tr>\n",
       "    <tr>\n",
       "      <th>1</th>\n",
       "      <td>KNeighborsClassifier</td>\n",
       "      <td>0.762881</td>\n",
       "      <td>0.8387</td>\n",
       "      <td>0.800790</td>\n",
       "      <td>0.557471</td>\n",
       "      <td>0.503896</td>\n",
       "      <td>0.516306</td>\n",
       "      <td>0.529332</td>\n",
       "    </tr>\n",
       "    <tr>\n",
       "      <th>2</th>\n",
       "      <td>GaussianNB</td>\n",
       "      <td>0.736608</td>\n",
       "      <td>0.7368</td>\n",
       "      <td>0.736704</td>\n",
       "      <td>0.487562</td>\n",
       "      <td>0.763636</td>\n",
       "      <td>0.647102</td>\n",
       "      <td>0.595142</td>\n",
       "    </tr>\n",
       "    <tr>\n",
       "      <th>6</th>\n",
       "      <td>SGDClassifier</td>\n",
       "      <td>0.766244</td>\n",
       "      <td>0.5424</td>\n",
       "      <td>0.654322</td>\n",
       "      <td>0.373841</td>\n",
       "      <td>0.942857</td>\n",
       "      <td>0.549295</td>\n",
       "      <td>0.535398</td>\n",
       "    </tr>\n",
       "  </tbody>\n",
       "</table>\n",
       "</div>"
      ],
      "text/plain": [
       "                    Model  Cross Val Score  Test Accuracy  Average_Accuracy  \\\n",
       "5  RandomForestClassifier         0.764294         0.9290          0.846647   \n",
       "4  DecisionTreeClassifier         0.730566         0.9395          0.835033   \n",
       "3                     SVC         0.798731         0.8076          0.803166   \n",
       "0      LogisticRegression         0.802106         0.8039          0.803003   \n",
       "7      AdaBoostClassifier         0.799797         0.8026          0.801198   \n",
       "1    KNeighborsClassifier         0.762881         0.8387          0.800790   \n",
       "2              GaussianNB         0.736608         0.7368          0.736704   \n",
       "6           SGDClassifier         0.766244         0.5424          0.654322   \n",
       "\n",
       "   Precision    Recall  Avg Precision Recall  F1 Score  \n",
       "5   0.562500  0.444156              0.525998  0.496372  \n",
       "4   0.500000  0.475325              0.382063  0.487350  \n",
       "3   0.722628  0.514286              0.650592  0.600910  \n",
       "0   0.683333  0.532468              0.663086  0.598540  \n",
       "7   0.697674  0.545455              0.674440  0.612245  \n",
       "1   0.557471  0.503896              0.516306  0.529332  \n",
       "2   0.487562  0.763636              0.647102  0.595142  \n",
       "6   0.373841  0.942857              0.549295  0.535398  "
      ]
     },
     "execution_count": 52,
     "metadata": {},
     "output_type": "execute_result"
    }
   ],
   "source": [
    "#Creating pandas dataframe with Model and corresponding accuracy\n",
    "#accuracy_df = pd.DataFrame({'Model':classifier_model_list , 'Test Accuracy':classifier_accuracy_test, 'Train Accuracy' :classifier_accuracy_train , 'Precision':precisionscore, 'Recall':recallscore ,'F1 Score':f1score},index=None)\n",
    "accuracy_df = pd.DataFrame({'Model':classifier_model_list , 'Cross Val Score':cv_score, 'Test Accuracy' :classifier_accuracy_train , 'Precision':precisionscore, 'Recall':recallscore ,'Avg Precision Recall':avg_pre_rec_score ,'F1 Score':f1score})\n",
    "\n",
    "# Calculating Average Accuracy = (Test + Train)/2\n",
    "accuracy_df['Average_Accuracy'] =  (accuracy_df['Cross Val Score'] + accuracy_df['Test Accuracy'] )/ 2\n",
    "\n",
    "#Arranging the Columns\n",
    "print(\"\\n*------------------------------    CLASSIFICATION MODEL PERFORMANCE EVALUATION      ---------------------*\\n\")\n",
    "accuracy_df = accuracy_df[['Model','Cross Val Score', 'Test Accuracy', 'Average_Accuracy','Precision', 'Recall','Avg Precision Recall','F1 Score']]  # This will arrange the columns in the order we want\n",
    "\n",
    "#Sorting the Columns based on Average Accuracy\n",
    "accuracy_df.sort_values('Average_Accuracy', axis=0, ascending=False, inplace=True) # Sorting the data with highest accuracy in the top\n",
    "accuracy_df\n",
    "#accuracy_df.transpose()"
   ]
  },
  {
   "cell_type": "markdown",
   "metadata": {},
   "source": [
    "#### Observations\n",
    "\n",
    "1. Since our dataset class is imbalanced. Churn \"Yes\" is almost 3 times as \"No', Accuracy is not the right measure and we have to consider Precision, Recall and F1 Score for further evaluation and improvement of model\n",
    "    \n",
    "    1.1 Precision: A measure of a classifiers exactness.A low precision can also indicate a large number of False Positives.\n",
    "    \n",
    "    1.2 Recall: A measure of a classifiers completeness.A low recall indicates many False Negatives.\n",
    "    \n",
    "    1.3 F1 Score (or F-score): A weighted average or Harmonic Mean of precision and recall.\n",
    "\n",
    "2. Logistic Regression (AUC = 0.66) and Adaboost model (AUC = 0.67) looks promising. Let's try to improve the model"
   ]
  },
  {
   "cell_type": "markdown",
   "metadata": {},
   "source": [
    "## Improving our Model: Model Tuning\n",
    "### Grid Search for Logistic Regression Classifier and running with optimized hyperparameters"
   ]
  },
  {
   "cell_type": "code",
   "execution_count": 53,
   "metadata": {},
   "outputs": [
    {
     "name": "stdout",
     "output_type": "stream",
     "text": [
      "Unoptimized model\n",
      "------\n",
      "Accuracy score on testing data: 0.8048\n",
      "F-score on testing data: 0.6467\n",
      "\n",
      "Optimized Model\n",
      "------\n",
      "Final accuracy score on the testing data: 0.8041\n",
      "Final F-score on the testing data: 0.6451\n",
      "LogisticRegression(C=2.7825594022071245, class_weight=None, dual=False,\n",
      "          fit_intercept=True, intercept_scaling=1, max_iter=100,\n",
      "          multi_class='ovr', n_jobs=1, penalty='l2', random_state=None,\n",
      "          solver='liblinear', tol=0.0001, verbose=0, warm_start=False)\n"
     ]
    }
   ],
   "source": [
    "from sklearn.grid_search import GridSearchCV\n",
    "from sklearn.metrics import make_scorer\n",
    "from sklearn.metrics import fbeta_score, accuracy_score\n",
    "from sklearn.linear_model  import LogisticRegression # Logistic Regression Classifier\n",
    "\n",
    "#Logistic Regression Classifier\n",
    "clf = LogisticRegression()\n",
    "\n",
    "#Hyperparameters\n",
    "parameters = {'C':np.logspace(0, 4, 10), \n",
    "              'penalty' : ['l1', 'l2']\n",
    "             }\n",
    "\n",
    "# Make an fbeta_score scoring object\n",
    "scorer = make_scorer(fbeta_score,beta=0.5)\n",
    "\n",
    "# Perform grid search on the classifier using 'scorer' as the scoring method\n",
    "grid_obj = GridSearchCV(clf, parameters,scorer)\n",
    "\n",
    "# Fit the grid search object to the training data and find the optimal parameters\n",
    "grid_fit = grid_obj.fit(X_train,y_train)\n",
    "\n",
    "# Get the estimator\n",
    "best_clf = grid_fit.best_estimator_\n",
    "\n",
    "# View best hyperparameters\n",
    "#print(grid_srchfit.best_params_)\n",
    "\n",
    "# Make predictions using the unoptimized and model\n",
    "predictions = (clf.fit(X_train, y_train)).predict(X_test)\n",
    "best_predictions = best_clf.predict(X_test)\n",
    "\n",
    "# Report the before-and-afterscores\n",
    "print (\"Unoptimized model\\n------\")\n",
    "print (\"Accuracy score on testing data: {:.4f}\".format(accuracy_score(y_test, predictions)))\n",
    "print (\"F-score on testing data: {:.4f}\".format(fbeta_score(y_test, predictions, beta = 0.5)))\n",
    "print (\"\\nOptimized Model\\n------\")\n",
    "print (\"Final accuracy score on the testing data: {:.4f}\".format(accuracy_score(y_test, best_predictions)))\n",
    "print (\"Final F-score on the testing data: {:.4f}\".format(fbeta_score(y_test, best_predictions, beta = 0.5)))\n",
    "print (best_clf)"
   ]
  },
  {
   "cell_type": "markdown",
   "metadata": {},
   "source": [
    "### Grid Search for Adaboost Classifier and running with optimized hyperparameters"
   ]
  },
  {
   "cell_type": "code",
   "execution_count": 54,
   "metadata": {},
   "outputs": [
    {
     "name": "stdout",
     "output_type": "stream",
     "text": [
      "Unoptimized model\n",
      "------\n",
      "Accuracy score on testing data: 0.7388\n",
      "F-score on testing data: 0.5185\n",
      "\n",
      "Optimized Model\n",
      "------\n",
      "Final accuracy score on the testing data: 0.8041\n",
      "Final F-score on the testing data: 0.6452\n",
      "AdaBoostClassifier(algorithm='SAMME.R',\n",
      "          base_estimator=DecisionTreeClassifier(class_weight=None, criterion='gini', max_depth=1,\n",
      "            max_features=None, max_leaf_nodes=None,\n",
      "            min_impurity_decrease=0.0, min_impurity_split=None,\n",
      "            min_samples_leaf=1, min_samples_split=2,\n",
      "            min_weight_fraction_leaf=0.0, presort=False, random_state=None,\n",
      "            splitter='best'),\n",
      "          learning_rate=0.5, n_estimators=120, random_state=None)\n"
     ]
    }
   ],
   "source": [
    "# TODO: Import 'GridSearchCV', 'make_scorer', and any other necessary libraries\n",
    "from sklearn.grid_search import GridSearchCV\n",
    "from sklearn.metrics import make_scorer\n",
    "from sklearn.metrics import fbeta_score, accuracy_score\n",
    "\n",
    "# TODO: Initialize the classifier\n",
    "clf = AdaBoostClassifier(base_estimator=DecisionTreeClassifier())\n",
    "\n",
    "# TODO: Create the parameters list you wish to tune\n",
    "parameters = {'n_estimators':[50, 120], \n",
    "              'learning_rate':[0.1, 0.5, 1.],\n",
    "              'base_estimator__min_samples_split' : np.arange(2, 8, 2),\n",
    "              'base_estimator__max_depth' : np.arange(1, 4, 1)\n",
    "             }\n",
    "\n",
    "# TODO: Make an fbeta_score scoring object\n",
    "scorer = make_scorer(fbeta_score,beta=0.5)\n",
    "\n",
    "# TODO: Perform grid search on the classifier using 'scorer' as the scoring method\n",
    "grid_obj = GridSearchCV(clf, parameters,scorer)\n",
    "\n",
    "# TODO: Fit the grid search object to the training data and find the optimal parameters\n",
    "grid_fit = grid_obj.fit(X_train,y_train)\n",
    "\n",
    "# Get the estimator\n",
    "best_clf = grid_fit.best_estimator_\n",
    "\n",
    "# Make predictions using the unoptimized and model\n",
    "predictions = (clf.fit(X_train, y_train)).predict(X_test)\n",
    "best_predictions = best_clf.predict(X_test)\n",
    "\n",
    "# Report the before-and-afterscores\n",
    "print (\"Unoptimized model\\n------\")\n",
    "print (\"Accuracy score on testing data: {:.4f}\".format(accuracy_score(y_test, predictions)))\n",
    "print (\"F-score on testing data: {:.4f}\".format(fbeta_score(y_test, predictions, beta = 0.5)))\n",
    "print (\"\\nOptimized Model\\n------\")\n",
    "print (\"Final accuracy score on the testing data: {:.4f}\".format(accuracy_score(y_test, best_predictions)))\n",
    "print (\"Final F-score on the testing data: {:.4f}\".format(fbeta_score(y_test, best_predictions, beta = 0.5)))\n",
    "print (best_clf)"
   ]
  },
  {
   "cell_type": "markdown",
   "metadata": {},
   "source": [
    "Observations:\n",
    "Both Logistic Regression & Adaboost Classifier gives us final F score of 0.65  and accuracy of 0.80 post grid search."
   ]
  },
  {
   "cell_type": "markdown",
   "metadata": {},
   "source": [
    "## Feature Importance\n",
    "### In this section , we will run scikit learn feature importances to evaluate which columns are being give higher weights"
   ]
  },
  {
   "cell_type": "code",
   "execution_count": 71,
   "metadata": {},
   "outputs": [
    {
     "name": "stdout",
     "output_type": "stream",
     "text": [
      "             Features  Adaboost_Score\n",
      "11           Contract            0.18\n",
      "14  MonthlyChargesCat            0.18\n",
      "3           TenureCat            0.14\n",
      "13      PaymentMethod            0.12\n",
      "6     InternetService            0.08\n",
      "9         TechSupport            0.06\n",
      "5       MultipleLines            0.04\n",
      "8    DeviceProtection            0.04\n",
      "10  StreamingServices            0.04\n",
      "12   PaperlessBilling            0.04\n",
      "1       SeniorCitizen            0.02\n",
      "2              Family            0.02\n",
      "4        PhoneService            0.02\n",
      "7      OnlineServices            0.02\n",
      "0              Gender            0.00\n"
     ]
    }
   ],
   "source": [
    "# Feature Importance for Adaboost\n",
    "from sklearn.feature_selection import RFE\n",
    "features = list(datset_churn.columns[1:16])\n",
    "\n",
    "# Feature Importance for AdaBoostClassifier\n",
    "adboost_cls = AdaBoostClassifier()\n",
    "adboost_cls .fit(X_train, y_train)\n",
    "feature_imp_adboost = np.round(adboost_cls.feature_importances_, 5)\n",
    "\n",
    "feature_imp_df = pd.DataFrame({'Features' :features, 'Adaboost_Score': feature_imp_adboost})\n",
    "feature_imp_df.sort_values('Adaboost_Score', axis=0, ascending=False, inplace=True)\n",
    "print(feature_imp_df)"
   ]
  },
  {
   "cell_type": "markdown",
   "metadata": {},
   "source": [
    "#### Observation:"
   ]
  },
  {
   "cell_type": "markdown",
   "metadata": {},
   "source": [
    "1. Overall - Contract, Monthly Charges, Tenure and Payment Method and Internet Service are leading columns contributing to churn. They consitute 60% weight from Mean_Feature_Importance\n",
    "\n",
    "2. Gender has no impact on Churn"
   ]
  },
  {
   "cell_type": "markdown",
   "metadata": {},
   "source": [
    "### Now we will create the dataset with top 5 columns and run Adaboost classifier to see if there is any improvement in performance"
   ]
  },
  {
   "cell_type": "code",
   "execution_count": 63,
   "metadata": {},
   "outputs": [
    {
     "name": "stdout",
     "output_type": "stream",
     "text": [
      "There are 5634 samples in the training set and 1409 samples in the test set\n"
     ]
    }
   ],
   "source": [
    "dataset_churn_new = datset_churn[['Contract', 'MonthlyChargesCat', 'TenureCat', 'PaymentMethod', 'Churn']]\n",
    "X_new = dataset_churn_new.iloc[:,:-1].values # Feature Variable\n",
    "y_new = dataset_churn_new.iloc[:,-1].values # Target Variable\n",
    "\n",
    "#Dividing data into test & train splitting 70% data for training anf 30% for test\n",
    "X_train_new, X_test_new, y_train_new, y_test_new = train_test_split(X_new , y_new, test_size=0.20)\n",
    "print('There are {} samples in the training set and {} samples in the test set'.format(X_train_new.shape[0], X_test_new.shape[0]))"
   ]
  },
  {
   "cell_type": "code",
   "execution_count": 64,
   "metadata": {},
   "outputs": [
    {
     "name": "stdout",
     "output_type": "stream",
     "text": [
      "\n",
      " Adaboost Classifier \n",
      "\n"
     ]
    },
    {
     "data": {
      "image/png": "[encoded data removed]",
      "text/plain": [
       "<Figure size 432x288 with 1 Axes>"
      ]
     },
     "metadata": {},
     "output_type": "display_data"
    },
    {
     "name": "stdout",
     "output_type": "stream",
     "text": [
      "Recall=0.463 \n",
      "Precision=0.649\n",
      "F1=0.540\n",
      "Average precision-recall score: 0.617\n"
     ]
    },
    {
     "data": {
      "image/png": "[encoded data removed]",
      "text/plain": [
       "<Figure size 432x288 with 1 Axes>"
      ]
     },
     "metadata": {},
     "output_type": "display_data"
    }
   ],
   "source": [
    "#Adaboost Classifier , filled the hyperparameter from the Grid Search\n",
    "classifier = AdaBoostClassifier(algorithm='SAMME.R',\n",
    "          base_estimator=DecisionTreeClassifier(class_weight=None, criterion='gini', max_depth=1,\n",
    "            max_features=None, max_leaf_nodes=None,\n",
    "            min_impurity_decrease=0.0, min_impurity_split=None,\n",
    "            min_samples_leaf=1, min_samples_split=2,\n",
    "            min_weight_fraction_leaf=0.0, presort=False, random_state=None,\n",
    "            splitter='best'),\n",
    "          learning_rate=0.5, n_estimators=120, random_state=None)\n",
    " \n",
    "# Fitting the training set into classification model\n",
    "classifier.fit(X_train_new, y_train_new)\n",
    "    \n",
    "# Predicting the output on test datset\n",
    "y_pred_new = classifier.predict(X_test_new)    \n",
    "\n",
    "try:\n",
    "    y_pred_new_score = classifier.decision_function(X_test_new)\n",
    "except:\n",
    "    y_pred_new_score = classifier.predict_proba(X_test_new)[:,1]\n",
    "    \n",
    "#Confusion Matrix and Precision Recall Curve\n",
    "plot_confusion_matrix('Adaboost Classifier', y_test_new, y_pred_new)\n",
    "plot_prec_rec_curve('Adaboost Classifier', y_test_new, y_pred_new_score)"
   ]
  },
  {
   "cell_type": "code",
   "execution_count": 66,
   "metadata": {},
   "outputs": [
    {
     "name": "stdout",
     "output_type": "stream",
     "text": [
      "\n",
      " Logistic Regression \n",
      "\n"
     ]
    },
    {
     "data": {
      "image/png": "[encoded data removed]",
      "text/plain": [
       "<Figure size 432x288 with 1 Axes>"
      ]
     },
     "metadata": {},
     "output_type": "display_data"
    },
    {
     "name": "stdout",
     "output_type": "stream",
     "text": [
      "Recall=0.509 \n",
      "Precision=0.648\n",
      "F1=0.570\n",
      "Average precision-recall score: 0.608\n"
     ]
    },
    {
     "data": {
      "image/png": "[encoded data removed]",
      "text/plain": [
       "<Figure size 432x288 with 1 Axes>"
      ]
     },
     "metadata": {},
     "output_type": "display_data"
    }
   ],
   "source": [
    "#Logistic Regression , filled the hyperparameter from the Grid Search\n",
    "classifier_logreg = LogisticRegression(C=2.7825594022071245, class_weight=None, dual=False,\n",
    "          fit_intercept=True, intercept_scaling=1, max_iter=100,\n",
    "          multi_class='ovr', n_jobs=1, penalty='l2', random_state=None,\n",
    "          solver='liblinear', tol=0.0001, verbose=0, warm_start=False)\n",
    " \n",
    "# Fitting the training set into classification model\n",
    "classifier_logreg.fit(X_train_new, y_train_new)\n",
    "    \n",
    "# Predicting the output on test datset\n",
    "y_pred_new = classifier_logreg.predict(X_test_new)    \n",
    "\n",
    "try:\n",
    "    y_pred_new_score = classifier_logreg.decision_function(X_test_new)\n",
    "except:\n",
    "    y_pred_new_score = classifier_logreg.predict_proba(X_test_new)[:,1]\n",
    "    \n",
    "#Confusion Matrix and Precision Recall Curve\n",
    "plot_confusion_matrix('Logistic Regression', y_test_new, y_pred_new)\n",
    "plot_prec_rec_curve('Logistic Regression', y_test_new, y_pred_new_score)"
   ]
  },
  {
   "cell_type": "markdown",
   "metadata": {},
   "source": [
    "## Conclusion\n",
    "Adaboost classifier performed well with Precision Recall Curve -  0.62\n",
    "Contract, Monthly Charges, Tenure and Payment Method and Internet Service are leading columns contributing to churn\n",
    "\n",
    "Model can be further improved using the strategies discussed in next paragragh.\n",
    "\n",
    "### Handling Imbalaced Dataset :\n",
    "\n",
    "1. Increasing the number of instances of the minority class (This case Churn = 'Yes') . We need more data with Churn Class as \"Yes\".\n",
    "2. Decreasing the number of instances of majority class\n",
    "3. Random Under-Sampling\n",
    "4. Random Over-Sampling\n",
    "5. Cluster-Based Over Sampling\n",
    "6. Synthetic Minority Over-sampling Technique(SMOTE)\n",
    "\n",
    "Detailed explanation - https://www.analyticsvidhya.com/blog/2017/03/imbalanced-classification-problem/"
   ]
  },
  {
   "cell_type": "markdown",
   "metadata": {},
   "source": [
    "Hope you enjoyed the kernel. Thank You!\n",
    "Jagannath Banerjee | jagannath.banerjee@gmail.com | https://www.linkedin.com/in/jagannath-banerjee/ | Aug 2018"
   ]
  },
  {
   "cell_type": "code",
   "execution_count": null,
   "metadata": {},
   "outputs": [],
   "source": []
  }
 ],
 "metadata": {
  "kernelspec": {
   "display_name": "Python 3",
   "language": "python",
   "name": "python3"
  },
  "language_info": {
   "codemirror_mode": {
    "name": "ipython",
    "version": 3
   },
   "file_extension": ".py",
   "mimetype": "text/x-python",
   "name": "python",
   "nbconvert_exporter": "python",
   "pygments_lexer": "ipython3",
   "version": "3.6.4"
  }
 },
 "nbformat": 4,
 "nbformat_minor": 2
}
