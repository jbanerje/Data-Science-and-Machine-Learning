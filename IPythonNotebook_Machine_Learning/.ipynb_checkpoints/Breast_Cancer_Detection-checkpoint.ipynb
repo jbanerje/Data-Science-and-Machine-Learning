{
 "cells": [
  {
   "cell_type": "markdown",
   "metadata": {
    "id": "8WVyV0Kny52o"
   },
   "source": [
    "# Breast Cancer Wisconsin (Original) Data Set\n",
    "(https://archive.ics.uci.edu/ml/datasets/breast+cancer+wisconsin+%28original%29)"
   ]
  },
  {
   "cell_type": "markdown",
   "metadata": {
    "id": "akRinIVuyPtz"
   },
   "source": [
    "Attribute Information:\n",
    "\n",
    "1. Sample code number: id number\n",
    "2. Clump Thickness: 1 - 10\n",
    "3. Uniformity of Cell Size: 1 - 10\n",
    "4. Uniformity of Cell Shape: 1 - 10\n",
    "5. Marginal Adhesion: 1 - 10\n",
    "6. Single Epithelial Cell Size: 1 - 10\n",
    "7. Bare Nuclei: 1 - 10\n",
    "8. Bland Chromatin: 1 - 10\n",
    "9. Normal Nucleoli: 1 - 10\n",
    "10. Mitoses: 1 - 10\n",
    "11. Class: (2 for benign, 4 for malignant)"
   ]
  },
  {
   "cell_type": "code",
   "execution_count": 101,
   "metadata": {
    "id": "D4giqu9xvtVO"
   },
   "outputs": [],
   "source": [
    "import pandas as pd\n",
    "import numpy as np\n",
    "import matplotlib.pyplot as plt\n",
    "%matplotlib inline\n",
    "import seaborn as sns\n",
    "import warnings\n",
    "warnings.filterwarnings('ignore')\n",
    "\n",
    "from sklearn.preprocessing import LabelEncoder # Encode Categorical Variable to Numerical Variable\n",
    "from sklearn.metrics import confusion_matrix # Library for model evaluation\n",
    "from sklearn.metrics import accuracy_score # Library for model evaluation\n",
    "from sklearn.model_selection import train_test_split # Library to split datset into test and train\n",
    "\n",
    "from sklearn.dummy import DummyClassifier\n",
    "from sklearn.linear_model  import LogisticRegression # Logistic Regression Classifier\n",
    "from sklearn.linear_model import SGDClassifier # Stochastic Gradient Descent Classifier\n",
    "from sklearn.tree import DecisionTreeClassifier # Decision Tree Classifier\n",
    "from sklearn.ensemble  import RandomForestClassifier # Random Forest Classifier\n",
    "from sklearn.neighbors import KNeighborsClassifier # K Nearest neighbors Classifier\n",
    "from sklearn.naive_bayes import GaussianNB #Naive Bayes Classifier\n",
    "from sklearn.svm import SVC #Support vector Machine Classifier\n",
    "from sklearn.ensemble import AdaBoostClassifier # Ada Boost Classifier\n",
    "from sklearn.metrics import accuracy_score, f1_score, precision_score, recall_score, classification_report, confusion_matrix, roc_auc_score\n",
    "from sklearn.model_selection import cross_val_score\n",
    "from sklearn.metrics import precision_recall_curve\n",
    "from sklearn.metrics import average_precision_score\n",
    "from sklearn.model_selection import cross_val_score, GridSearchCV, KFold, RandomizedSearchCV, train_test_split\n",
    "from sklearn.metrics import average_precision_score, precision_recall_curve\n",
    "from sklearn.model_selection import GridSearchCV\n",
    "from xgboost import XGBClassifier\n",
    "from lightgbm import LGBMClassifier\n",
    "from sklearn.neural_network import MLPClassifier"
   ]
  },
  {
   "cell_type": "markdown",
   "metadata": {
    "id": "cPFxIvC-MjvO"
   },
   "source": [
    "## Data Read and Exploration"
   ]
  },
  {
   "cell_type": "code",
   "execution_count": 70,
   "metadata": {
    "colab": {
     "base_uri": "https://localhost:8080/",
     "height": 257
    },
    "id": "ODXdXsRpv4VE",
    "outputId": "1744b407-bfe5-4533-b8c8-8d39b70706bf"
   },
   "outputs": [
    {
     "name": "stdout",
     "output_type": "stream",
     "text": [
      "Dataset has 699 rows and 11 columns. First few Columns are: \n",
      "\n"
     ]
    },
    {
     "data": {
      "text/html": [
       "<div>\n",
       "<style scoped>\n",
       "    .dataframe tbody tr th:only-of-type {\n",
       "        vertical-align: middle;\n",
       "    }\n",
       "\n",
       "    .dataframe tbody tr th {\n",
       "        vertical-align: top;\n",
       "    }\n",
       "\n",
       "    .dataframe thead th {\n",
       "        text-align: right;\n",
       "    }\n",
       "</style>\n",
       "<table border=\"1\" class=\"dataframe\">\n",
       "  <thead>\n",
       "    <tr style=\"text-align: right;\">\n",
       "      <th></th>\n",
       "      <th>id</th>\n",
       "      <th>clump_thickness</th>\n",
       "      <th>size_uniformity</th>\n",
       "      <th>shape_uniformity</th>\n",
       "      <th>marginal_adhesion</th>\n",
       "      <th>epithelial_size</th>\n",
       "      <th>bare_nucleoli</th>\n",
       "      <th>bland_chromatin</th>\n",
       "      <th>normal_nucleoli</th>\n",
       "      <th>mitoses</th>\n",
       "      <th>class</th>\n",
       "    </tr>\n",
       "  </thead>\n",
       "  <tbody>\n",
       "    <tr>\n",
       "      <th>0</th>\n",
       "      <td>1000025</td>\n",
       "      <td>5</td>\n",
       "      <td>1</td>\n",
       "      <td>1</td>\n",
       "      <td>1</td>\n",
       "      <td>2</td>\n",
       "      <td>1</td>\n",
       "      <td>3</td>\n",
       "      <td>1</td>\n",
       "      <td>1</td>\n",
       "      <td>2</td>\n",
       "    </tr>\n",
       "    <tr>\n",
       "      <th>1</th>\n",
       "      <td>1002945</td>\n",
       "      <td>5</td>\n",
       "      <td>4</td>\n",
       "      <td>4</td>\n",
       "      <td>5</td>\n",
       "      <td>7</td>\n",
       "      <td>10</td>\n",
       "      <td>3</td>\n",
       "      <td>2</td>\n",
       "      <td>1</td>\n",
       "      <td>2</td>\n",
       "    </tr>\n",
       "    <tr>\n",
       "      <th>2</th>\n",
       "      <td>1015425</td>\n",
       "      <td>3</td>\n",
       "      <td>1</td>\n",
       "      <td>1</td>\n",
       "      <td>1</td>\n",
       "      <td>2</td>\n",
       "      <td>2</td>\n",
       "      <td>3</td>\n",
       "      <td>1</td>\n",
       "      <td>1</td>\n",
       "      <td>2</td>\n",
       "    </tr>\n",
       "    <tr>\n",
       "      <th>3</th>\n",
       "      <td>1016277</td>\n",
       "      <td>6</td>\n",
       "      <td>8</td>\n",
       "      <td>8</td>\n",
       "      <td>1</td>\n",
       "      <td>3</td>\n",
       "      <td>4</td>\n",
       "      <td>3</td>\n",
       "      <td>7</td>\n",
       "      <td>1</td>\n",
       "      <td>2</td>\n",
       "    </tr>\n",
       "    <tr>\n",
       "      <th>4</th>\n",
       "      <td>1017023</td>\n",
       "      <td>4</td>\n",
       "      <td>1</td>\n",
       "      <td>1</td>\n",
       "      <td>3</td>\n",
       "      <td>2</td>\n",
       "      <td>1</td>\n",
       "      <td>3</td>\n",
       "      <td>1</td>\n",
       "      <td>1</td>\n",
       "      <td>2</td>\n",
       "    </tr>\n",
       "  </tbody>\n",
       "</table>\n",
       "</div>"
      ],
      "text/plain": [
       "        id  clump_thickness  size_uniformity  shape_uniformity  \\\n",
       "0  1000025                5                1                 1   \n",
       "1  1002945                5                4                 4   \n",
       "2  1015425                3                1                 1   \n",
       "3  1016277                6                8                 8   \n",
       "4  1017023                4                1                 1   \n",
       "\n",
       "   marginal_adhesion  epithelial_size bare_nucleoli  bland_chromatin  \\\n",
       "0                  1                2             1                3   \n",
       "1                  5                7            10                3   \n",
       "2                  1                2             2                3   \n",
       "3                  1                3             4                3   \n",
       "4                  3                2             1                3   \n",
       "\n",
       "   normal_nucleoli  mitoses  class  \n",
       "0                1        1      2  \n",
       "1                2        1      2  \n",
       "2                1        1      2  \n",
       "3                7        1      2  \n",
       "4                1        1      2  "
      ]
     },
     "execution_count": 70,
     "metadata": {},
     "output_type": "execute_result"
    }
   ],
   "source": [
    "br_can_df = pd.read_csv('../data/breastCancer.csv')\n",
    "print(f'Dataset has {br_can_df.shape[0]} rows and {br_can_df.shape[1]} columns. First few Columns are: \\n')\n",
    "br_can_df.head()"
   ]
  },
  {
   "cell_type": "code",
   "execution_count": 71,
   "metadata": {
    "colab": {
     "base_uri": "https://localhost:8080/"
    },
    "id": "KTEtC6bhwW1O",
    "outputId": "66f448a7-edc6-4e9d-a046-413c04b8b8fc"
   },
   "outputs": [
    {
     "data": {
      "text/plain": [
       "['id',\n",
       " 'clump_thickness',\n",
       " 'size_uniformity',\n",
       " 'shape_uniformity',\n",
       " 'marginal_adhesion',\n",
       " 'epithelial_size',\n",
       " 'bare_nucleoli',\n",
       " 'bland_chromatin',\n",
       " 'normal_nucleoli',\n",
       " 'mitoses',\n",
       " 'class']"
      ]
     },
     "execution_count": 71,
     "metadata": {},
     "output_type": "execute_result"
    }
   ],
   "source": [
    "# Columns\n",
    "list(br_can_df.columns)"
   ]
  },
  {
   "cell_type": "code",
   "execution_count": 72,
   "metadata": {
    "colab": {
     "base_uri": "https://localhost:8080/"
    },
    "id": "GuNe_omozqgK",
    "outputId": "bd31ffd6-2244-4b7c-edbf-6102ee5234f1"
   },
   "outputs": [
    {
     "name": "stdout",
     "output_type": "stream",
     "text": [
      "<class 'pandas.core.frame.DataFrame'>\n",
      "RangeIndex: 699 entries, 0 to 698\n",
      "Data columns (total 11 columns):\n",
      " #   Column             Non-Null Count  Dtype \n",
      "---  ------             --------------  ----- \n",
      " 0   id                 699 non-null    int64 \n",
      " 1   clump_thickness    699 non-null    int64 \n",
      " 2   size_uniformity    699 non-null    int64 \n",
      " 3   shape_uniformity   699 non-null    int64 \n",
      " 4   marginal_adhesion  699 non-null    int64 \n",
      " 5   epithelial_size    699 non-null    int64 \n",
      " 6   bare_nucleoli      699 non-null    object\n",
      " 7   bland_chromatin    699 non-null    int64 \n",
      " 8   normal_nucleoli    699 non-null    int64 \n",
      " 9   mitoses            699 non-null    int64 \n",
      " 10  class              699 non-null    int64 \n",
      "dtypes: int64(10), object(1)\n",
      "memory usage: 60.2+ KB\n"
     ]
    }
   ],
   "source": [
    "# Information on Columns\n",
    "br_can_df.info()"
   ]
  },
  {
   "cell_type": "markdown",
   "metadata": {
    "id": "a8ANto9VNOiJ"
   },
   "source": [
    "### Observations:\n",
    "* Dataset has 699 records.\n",
    "* No Null values.\n",
    "* All columns except bare nucleoli are integer.\n",
    "* Overall 10 integer column and 1 object column.\n",
    "* Id columns must be record identifier and can be removed due to high cardnality.\n",
    "* Class column identifies if the breast cancer is bening or malignant."
   ]
  },
  {
   "cell_type": "code",
   "execution_count": 73,
   "metadata": {
    "colab": {
     "base_uri": "https://localhost:8080/"
    },
    "id": "uNJ7Ej-ewqaM",
    "outputId": "80e820d7-5e25-48d2-c741-1bba6b7bf07b"
   },
   "outputs": [
    {
     "data": {
      "text/plain": [
       "2    0.655222\n",
       "4    0.344778\n",
       "Name: class, dtype: float64"
      ]
     },
     "execution_count": 73,
     "metadata": {},
     "output_type": "execute_result"
    }
   ],
   "source": [
    "# checking distribution of the target variables\n",
    "br_can_df['class'].value_counts(normalize=True)"
   ]
  },
  {
   "cell_type": "markdown",
   "metadata": {
    "id": "J3xupZ7AOCmh"
   },
   "source": [
    "### Observation : 65% of the records are benign cancer and 35% are malignant."
   ]
  },
  {
   "cell_type": "code",
   "execution_count": 74,
   "metadata": {
    "colab": {
     "base_uri": "https://localhost:8080/",
     "height": 357
    },
    "id": "Nn-CqqgDw0bO",
    "outputId": "3188148c-6ea7-415e-d10b-79c1105f1a82"
   },
   "outputs": [
    {
     "data": {
      "text/html": [
       "<div>\n",
       "<style scoped>\n",
       "    .dataframe tbody tr th:only-of-type {\n",
       "        vertical-align: middle;\n",
       "    }\n",
       "\n",
       "    .dataframe tbody tr th {\n",
       "        vertical-align: top;\n",
       "    }\n",
       "\n",
       "    .dataframe thead th {\n",
       "        text-align: right;\n",
       "    }\n",
       "</style>\n",
       "<table border=\"1\" class=\"dataframe\">\n",
       "  <thead>\n",
       "    <tr style=\"text-align: right;\">\n",
       "      <th></th>\n",
       "      <th>count</th>\n",
       "      <th>mean</th>\n",
       "      <th>std</th>\n",
       "      <th>min</th>\n",
       "      <th>25%</th>\n",
       "      <th>50%</th>\n",
       "      <th>75%</th>\n",
       "      <th>max</th>\n",
       "    </tr>\n",
       "  </thead>\n",
       "  <tbody>\n",
       "    <tr>\n",
       "      <th>id</th>\n",
       "      <td>699.0</td>\n",
       "      <td>1.071704e+06</td>\n",
       "      <td>617095.729819</td>\n",
       "      <td>61634.0</td>\n",
       "      <td>870688.5</td>\n",
       "      <td>1171710.0</td>\n",
       "      <td>1238298.0</td>\n",
       "      <td>13454352.0</td>\n",
       "    </tr>\n",
       "    <tr>\n",
       "      <th>clump_thickness</th>\n",
       "      <td>699.0</td>\n",
       "      <td>4.417740e+00</td>\n",
       "      <td>2.815741</td>\n",
       "      <td>1.0</td>\n",
       "      <td>2.0</td>\n",
       "      <td>4.0</td>\n",
       "      <td>6.0</td>\n",
       "      <td>10.0</td>\n",
       "    </tr>\n",
       "    <tr>\n",
       "      <th>size_uniformity</th>\n",
       "      <td>699.0</td>\n",
       "      <td>3.134478e+00</td>\n",
       "      <td>3.051459</td>\n",
       "      <td>1.0</td>\n",
       "      <td>1.0</td>\n",
       "      <td>1.0</td>\n",
       "      <td>5.0</td>\n",
       "      <td>10.0</td>\n",
       "    </tr>\n",
       "    <tr>\n",
       "      <th>shape_uniformity</th>\n",
       "      <td>699.0</td>\n",
       "      <td>3.207439e+00</td>\n",
       "      <td>2.971913</td>\n",
       "      <td>1.0</td>\n",
       "      <td>1.0</td>\n",
       "      <td>1.0</td>\n",
       "      <td>5.0</td>\n",
       "      <td>10.0</td>\n",
       "    </tr>\n",
       "    <tr>\n",
       "      <th>marginal_adhesion</th>\n",
       "      <td>699.0</td>\n",
       "      <td>2.806867e+00</td>\n",
       "      <td>2.855379</td>\n",
       "      <td>1.0</td>\n",
       "      <td>1.0</td>\n",
       "      <td>1.0</td>\n",
       "      <td>4.0</td>\n",
       "      <td>10.0</td>\n",
       "    </tr>\n",
       "    <tr>\n",
       "      <th>epithelial_size</th>\n",
       "      <td>699.0</td>\n",
       "      <td>3.216023e+00</td>\n",
       "      <td>2.214300</td>\n",
       "      <td>1.0</td>\n",
       "      <td>2.0</td>\n",
       "      <td>2.0</td>\n",
       "      <td>4.0</td>\n",
       "      <td>10.0</td>\n",
       "    </tr>\n",
       "    <tr>\n",
       "      <th>bland_chromatin</th>\n",
       "      <td>699.0</td>\n",
       "      <td>3.437768e+00</td>\n",
       "      <td>2.438364</td>\n",
       "      <td>1.0</td>\n",
       "      <td>2.0</td>\n",
       "      <td>3.0</td>\n",
       "      <td>5.0</td>\n",
       "      <td>10.0</td>\n",
       "    </tr>\n",
       "    <tr>\n",
       "      <th>normal_nucleoli</th>\n",
       "      <td>699.0</td>\n",
       "      <td>2.866953e+00</td>\n",
       "      <td>3.053634</td>\n",
       "      <td>1.0</td>\n",
       "      <td>1.0</td>\n",
       "      <td>1.0</td>\n",
       "      <td>4.0</td>\n",
       "      <td>10.0</td>\n",
       "    </tr>\n",
       "    <tr>\n",
       "      <th>mitoses</th>\n",
       "      <td>699.0</td>\n",
       "      <td>1.589413e+00</td>\n",
       "      <td>1.715078</td>\n",
       "      <td>1.0</td>\n",
       "      <td>1.0</td>\n",
       "      <td>1.0</td>\n",
       "      <td>1.0</td>\n",
       "      <td>10.0</td>\n",
       "    </tr>\n",
       "    <tr>\n",
       "      <th>class</th>\n",
       "      <td>699.0</td>\n",
       "      <td>2.689557e+00</td>\n",
       "      <td>0.951273</td>\n",
       "      <td>2.0</td>\n",
       "      <td>2.0</td>\n",
       "      <td>2.0</td>\n",
       "      <td>4.0</td>\n",
       "      <td>4.0</td>\n",
       "    </tr>\n",
       "  </tbody>\n",
       "</table>\n",
       "</div>"
      ],
      "text/plain": [
       "                   count          mean            std      min       25%  \\\n",
       "id                 699.0  1.071704e+06  617095.729819  61634.0  870688.5   \n",
       "clump_thickness    699.0  4.417740e+00       2.815741      1.0       2.0   \n",
       "size_uniformity    699.0  3.134478e+00       3.051459      1.0       1.0   \n",
       "shape_uniformity   699.0  3.207439e+00       2.971913      1.0       1.0   \n",
       "marginal_adhesion  699.0  2.806867e+00       2.855379      1.0       1.0   \n",
       "epithelial_size    699.0  3.216023e+00       2.214300      1.0       2.0   \n",
       "bland_chromatin    699.0  3.437768e+00       2.438364      1.0       2.0   \n",
       "normal_nucleoli    699.0  2.866953e+00       3.053634      1.0       1.0   \n",
       "mitoses            699.0  1.589413e+00       1.715078      1.0       1.0   \n",
       "class              699.0  2.689557e+00       0.951273      2.0       2.0   \n",
       "\n",
       "                         50%        75%         max  \n",
       "id                 1171710.0  1238298.0  13454352.0  \n",
       "clump_thickness          4.0        6.0        10.0  \n",
       "size_uniformity          1.0        5.0        10.0  \n",
       "shape_uniformity         1.0        5.0        10.0  \n",
       "marginal_adhesion        1.0        4.0        10.0  \n",
       "epithelial_size          2.0        4.0        10.0  \n",
       "bland_chromatin          3.0        5.0        10.0  \n",
       "normal_nucleoli          1.0        4.0        10.0  \n",
       "mitoses                  1.0        1.0        10.0  \n",
       "class                    2.0        4.0         4.0  "
      ]
     },
     "execution_count": 74,
     "metadata": {},
     "output_type": "execute_result"
    }
   ],
   "source": [
    "# Describing th data\n",
    "br_can_df.describe().T"
   ]
  },
  {
   "cell_type": "markdown",
   "metadata": {
    "id": "GmOWPgJNOU6x"
   },
   "source": [
    "### Observation: Except id and class, all columns have values between 1 to 10.\n"
   ]
  },
  {
   "cell_type": "code",
   "execution_count": 75,
   "metadata": {
    "colab": {
     "base_uri": "https://localhost:8080/"
    },
    "id": "WLEq_OpJw-bu",
    "outputId": "df4e374b-7584-4461-8a71-69043e3e6bb2"
   },
   "outputs": [
    {
     "data": {
      "text/plain": [
       "1     402\n",
       "10    132\n",
       "5      30\n",
       "2      30\n",
       "3      28\n",
       "8      21\n",
       "4      19\n",
       "?      16\n",
       "9       9\n",
       "7       8\n",
       "6       4\n",
       "Name: bare_nucleoli, dtype: int64"
      ]
     },
     "execution_count": 75,
     "metadata": {},
     "output_type": "execute_result"
    }
   ],
   "source": [
    "# Exploring the only object column that shows numerical value\n",
    "br_can_df['bare_nucleoli'].value_counts()"
   ]
  },
  {
   "cell_type": "markdown",
   "metadata": {
    "id": "3zQkQEFePHY3"
   },
   "source": [
    "### Observation : \n",
    "There are 16 records containing \"?\". These may be intentional or fat fingered, we dont know. Only clue we have is the values in column is between 1 to 10. Given the lack of further information on that column, following are the possible course of action\n",
    "* Delete the rows ( This will reduce the record count.Last Option)\n",
    "* Impute Value with Mean, Median, Mode (This is a possibility)\n",
    "* Assign a new number (Out of question since value should be between 1-10).\n",
    "* Assign it to the major category 1 (Easiest and most logical of all). We will choose this option"
   ]
  },
  {
   "cell_type": "code",
   "execution_count": 76,
   "metadata": {
    "id": "cDMwQPXLxaob"
   },
   "outputs": [],
   "source": [
    "# Replace ? with 0\n",
    "br_can_df=br_can_df.replace(to_replace=\"?\",value=1)\n",
    "br_can_df['bare_nucleoli'] = br_can_df['bare_nucleoli'].astype('int64')"
   ]
  },
  {
   "cell_type": "code",
   "execution_count": 77,
   "metadata": {
    "colab": {
     "base_uri": "https://localhost:8080/"
    },
    "id": "qGHY7qJsQbvE",
    "outputId": "0fb487d9-1449-4343-a0cb-b2b55d95def7"
   },
   "outputs": [
    {
     "data": {
      "text/plain": [
       "0    0.655222\n",
       "1    0.344778\n",
       "Name: class, dtype: float64"
      ]
     },
     "execution_count": 77,
     "metadata": {},
     "output_type": "execute_result"
    }
   ],
   "source": [
    "# Replace the Benign(2) and Malignant(4) with 0 & 1 respectively\n",
    "br_can_df['class'] = br_can_df['class'].map({2:0, 4:1})\n",
    "br_can_df['class'].value_counts(normalize=True)"
   ]
  },
  {
   "cell_type": "code",
   "execution_count": 78,
   "metadata": {
    "colab": {
     "base_uri": "https://localhost:8080/"
    },
    "id": "QhXR6vBB1M5D",
    "outputId": "ceb8bc9a-5d82-48e7-ec75-413957c06cc5"
   },
   "outputs": [
    {
     "name": "stdout",
     "output_type": "stream",
     "text": [
      "<class 'pandas.core.frame.DataFrame'>\n",
      "RangeIndex: 699 entries, 0 to 698\n",
      "Data columns (total 11 columns):\n",
      " #   Column             Non-Null Count  Dtype\n",
      "---  ------             --------------  -----\n",
      " 0   id                 699 non-null    int64\n",
      " 1   clump_thickness    699 non-null    int64\n",
      " 2   size_uniformity    699 non-null    int64\n",
      " 3   shape_uniformity   699 non-null    int64\n",
      " 4   marginal_adhesion  699 non-null    int64\n",
      " 5   epithelial_size    699 non-null    int64\n",
      " 6   bare_nucleoli      699 non-null    int64\n",
      " 7   bland_chromatin    699 non-null    int64\n",
      " 8   normal_nucleoli    699 non-null    int64\n",
      " 9   mitoses            699 non-null    int64\n",
      " 10  class              699 non-null    int64\n",
      "dtypes: int64(11)\n",
      "memory usage: 60.2 KB\n"
     ]
    }
   ],
   "source": [
    "br_can_df.info()"
   ]
  },
  {
   "cell_type": "code",
   "execution_count": 79,
   "metadata": {
    "colab": {
     "base_uri": "https://localhost:8080/",
     "height": 388
    },
    "id": "oiI6aUaX1Wdk",
    "outputId": "891b96b4-6ba5-4434-f302-83130ea1fe98"
   },
   "outputs": [
    {
     "data": {
      "text/html": [
       "<div>\n",
       "<style scoped>\n",
       "    .dataframe tbody tr th:only-of-type {\n",
       "        vertical-align: middle;\n",
       "    }\n",
       "\n",
       "    .dataframe tbody tr th {\n",
       "        vertical-align: top;\n",
       "    }\n",
       "\n",
       "    .dataframe thead th {\n",
       "        text-align: right;\n",
       "    }\n",
       "</style>\n",
       "<table border=\"1\" class=\"dataframe\">\n",
       "  <thead>\n",
       "    <tr style=\"text-align: right;\">\n",
       "      <th></th>\n",
       "      <th>count</th>\n",
       "      <th>mean</th>\n",
       "      <th>std</th>\n",
       "      <th>min</th>\n",
       "      <th>25%</th>\n",
       "      <th>50%</th>\n",
       "      <th>75%</th>\n",
       "      <th>max</th>\n",
       "    </tr>\n",
       "  </thead>\n",
       "  <tbody>\n",
       "    <tr>\n",
       "      <th>id</th>\n",
       "      <td>699.0</td>\n",
       "      <td>1.071704e+06</td>\n",
       "      <td>617095.729819</td>\n",
       "      <td>61634.0</td>\n",
       "      <td>870688.5</td>\n",
       "      <td>1171710.0</td>\n",
       "      <td>1238298.0</td>\n",
       "      <td>13454352.0</td>\n",
       "    </tr>\n",
       "    <tr>\n",
       "      <th>clump_thickness</th>\n",
       "      <td>699.0</td>\n",
       "      <td>4.417740e+00</td>\n",
       "      <td>2.815741</td>\n",
       "      <td>1.0</td>\n",
       "      <td>2.0</td>\n",
       "      <td>4.0</td>\n",
       "      <td>6.0</td>\n",
       "      <td>10.0</td>\n",
       "    </tr>\n",
       "    <tr>\n",
       "      <th>size_uniformity</th>\n",
       "      <td>699.0</td>\n",
       "      <td>3.134478e+00</td>\n",
       "      <td>3.051459</td>\n",
       "      <td>1.0</td>\n",
       "      <td>1.0</td>\n",
       "      <td>1.0</td>\n",
       "      <td>5.0</td>\n",
       "      <td>10.0</td>\n",
       "    </tr>\n",
       "    <tr>\n",
       "      <th>shape_uniformity</th>\n",
       "      <td>699.0</td>\n",
       "      <td>3.207439e+00</td>\n",
       "      <td>2.971913</td>\n",
       "      <td>1.0</td>\n",
       "      <td>1.0</td>\n",
       "      <td>1.0</td>\n",
       "      <td>5.0</td>\n",
       "      <td>10.0</td>\n",
       "    </tr>\n",
       "    <tr>\n",
       "      <th>marginal_adhesion</th>\n",
       "      <td>699.0</td>\n",
       "      <td>2.806867e+00</td>\n",
       "      <td>2.855379</td>\n",
       "      <td>1.0</td>\n",
       "      <td>1.0</td>\n",
       "      <td>1.0</td>\n",
       "      <td>4.0</td>\n",
       "      <td>10.0</td>\n",
       "    </tr>\n",
       "    <tr>\n",
       "      <th>epithelial_size</th>\n",
       "      <td>699.0</td>\n",
       "      <td>3.216023e+00</td>\n",
       "      <td>2.214300</td>\n",
       "      <td>1.0</td>\n",
       "      <td>2.0</td>\n",
       "      <td>2.0</td>\n",
       "      <td>4.0</td>\n",
       "      <td>10.0</td>\n",
       "    </tr>\n",
       "    <tr>\n",
       "      <th>bare_nucleoli</th>\n",
       "      <td>699.0</td>\n",
       "      <td>3.486409e+00</td>\n",
       "      <td>3.621929</td>\n",
       "      <td>1.0</td>\n",
       "      <td>1.0</td>\n",
       "      <td>1.0</td>\n",
       "      <td>5.0</td>\n",
       "      <td>10.0</td>\n",
       "    </tr>\n",
       "    <tr>\n",
       "      <th>bland_chromatin</th>\n",
       "      <td>699.0</td>\n",
       "      <td>3.437768e+00</td>\n",
       "      <td>2.438364</td>\n",
       "      <td>1.0</td>\n",
       "      <td>2.0</td>\n",
       "      <td>3.0</td>\n",
       "      <td>5.0</td>\n",
       "      <td>10.0</td>\n",
       "    </tr>\n",
       "    <tr>\n",
       "      <th>normal_nucleoli</th>\n",
       "      <td>699.0</td>\n",
       "      <td>2.866953e+00</td>\n",
       "      <td>3.053634</td>\n",
       "      <td>1.0</td>\n",
       "      <td>1.0</td>\n",
       "      <td>1.0</td>\n",
       "      <td>4.0</td>\n",
       "      <td>10.0</td>\n",
       "    </tr>\n",
       "    <tr>\n",
       "      <th>mitoses</th>\n",
       "      <td>699.0</td>\n",
       "      <td>1.589413e+00</td>\n",
       "      <td>1.715078</td>\n",
       "      <td>1.0</td>\n",
       "      <td>1.0</td>\n",
       "      <td>1.0</td>\n",
       "      <td>1.0</td>\n",
       "      <td>10.0</td>\n",
       "    </tr>\n",
       "    <tr>\n",
       "      <th>class</th>\n",
       "      <td>699.0</td>\n",
       "      <td>3.447783e-01</td>\n",
       "      <td>0.475636</td>\n",
       "      <td>0.0</td>\n",
       "      <td>0.0</td>\n",
       "      <td>0.0</td>\n",
       "      <td>1.0</td>\n",
       "      <td>1.0</td>\n",
       "    </tr>\n",
       "  </tbody>\n",
       "</table>\n",
       "</div>"
      ],
      "text/plain": [
       "                   count          mean            std      min       25%  \\\n",
       "id                 699.0  1.071704e+06  617095.729819  61634.0  870688.5   \n",
       "clump_thickness    699.0  4.417740e+00       2.815741      1.0       2.0   \n",
       "size_uniformity    699.0  3.134478e+00       3.051459      1.0       1.0   \n",
       "shape_uniformity   699.0  3.207439e+00       2.971913      1.0       1.0   \n",
       "marginal_adhesion  699.0  2.806867e+00       2.855379      1.0       1.0   \n",
       "epithelial_size    699.0  3.216023e+00       2.214300      1.0       2.0   \n",
       "bare_nucleoli      699.0  3.486409e+00       3.621929      1.0       1.0   \n",
       "bland_chromatin    699.0  3.437768e+00       2.438364      1.0       2.0   \n",
       "normal_nucleoli    699.0  2.866953e+00       3.053634      1.0       1.0   \n",
       "mitoses            699.0  1.589413e+00       1.715078      1.0       1.0   \n",
       "class              699.0  3.447783e-01       0.475636      0.0       0.0   \n",
       "\n",
       "                         50%        75%         max  \n",
       "id                 1171710.0  1238298.0  13454352.0  \n",
       "clump_thickness          4.0        6.0        10.0  \n",
       "size_uniformity          1.0        5.0        10.0  \n",
       "shape_uniformity         1.0        5.0        10.0  \n",
       "marginal_adhesion        1.0        4.0        10.0  \n",
       "epithelial_size          2.0        4.0        10.0  \n",
       "bare_nucleoli            1.0        5.0        10.0  \n",
       "bland_chromatin          3.0        5.0        10.0  \n",
       "normal_nucleoli          1.0        4.0        10.0  \n",
       "mitoses                  1.0        1.0        10.0  \n",
       "class                    0.0        1.0         1.0  "
      ]
     },
     "execution_count": 79,
     "metadata": {},
     "output_type": "execute_result"
    }
   ],
   "source": [
    "# Describing th data again after above changes\n",
    "br_can_df.describe().T"
   ]
  },
  {
   "cell_type": "markdown",
   "metadata": {
    "id": "nxaNaGRZRAZq"
   },
   "source": [
    "## Exploratory Data Analysis - Univariate"
   ]
  },
  {
   "cell_type": "code",
   "execution_count": 80,
   "metadata": {
    "colab": {
     "base_uri": "https://localhost:8080/",
     "height": 1000
    },
    "id": "XWZ3c8kpRG8o",
    "outputId": "7ff76115-9d6c-45b5-90ce-166a20960d45"
   },
   "outputs": [
    {
     "data": {
      "image/png": "[encoded data removed]",
      "text/plain": [
       "<Figure size 1440x1440 with 10 Axes>"
      ]
     },
     "metadata": {
      "needs_background": "light"
     },
     "output_type": "display_data"
    }
   ],
   "source": [
    "columns_list = list(br_can_df.columns)\n",
    "columns_list.remove('id')\n",
    "rows = 5 ; columns = 2\n",
    "cat_cols_np_arr = np.array(columns_list).reshape(5, 2)\n",
    "\n",
    "f, axes = plt.subplots(rows, columns, figsize=(20, 20))\n",
    "for row in range(rows):\n",
    "    for column in range(columns):\n",
    "        sns.countplot(data = br_can_df,\n",
    "                      x = cat_cols_np_arr[row][column], \n",
    "                      order = br_can_df[cat_cols_np_arr[row][column]].value_counts().index,\n",
    "                      palette = \"Set1\", \n",
    "                      ax = axes[row, column])"
   ]
  },
  {
   "cell_type": "markdown",
   "metadata": {
    "id": "1pTwfoQttYBk"
   },
   "source": [
    "## Exploratory Data Analysis - Bi-Variate"
   ]
  },
  {
   "cell_type": "code",
   "execution_count": 81,
   "metadata": {
    "colab": {
     "base_uri": "https://localhost:8080/"
    },
    "id": "EBN8BZUquuiR",
    "outputId": "82f40751-6451-4825-8f08-7738647f5bf8"
   },
   "outputs": [
    {
     "data": {
      "text/plain": [
       "['clump_thickness',\n",
       " 'size_uniformity',\n",
       " 'shape_uniformity',\n",
       " 'marginal_adhesion',\n",
       " 'epithelial_size',\n",
       " 'bare_nucleoli',\n",
       " 'bland_chromatin',\n",
       " 'normal_nucleoli',\n",
       " 'mitoses']"
      ]
     },
     "execution_count": 81,
     "metadata": {},
     "output_type": "execute_result"
    }
   ],
   "source": [
    "columns_list = list(br_can_df.columns)\n",
    "columns_list.remove('id')\n",
    "columns_list.remove('class')\n",
    "columns_list"
   ]
  },
  {
   "cell_type": "code",
   "execution_count": 82,
   "metadata": {
    "colab": {
     "base_uri": "https://localhost:8080/",
     "height": 1000
    },
    "id": "J5jLIgDeuEFV",
    "outputId": "8059cbd7-c314-4721-94fa-08026030b5b7"
   },
   "outputs": [
    {
     "data": {
      "text/plain": [
       "<Figure size 1440x1440 with 0 Axes>"
      ]
     },
     "metadata": {},
     "output_type": "display_data"
    },
    {
     "data": {
      "image/png": "[encoded data removed]",
      "text/plain": [
       "<Figure size 720x360 with 2 Axes>"
      ]
     },
     "metadata": {
      "needs_background": "light"
     },
     "output_type": "display_data"
    },
    {
     "data": {
      "image/png": "[encoded data removed]",
      "text/plain": [
       "<Figure size 720x360 with 2 Axes>"
      ]
     },
     "metadata": {
      "needs_background": "light"
     },
     "output_type": "display_data"
    },
    {
     "data": {
      "image/png": "[encoded data removed]",
      "text/plain": [
       "<Figure size 720x360 with 2 Axes>"
      ]
     },
     "metadata": {
      "needs_background": "light"
     },
     "output_type": "display_data"
    },
    {
     "data": {
      "image/png": "[encoded data removed]",
      "text/plain": [
       "<Figure size 720x360 with 2 Axes>"
      ]
     },
     "metadata": {
      "needs_background": "light"
     },
     "output_type": "display_data"
    },
    {
     "data": {
      "image/png": "[encoded data removed]",
      "text/plain": [
       "<Figure size 720x360 with 2 Axes>"
      ]
     },
     "metadata": {
      "needs_background": "light"
     },
     "output_type": "display_data"
    },
    {
     "data": {
      "image/png": "[encoded data removed]",
      "text/plain": [
       "<Figure size 720x360 with 2 Axes>"
      ]
     },
     "metadata": {
      "needs_background": "light"
     },
     "output_type": "display_data"
    },
    {
     "data": {
      "image/png": "[encoded data removed]",
      "text/plain": [
       "<Figure size 720x360 with 2 Axes>"
      ]
     },
     "metadata": {
      "needs_background": "light"
     },
     "output_type": "display_data"
    },
    {
     "data": {
      "image/png": "[encoded data removed]",
      "text/plain": [
       "<Figure size 720x360 with 2 Axes>"
      ]
     },
     "metadata": {
      "needs_background": "light"
     },
     "output_type": "display_data"
    },
    {
     "data": {
      "image/png": "[encoded data removed]",
      "text/plain": [
       "<Figure size 720x360 with 2 Axes>"
      ]
     },
     "metadata": {
      "needs_background": "light"
     },
     "output_type": "display_data"
    }
   ],
   "source": [
    "plt.figure(figsize=(20, 20))\n",
    "for column in columns_list:\n",
    "    # for column in range(columns):\n",
    "    sns.catplot(data = br_can_df,\n",
    "                x = column, \n",
    "                col = 'class',\n",
    "                kind='count')"
   ]
  },
  {
   "cell_type": "markdown",
   "metadata": {
    "id": "1uwXarUSvtLC"
   },
   "source": [
    "## Exploratory Data Analysis - Multi-Variate"
   ]
  },
  {
   "cell_type": "code",
   "execution_count": 83,
   "metadata": {
    "colab": {
     "base_uri": "https://localhost:8080/",
     "height": 952
    },
    "id": "Fv5Ebg0xvvkK",
    "outputId": "5d5b95d8-b5db-4362-baa3-866e89fcdc57"
   },
   "outputs": [
    {
     "data": {
      "image/png": "[encoded data removed]",
      "text/plain": [
       "<Figure size 1080x1080 with 2 Axes>"
      ]
     },
     "metadata": {
      "needs_background": "light"
     },
     "output_type": "display_data"
    }
   ],
   "source": [
    "plt.figure(figsize=(15,15)) \n",
    "sns.heatmap(br_can_df.drop(columns=['id']).corr(),annot=True,cmap='cubehelix_r') #draws  heatmap with input as the correlation matrix calculted by(iris.corr())\n",
    "plt.show()"
   ]
  },
  {
   "cell_type": "markdown",
   "metadata": {
    "id": "KdPMKGbsxZxq"
   },
   "source": [
    "# Modelling"
   ]
  },
  {
   "cell_type": "code",
   "execution_count": 84,
   "metadata": {
    "id": "HUkOlOLk3tvO"
   },
   "outputs": [],
   "source": [
    "# For Single Classifier Creating function for Confusion Matrix , Precision, Recall and F1 Score\n",
    "def plot_confusion_matrix(classifier, y_test, y_pred):\n",
    "    cm = confusion_matrix(y_test, y_pred)\n",
    "    \n",
    "    print(\"\\n\",classifier,\"\\n\")\n",
    "    plt.clf()\n",
    "    plt.imshow(cm, interpolation='nearest', cmap='RdBu')\n",
    "    classNames = ['Benign','Malignant']\n",
    "    plt.ylabel('Predicted')\n",
    "    plt.xlabel('Actual')\n",
    "    tick_marks = np.arange(len(classNames))\n",
    "    plt.xticks(tick_marks, classNames, rotation=45)\n",
    "    plt.yticks(tick_marks, classNames)\n",
    "    s = [['TN','FP'], ['FN', 'TP']]\n",
    "    \n",
    "    for i in range(2):\n",
    "        for j in range(2):\n",
    "            plt.text(j,i, str(s[i][j])+\" = \"+str(cm[i][j]), \n",
    "                     horizontalalignment='center', color='White')\n",
    "    \n",
    "    plt.show()\n",
    "        \n",
    "    tn, fp, fn, tp = cm.ravel()\n",
    "\n",
    "    recall = tp / (tp + fn)\n",
    "    precision = tp / (tp + fp)\n",
    "    F1 = 2*recall*precision/(recall+precision)\n",
    "\n",
    "    print('Recall={0:0.3f}'.format(recall),'\\nPrecision={0:0.3f}'.format(precision))\n",
    "    print('F1={0:0.3f}'.format(F1))\n",
    "    return;"
   ]
  },
  {
   "cell_type": "code",
   "execution_count": 85,
   "metadata": {
    "id": "QYXuGijn4Sdf"
   },
   "outputs": [],
   "source": [
    "#For Single Classifier Creating function to plot precision_recall_curve\n",
    "from sklearn.metrics import average_precision_score, precision_recall_curve\n",
    "def plot_prec_rec_curve(classifier, y_test, y_pred):\n",
    "    precision, recall, _ = precision_recall_curve(y_test, y_pred)\n",
    "    average_precision = average_precision_score(y_test, y_pred)\n",
    "\n",
    "#     print('Average precision-recall score: {0:0.3f}'.format(\n",
    "#           average_precision))\n",
    "\n",
    "    plt.plot(recall, precision, label='area = %0.3f' % average_precision, color=\"green\")\n",
    "    plt.xlim([0.0, 1.0])\n",
    "    plt.ylim([0.0, 1.05])\n",
    "    plt.xlabel('Recall')\n",
    "    plt.ylabel('Precision')\n",
    "    plt.title('Precision Recall Curve')\n",
    "    plt.legend(loc=\"best\")\n",
    "    plt.grid(True)\n",
    "    plt.show()"
   ]
  },
  {
   "cell_type": "code",
   "execution_count": 86,
   "metadata": {
    "id": "bkvnYzsk4WE_"
   },
   "outputs": [],
   "source": [
    "# Function for Precsion, Recall and F1 Score\n",
    "def calc_classfier_metric(classifier, y_true, y_pred):\n",
    "    '''\n",
    "    Function for Precsion, Recall and F1 Score\n",
    "    '''\n",
    "    accuracy      = accuracy_score(y_test, y_pred)\n",
    "    precision     = precision_score(y_test, y_pred)\n",
    "    recall        = recall_score(y_test, y_pred)\n",
    "    F1_score      = f1_score(y_test, y_pred)\n",
    "    roc_auc_scr   = roc_auc_score(y_test, y_pred)\n",
    "    conf_mat      = confusion_matrix(y_test, y_pred)\n",
    "    class_report  = classification_report(y_true, y_pred, output_dict=True)\n",
    "    return accuracy, precision, recall, F1_score, roc_auc_scr, conf_mat, class_report;"
   ]
  },
  {
   "cell_type": "code",
   "execution_count": 87,
   "metadata": {
    "id": "QGAJx99p4ZNg"
   },
   "outputs": [],
   "source": [
    "# Function for Confusion Matrix\n",
    "def view_confusion_matrix(class_perf_df, columns):\n",
    "    '''\n",
    "    Function for Confusion Matrix\n",
    "    '''\n",
    "    # rows = int(class_perf_df.shape[0]/ columns)\n",
    "    rows = int(class_perf_df.shape[0])\n",
    "    # plt.figure(figsize=(15,13))\n",
    "\n",
    "    for i in range(class_perf_df.shape[0]):\n",
    "        plt.subplot(rows,columns,i+1)\n",
    "        plt.title(class_perf_df['Classifier'].loc[i])\n",
    "        ax=sns.heatmap(class_perf_df['Conf_Mtrx'].loc[i],\n",
    "                    annot=True,\n",
    "                    cmap=\"coolwarm\",\n",
    "                    fmt=\"d\",\n",
    "                    cbar=False, \n",
    "                    annot_kws={\"size\": 12},\n",
    "                    linewidths=1.2,\n",
    "                    linecolor='w',\n",
    "                   )\n",
    "        ax.set_xticklabels(ax.get_xticklabels(), rotation = 0, fontsize = 10)\n",
    "        ax.set_yticklabels(ax.get_yticklabels(), rotation = 25, fontsize = 10)\n",
    "        ax.set_xlabel('True label') \n",
    "        ax.set_ylabel('Predicted label')\n",
    "    \n",
    "    return;"
   ]
  },
  {
   "cell_type": "code",
   "execution_count": 88,
   "metadata": {
    "id": "FN_fwCVZ4cOQ"
   },
   "outputs": [],
   "source": [
    "# Build Classification Model\n",
    "def build_class_model(X_train, X_test, y_train, y_test, classifier_model):\n",
    "    '''\n",
    "    Functio to Build Classification Model\n",
    "    '''\n",
    "    classifier_performance = []\n",
    "    classification_report = []\n",
    "    cnf_lst = []\n",
    "\n",
    "    for classifier in classifier_model:\n",
    "\n",
    "        # Fitting the training set into classification model\n",
    "        classifier.fit(X_train,y_train)\n",
    "\n",
    "        # Predicting the output on test datset\n",
    "        y_pred = classifier.predict(X_test)    \n",
    "\n",
    "        # Cross Validation Score on training test\n",
    "        scores = cross_val_score(classifier, X_train,y_train, cv=5)\n",
    "        cv_score_mean = scores.mean()\n",
    "\n",
    "        # Classification score\n",
    "        accuracy, precision, recall, F1_score, roc_auc_scr, conf_mat, class_report = calc_classfier_metric(classifier, y_test, y_pred)\n",
    "        classifier_performance.append([classifier.__class__.__name__, cv_score_mean, conf_mat, accuracy, precision, recall, F1_score, roc_auc_scr])\n",
    "        classification_report.append([classifier.__class__.__name__, class_report])\n",
    "        \n",
    "        class_perf_df = pd.DataFrame(classifier_performance, columns=['Classifier', 'Training_CV_Score', 'Conf_Mtrx', 'Accuracy', 'Precision', 'Recall', 'F1_Score', 'ROC_AUC_Scr']).sort_values('F1_Score', ascending = False)\n",
    "        class_report_df = pd.DataFrame(classification_report, columns=['Classifier', 'Report'])\n",
    "    return class_perf_df, class_report_df;"
   ]
  },
  {
   "cell_type": "code",
   "execution_count": 89,
   "metadata": {
    "colab": {
     "base_uri": "https://localhost:8080/"
    },
    "id": "HnLmJRoN4f2O",
    "outputId": "8f7b31dc-0fac-4e84-8bee-f3215cb5343d"
   },
   "outputs": [
    {
     "name": "stdout",
     "output_type": "stream",
     "text": [
      "There are 559 samples in the training set and 140 samples in the test set\n"
     ]
    }
   ],
   "source": [
    "# Create Test Train Split\n",
    "X = br_can_df.drop(columns=['id', 'class'])\n",
    "y = br_can_df['class']\n",
    "\n",
    "# #Dividing data into test & train splitting 70% data for training anf 20% for test\n",
    "X_train, X_test, y_train, y_test = train_test_split(X, y, test_size=0.20, random_state=42)\n",
    "print('There are {} samples in the training set and {} samples in the test set'.format(X_train.shape[0], X_test.shape[0]))"
   ]
  },
  {
   "cell_type": "markdown",
   "metadata": {},
   "source": [
    "## TRAINING RESULTS"
   ]
  },
  {
   "cell_type": "code",
   "execution_count": 102,
   "metadata": {
    "colab": {
     "base_uri": "https://localhost:8080/",
     "height": 442
    },
    "id": "xhhw1eVv4r9D",
    "outputId": "661714da-6427-4e0d-a8bf-8eb479027af2"
   },
   "outputs": [
    {
     "name": "stdout",
     "output_type": "stream",
     "text": [
      "[05:55:02] WARNING: C:/Users/Administrator/workspace/xgboost-win64_release_1.5.1/src/learner.cc:1115: Starting in XGBoost 1.3.0, the default evaluation metric used with the objective 'binary:logistic' was changed from 'error' to 'logloss'. Explicitly set eval_metric if you'd like to restore the old behavior.\n",
      "[05:55:02] WARNING: C:/Users/Administrator/workspace/xgboost-win64_release_1.5.1/src/learner.cc:1115: Starting in XGBoost 1.3.0, the default evaluation metric used with the objective 'binary:logistic' was changed from 'error' to 'logloss'. Explicitly set eval_metric if you'd like to restore the old behavior.\n",
      "[05:55:02] WARNING: C:/Users/Administrator/workspace/xgboost-win64_release_1.5.1/src/learner.cc:1115: Starting in XGBoost 1.3.0, the default evaluation metric used with the objective 'binary:logistic' was changed from 'error' to 'logloss'. Explicitly set eval_metric if you'd like to restore the old behavior.\n",
      "[05:55:02] WARNING: C:/Users/Administrator/workspace/xgboost-win64_release_1.5.1/src/learner.cc:1115: Starting in XGBoost 1.3.0, the default evaluation metric used with the objective 'binary:logistic' was changed from 'error' to 'logloss'. Explicitly set eval_metric if you'd like to restore the old behavior.\n",
      "[05:55:02] WARNING: C:/Users/Administrator/workspace/xgboost-win64_release_1.5.1/src/learner.cc:1115: Starting in XGBoost 1.3.0, the default evaluation metric used with the objective 'binary:logistic' was changed from 'error' to 'logloss'. Explicitly set eval_metric if you'd like to restore the old behavior.\n",
      "[05:55:02] WARNING: C:/Users/Administrator/workspace/xgboost-win64_release_1.5.1/src/learner.cc:1115: Starting in XGBoost 1.3.0, the default evaluation metric used with the objective 'binary:logistic' was changed from 'error' to 'logloss'. Explicitly set eval_metric if you'd like to restore the old behavior.\n"
     ]
    },
    {
     "data": {
      "text/html": [
       "<div>\n",
       "<style scoped>\n",
       "    .dataframe tbody tr th:only-of-type {\n",
       "        vertical-align: middle;\n",
       "    }\n",
       "\n",
       "    .dataframe tbody tr th {\n",
       "        vertical-align: top;\n",
       "    }\n",
       "\n",
       "    .dataframe thead th {\n",
       "        text-align: right;\n",
       "    }\n",
       "</style>\n",
       "<table border=\"1\" class=\"dataframe\">\n",
       "  <thead>\n",
       "    <tr style=\"text-align: right;\">\n",
       "      <th></th>\n",
       "      <th>Classifier</th>\n",
       "      <th>Training_CV_Score</th>\n",
       "      <th>Conf_Mtrx</th>\n",
       "      <th>Accuracy</th>\n",
       "      <th>Precision</th>\n",
       "      <th>Recall</th>\n",
       "      <th>F1_Score</th>\n",
       "      <th>ROC_AUC_Scr</th>\n",
       "    </tr>\n",
       "  </thead>\n",
       "  <tbody>\n",
       "    <tr>\n",
       "      <th>3</th>\n",
       "      <td>KNeighborsClassifier</td>\n",
       "      <td>0.958816</td>\n",
       "      <td>[[94, 1], [1, 44]]</td>\n",
       "      <td>0.985714</td>\n",
       "      <td>0.977778</td>\n",
       "      <td>0.977778</td>\n",
       "      <td>0.977778</td>\n",
       "      <td>0.983626</td>\n",
       "    </tr>\n",
       "    <tr>\n",
       "      <th>5</th>\n",
       "      <td>SVC</td>\n",
       "      <td>0.967761</td>\n",
       "      <td>[[93, 2], [2, 43]]</td>\n",
       "      <td>0.971429</td>\n",
       "      <td>0.955556</td>\n",
       "      <td>0.955556</td>\n",
       "      <td>0.955556</td>\n",
       "      <td>0.967251</td>\n",
       "    </tr>\n",
       "    <tr>\n",
       "      <th>2</th>\n",
       "      <td>SGDClassifier</td>\n",
       "      <td>0.958816</td>\n",
       "      <td>[[94, 1], [3, 42]]</td>\n",
       "      <td>0.971429</td>\n",
       "      <td>0.976744</td>\n",
       "      <td>0.933333</td>\n",
       "      <td>0.954545</td>\n",
       "      <td>0.961404</td>\n",
       "    </tr>\n",
       "    <tr>\n",
       "      <th>4</th>\n",
       "      <td>GaussianNB</td>\n",
       "      <td>0.958816</td>\n",
       "      <td>[[91, 4], [1, 44]]</td>\n",
       "      <td>0.964286</td>\n",
       "      <td>0.916667</td>\n",
       "      <td>0.977778</td>\n",
       "      <td>0.946237</td>\n",
       "      <td>0.967836</td>\n",
       "    </tr>\n",
       "    <tr>\n",
       "      <th>7</th>\n",
       "      <td>RandomForestClassifier</td>\n",
       "      <td>0.958800</td>\n",
       "      <td>[[93, 2], [3, 42]]</td>\n",
       "      <td>0.964286</td>\n",
       "      <td>0.954545</td>\n",
       "      <td>0.933333</td>\n",
       "      <td>0.943820</td>\n",
       "      <td>0.956140</td>\n",
       "    </tr>\n",
       "    <tr>\n",
       "      <th>11</th>\n",
       "      <td>LGBMClassifier</td>\n",
       "      <td>0.949871</td>\n",
       "      <td>[[93, 2], [3, 42]]</td>\n",
       "      <td>0.964286</td>\n",
       "      <td>0.954545</td>\n",
       "      <td>0.933333</td>\n",
       "      <td>0.943820</td>\n",
       "      <td>0.956140</td>\n",
       "    </tr>\n",
       "    <tr>\n",
       "      <th>1</th>\n",
       "      <td>LogisticRegression</td>\n",
       "      <td>0.962387</td>\n",
       "      <td>[[94, 1], [5, 40]]</td>\n",
       "      <td>0.957143</td>\n",
       "      <td>0.975610</td>\n",
       "      <td>0.888889</td>\n",
       "      <td>0.930233</td>\n",
       "      <td>0.939181</td>\n",
       "    </tr>\n",
       "    <tr>\n",
       "      <th>8</th>\n",
       "      <td>MLPClassifier</td>\n",
       "      <td>0.955212</td>\n",
       "      <td>[[93, 2], [5, 40]]</td>\n",
       "      <td>0.950000</td>\n",
       "      <td>0.952381</td>\n",
       "      <td>0.888889</td>\n",
       "      <td>0.919540</td>\n",
       "      <td>0.933918</td>\n",
       "    </tr>\n",
       "    <tr>\n",
       "      <th>9</th>\n",
       "      <td>AdaBoostClassifier</td>\n",
       "      <td>0.944514</td>\n",
       "      <td>[[94, 1], [6, 39]]</td>\n",
       "      <td>0.950000</td>\n",
       "      <td>0.975000</td>\n",
       "      <td>0.866667</td>\n",
       "      <td>0.917647</td>\n",
       "      <td>0.928070</td>\n",
       "    </tr>\n",
       "    <tr>\n",
       "      <th>6</th>\n",
       "      <td>DecisionTreeClassifier</td>\n",
       "      <td>0.935537</td>\n",
       "      <td>[[92, 3], [6, 39]]</td>\n",
       "      <td>0.935714</td>\n",
       "      <td>0.928571</td>\n",
       "      <td>0.866667</td>\n",
       "      <td>0.896552</td>\n",
       "      <td>0.917544</td>\n",
       "    </tr>\n",
       "    <tr>\n",
       "      <th>10</th>\n",
       "      <td>XGBClassifier</td>\n",
       "      <td>0.948086</td>\n",
       "      <td>[[92, 3], [6, 39]]</td>\n",
       "      <td>0.935714</td>\n",
       "      <td>0.928571</td>\n",
       "      <td>0.866667</td>\n",
       "      <td>0.896552</td>\n",
       "      <td>0.917544</td>\n",
       "    </tr>\n",
       "    <tr>\n",
       "      <th>0</th>\n",
       "      <td>DummyClassifier</td>\n",
       "      <td>0.649373</td>\n",
       "      <td>[[95, 0], [45, 0]]</td>\n",
       "      <td>0.678571</td>\n",
       "      <td>0.000000</td>\n",
       "      <td>0.000000</td>\n",
       "      <td>0.000000</td>\n",
       "      <td>0.500000</td>\n",
       "    </tr>\n",
       "  </tbody>\n",
       "</table>\n",
       "</div>"
      ],
      "text/plain": [
       "                Classifier  Training_CV_Score           Conf_Mtrx  Accuracy  \\\n",
       "3     KNeighborsClassifier           0.958816  [[94, 1], [1, 44]]  0.985714   \n",
       "5                      SVC           0.967761  [[93, 2], [2, 43]]  0.971429   \n",
       "2            SGDClassifier           0.958816  [[94, 1], [3, 42]]  0.971429   \n",
       "4               GaussianNB           0.958816  [[91, 4], [1, 44]]  0.964286   \n",
       "7   RandomForestClassifier           0.958800  [[93, 2], [3, 42]]  0.964286   \n",
       "11          LGBMClassifier           0.949871  [[93, 2], [3, 42]]  0.964286   \n",
       "1       LogisticRegression           0.962387  [[94, 1], [5, 40]]  0.957143   \n",
       "8            MLPClassifier           0.955212  [[93, 2], [5, 40]]  0.950000   \n",
       "9       AdaBoostClassifier           0.944514  [[94, 1], [6, 39]]  0.950000   \n",
       "6   DecisionTreeClassifier           0.935537  [[92, 3], [6, 39]]  0.935714   \n",
       "10           XGBClassifier           0.948086  [[92, 3], [6, 39]]  0.935714   \n",
       "0          DummyClassifier           0.649373  [[95, 0], [45, 0]]  0.678571   \n",
       "\n",
       "    Precision    Recall  F1_Score  ROC_AUC_Scr  \n",
       "3    0.977778  0.977778  0.977778     0.983626  \n",
       "5    0.955556  0.955556  0.955556     0.967251  \n",
       "2    0.976744  0.933333  0.954545     0.961404  \n",
       "4    0.916667  0.977778  0.946237     0.967836  \n",
       "7    0.954545  0.933333  0.943820     0.956140  \n",
       "11   0.954545  0.933333  0.943820     0.956140  \n",
       "1    0.975610  0.888889  0.930233     0.939181  \n",
       "8    0.952381  0.888889  0.919540     0.933918  \n",
       "9    0.975000  0.866667  0.917647     0.928070  \n",
       "6    0.928571  0.866667  0.896552     0.917544  \n",
       "10   0.928571  0.866667  0.896552     0.917544  \n",
       "0    0.000000  0.000000  0.000000     0.500000  "
      ]
     },
     "execution_count": 102,
     "metadata": {},
     "output_type": "execute_result"
    }
   ],
   "source": [
    "# Machine Learning Model Build\n",
    "classifier_model = [DummyClassifier(strategy= 'most_frequent', random_state=42),\n",
    "                    LogisticRegression(random_state=42),\n",
    "                    SGDClassifier(random_state=42),\n",
    "                    KNeighborsClassifier(),\n",
    "                    GaussianNB(),\n",
    "                    SVC(random_state=42),\n",
    "                    DecisionTreeClassifier(random_state=42),\n",
    "                    RandomForestClassifier(random_state=42), \n",
    "                    MLPClassifier(alpha=1, max_iter=100),\n",
    "                    AdaBoostClassifier(random_state=42), \n",
    "                    XGBClassifier(objective=\"binary:logistic\", random_state=42),\n",
    "                    LGBMClassifier(random_state=42)\n",
    "                   ]\n",
    "\n",
    "# Call Classification module\n",
    "class_perf_df, class_report_df = build_class_model(X_train, X_test, y_train, y_test, classifier_model)\n",
    "\n",
    "# Show Classification Summary\n",
    "class_perf_df"
   ]
  },
  {
   "cell_type": "markdown",
   "metadata": {},
   "source": [
    "## CLASSIFICATION MATRIX"
   ]
  },
  {
   "cell_type": "code",
   "execution_count": 103,
   "metadata": {
    "colab": {
     "base_uri": "https://localhost:8080/",
     "height": 1000
    },
    "id": "cxB6Ps8cLdgB",
    "outputId": "3233b8e3-e641-4dcd-e4af-dfd87eb656e1"
   },
   "outputs": [
    {
     "data": {
      "image/png": "[encoded data removed]",
      "text/plain": [
       "<Figure size 1440x5040 with 12 Axes>"
      ]
     },
     "metadata": {
      "needs_background": "light"
     },
     "output_type": "display_data"
    }
   ],
   "source": [
    "# Show Confusion Matrix\n",
    "plt.figure(figsize=(20, 70))\n",
    "view_confusion_matrix(class_perf_df, columns=3)"
   ]
  },
  {
   "cell_type": "markdown",
   "metadata": {},
   "source": [
    "## CLASSIFICATION REPORT"
   ]
  },
  {
   "cell_type": "code",
   "execution_count": 104,
   "metadata": {},
   "outputs": [
    {
     "name": "stdout",
     "output_type": "stream",
     "text": [
      "\n",
      " DummyClassifier\n",
      "              precision    recall  f1-score     support\n",
      "0              0.678571  1.000000  0.808511   95.000000\n",
      "1              0.000000  0.000000  0.000000   45.000000\n",
      "accuracy       0.678571  0.678571  0.678571    0.678571\n",
      "macro avg      0.339286  0.500000  0.404255  140.000000\n",
      "weighted avg   0.460459  0.678571  0.548632  140.000000\n",
      "\n",
      " LogisticRegression\n",
      "              precision    recall  f1-score     support\n",
      "0              0.949495  0.989474  0.969072   95.000000\n",
      "1              0.975610  0.888889  0.930233   45.000000\n",
      "accuracy       0.957143  0.957143  0.957143    0.957143\n",
      "macro avg      0.962552  0.939181  0.949652  140.000000\n",
      "weighted avg   0.957889  0.957143  0.956588  140.000000\n",
      "\n",
      " SGDClassifier\n",
      "              precision    recall  f1-score     support\n",
      "0              0.969072  0.989474  0.979167   95.000000\n",
      "1              0.976744  0.933333  0.954545   45.000000\n",
      "accuracy       0.971429  0.971429  0.971429    0.971429\n",
      "macro avg      0.972908  0.961404  0.966856  140.000000\n",
      "weighted avg   0.971538  0.971429  0.971253  140.000000\n",
      "\n",
      " KNeighborsClassifier\n",
      "              precision    recall  f1-score     support\n",
      "0              0.989474  0.989474  0.989474   95.000000\n",
      "1              0.977778  0.977778  0.977778   45.000000\n",
      "accuracy       0.985714  0.985714  0.985714    0.985714\n",
      "macro avg      0.983626  0.983626  0.983626  140.000000\n",
      "weighted avg   0.985714  0.985714  0.985714  140.000000\n",
      "\n",
      " GaussianNB\n",
      "              precision    recall  f1-score     support\n",
      "0              0.989130  0.957895  0.973262   95.000000\n",
      "1              0.916667  0.977778  0.946237   45.000000\n",
      "accuracy       0.964286  0.964286  0.964286    0.964286\n",
      "macro avg      0.952899  0.967836  0.959749  140.000000\n",
      "weighted avg   0.965839  0.964286  0.964575  140.000000\n",
      "\n",
      " SVC\n",
      "              precision    recall  f1-score     support\n",
      "0              0.978947  0.978947  0.978947   95.000000\n",
      "1              0.955556  0.955556  0.955556   45.000000\n",
      "accuracy       0.971429  0.971429  0.971429    0.971429\n",
      "macro avg      0.967251  0.967251  0.967251  140.000000\n",
      "weighted avg   0.971429  0.971429  0.971429  140.000000\n",
      "\n",
      " DecisionTreeClassifier\n",
      "              precision    recall  f1-score     support\n",
      "0              0.938776  0.968421  0.953368   95.000000\n",
      "1              0.928571  0.866667  0.896552   45.000000\n",
      "accuracy       0.935714  0.935714  0.935714    0.935714\n",
      "macro avg      0.933673  0.917544  0.924960  140.000000\n",
      "weighted avg   0.935496  0.935714  0.935106  140.000000\n",
      "\n",
      " RandomForestClassifier\n",
      "              precision    recall  f1-score     support\n",
      "0              0.968750  0.978947  0.973822   95.000000\n",
      "1              0.954545  0.933333  0.943820   45.000000\n",
      "accuracy       0.964286  0.964286  0.964286    0.964286\n",
      "macro avg      0.961648  0.956140  0.958821  140.000000\n",
      "weighted avg   0.964184  0.964286  0.964179  140.000000\n",
      "\n",
      " MLPClassifier\n",
      "              precision    recall  f1-score  support\n",
      "0              0.948980  0.978947  0.963731    95.00\n",
      "1              0.952381  0.888889  0.919540    45.00\n",
      "accuracy       0.950000  0.950000  0.950000     0.95\n",
      "macro avg      0.950680  0.933918  0.941635   140.00\n",
      "weighted avg   0.950073  0.950000  0.949527   140.00\n",
      "\n",
      " AdaBoostClassifier\n",
      "              precision    recall  f1-score  support\n",
      "0               0.94000  0.989474  0.964103    95.00\n",
      "1               0.97500  0.866667  0.917647    45.00\n",
      "accuracy        0.95000  0.950000  0.950000     0.95\n",
      "macro avg       0.95750  0.928070  0.940875   140.00\n",
      "weighted avg    0.95125  0.950000  0.949170   140.00\n",
      "\n",
      " XGBClassifier\n",
      "              precision    recall  f1-score     support\n",
      "0              0.938776  0.968421  0.953368   95.000000\n",
      "1              0.928571  0.866667  0.896552   45.000000\n",
      "accuracy       0.935714  0.935714  0.935714    0.935714\n",
      "macro avg      0.933673  0.917544  0.924960  140.000000\n",
      "weighted avg   0.935496  0.935714  0.935106  140.000000\n",
      "\n",
      " LGBMClassifier\n",
      "              precision    recall  f1-score     support\n",
      "0              0.968750  0.978947  0.973822   95.000000\n",
      "1              0.954545  0.933333  0.943820   45.000000\n",
      "accuracy       0.964286  0.964286  0.964286    0.964286\n",
      "macro avg      0.961648  0.956140  0.958821  140.000000\n",
      "weighted avg   0.964184  0.964286  0.964179  140.000000\n"
     ]
    }
   ],
   "source": [
    "# Show Classfication Report\n",
    "class_report_df\n",
    "for clf in range(class_report_df.shape[0]):\n",
    "    print('\\n', class_report_df['Classifier'].iloc[clf])\n",
    "    report = class_report_df['Report'].iloc[clf]\n",
    "    df = pd.DataFrame(report).transpose()\n",
    "    print(df)"
   ]
  },
  {
   "cell_type": "markdown",
   "metadata": {},
   "source": [
    "## GRID SEARCH - Logistic Regression"
   ]
  },
  {
   "cell_type": "markdown",
   "metadata": {},
   "source": [
    "## GRID SEARCH - K Nearest Neighbours"
   ]
  },
  {
   "cell_type": "markdown",
   "metadata": {},
   "source": [
    "## GRID SEARCH - SVM"
   ]
  },
  {
   "cell_type": "markdown",
   "metadata": {},
   "source": [
    "## GRID SEARCH - Naive Bayes"
   ]
  },
  {
   "cell_type": "markdown",
   "metadata": {},
   "source": [
    "## GRID SEARCH - Decision Tree"
   ]
  },
  {
   "cell_type": "markdown",
   "metadata": {},
   "source": [
    "## GRID SEARCH - Random Forest"
   ]
  },
  {
   "cell_type": "code",
   "execution_count": null,
   "metadata": {},
   "outputs": [],
   "source": []
  }
 ],
 "metadata": {
  "colab": {
   "collapsed_sections": [],
   "name": "Breast Cancer Detection.ipynb",
   "provenance": []
  },
  "kernelspec": {
   "display_name": "Python 3",
   "language": "python",
   "name": "python3"
  },
  "language_info": {
   "codemirror_mode": {
    "name": "ipython",
    "version": 3
   },
   "file_extension": ".py",
   "mimetype": "text/x-python",
   "name": "python",
   "nbconvert_exporter": "python",
   "pygments_lexer": "ipython3",
   "version": "3.9.1"
  }
 },
 "nbformat": 4,
 "nbformat_minor": 1
}
